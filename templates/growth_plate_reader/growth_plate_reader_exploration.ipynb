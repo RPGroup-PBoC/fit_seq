{
 "cells": [
  {
   "cell_type": "markdown",
   "metadata": {},
   "source": [
    "# Analysis of BioTek plate reader growth curves"
   ]
  },
  {
   "cell_type": "markdown",
   "metadata": {},
   "source": [
    "## Date:"
   ]
  },
  {
   "cell_type": "markdown",
   "metadata": {},
   "source": [
    "(c) 2020 Manuel Razo. This work is licensed under a [Creative Commons Attribution License CC-BY 4.0](https://creativecommons.org/licenses/by/4.0/). All code contained herein is licensed under an [MIT license](https://opensource.org/licenses/MIT)\n",
    "\n",
    "---"
   ]
  },
  {
   "cell_type": "code",
   "execution_count": null,
   "metadata": {},
   "outputs": [],
   "source": [
    "import os\n",
    "import itertools\n",
    "import git\n",
    "\n",
    "# Our numerical workhorses\n",
    "import numpy as np\n",
    "import scipy as sp\n",
    "import scipy.signal\n",
    "import pandas as pd\n",
    "\n",
    "# Import matplotlib stuff for plotting\n",
    "import matplotlib.pyplot as plt\n",
    "import matplotlib.cm as cm\n",
    "import matplotlib as mpl\n",
    "\n",
    "# Seaborn, useful for graphics\n",
    "import seaborn as sns\n",
    "\n",
    "# Import Interactive plot libraries\n",
    "import bokeh.plotting\n",
    "import bokeh.layouts\n",
    "from bokeh.themes import Theme\n",
    "import holoviews as hv\n",
    "import hvplot\n",
    "import hvplot.pandas\n",
    "import panel as pn\n",
    "\n",
    "# Import the project utils\n",
    "import fit_seq \n",
    "\n",
    "# This enables SVG graphics inline\n",
    "%config InlineBackend.figure_format = 'retina'\n",
    "\n",
    "bokeh.io.output_notebook()\n",
    "hv.extension('bokeh')"
   ]
  },
  {
   "cell_type": "code",
   "execution_count": null,
   "metadata": {},
   "outputs": [],
   "source": [
    "# Set PBoC plotting format\n",
    "fit_seq.viz.pboc_style_mpl()\n",
    "# Increase dpi\n",
    "mpl.rcParams['figure.dpi'] = 110\n",
    "\n",
    "# Set PBoC style for plot\n",
    "theme = Theme(json=fit_seq.viz.pboc_style_bokeh())\n",
    "hv.renderer('bokeh').theme = theme"
   ]
  },
  {
   "cell_type": "markdown",
   "metadata": {},
   "source": [
    "## Purpose\n",
    "Description of the experiment.\n",
    "\n",
    "  \n",
    " ## Strains\n",
    "\n",
    "| Plasmid | Genotype | Host Strain | Shorthand |\n",
    "| :------ | :------- | ----------: | --------: |\n",
    "| `pZS-eample`| `galK<>example` |  HG105 |`R0` |"
   ]
  },
  {
   "cell_type": "markdown",
   "metadata": {},
   "source": [
    "### Run metadata"
   ]
  },
  {
   "cell_type": "code",
   "execution_count": null,
   "metadata": {},
   "outputs": [],
   "source": [
    "# Find home directory for repo\n",
    "repo = git.Repo(\"./\", search_parent_directories=True)\n",
    "homedir = repo.working_dir\n",
    "\n",
    "# Find date\n",
    "workdir = os.getcwd().split('/')[-1]\n",
    "DATE = int(workdir.split('_')[0])\n",
    "RUN_NO = int(workdir.split('_')[1][-1])"
   ]
  },
  {
   "cell_type": "markdown",
   "metadata": {},
   "source": [
    "## Per-well growth rate analysis"
   ]
  },
  {
   "cell_type": "markdown",
   "metadata": {},
   "source": [
    "Let's begin by importing the growth rates as inferred with the Gaussian process method. We will start with the per-well analysis."
   ]
  },
  {
   "cell_type": "code",
   "execution_count": null,
   "metadata": {},
   "outputs": [],
   "source": [
    "df_gp = pd.read_csv(\n",
    "    f\"./output/{DATE}_r{RUN_NO}_gp_per_well.csv\", index_col=False\n",
    ")\n",
    "# Specify row and columns\n",
    "df_gp[\"row\"] = [x[0] for x in df_gp.well]\n",
    "df_gp[\"col\"] = [x[1::] for x in df_gp.well]\n",
    "\n",
    "\n",
    "def sort_by_time(df, time=\"time_min\"):\n",
    "    \"\"\"\n",
    "    Function to sort each well data by time\n",
    "    \"\"\"\n",
    "    return df.sort_values(by=time)\n",
    "\n",
    "\n",
    "# Apply function and then apply drop level to remove resulting multiindex\n",
    "df_gp = df_gp.groupby(\"well\").apply(sort_by_time).droplevel(level=0)\n",
    "\n",
    "df_gp.head()"
   ]
  },
  {
   "cell_type": "markdown",
   "metadata": {},
   "source": [
    "### Whole-plate growth curves"
   ]
  },
  {
   "cell_type": "markdown",
   "metadata": {},
   "source": [
    "Let's quickly take a look at all raw data from each well. This is just a rough look at the kind of data we are looking at."
   ]
  },
  {
   "cell_type": "code",
   "execution_count": null,
   "metadata": {},
   "outputs": [],
   "source": [
    "hv.output(size=50)\n",
    "# Generate hvplot\n",
    "df_gp.hvplot(\n",
    "    x=\"time_min\",\n",
    "    y=\"OD600\",\n",
    "    row=\"col\",\n",
    "    col=\"row\",\n",
    "    xlabel=\"time (min)\",\n",
    "    ylabel=\"OD600\",\n",
    "    xticks=3,\n",
    "    yticks=3,\n",
    ")"
   ]
  },
  {
   "cell_type": "markdown",
   "metadata": {},
   "source": [
    "### Whole-plate growth rates"
   ]
  },
  {
   "cell_type": "markdown",
   "metadata": {},
   "source": [
    "Now let's take a look at all of the growth rates."
   ]
  },
  {
   "cell_type": "code",
   "execution_count": null,
   "metadata": {},
   "outputs": [],
   "source": [
    "hv.output(size=50)\n",
    "# Generate hvplot\n",
    "df_gp.hvplot(\n",
    "    x=\"time_min\",\n",
    "    y=\"gp_growth_rate\",\n",
    "    row=\"col\",\n",
    "    col=\"row\",\n",
    "    xlabel=\"time (min)\",\n",
    "    ylabel=\"λ (min\\u207B\\u00B9)\",\n",
    "    xticks=3,\n",
    "    yticks=3,\n",
    ")"
   ]
  },
  {
   "cell_type": "markdown",
   "metadata": {},
   "source": [
    "### Per-well growth curves (with `HoloViews`)"
   ]
  },
  {
   "cell_type": "markdown",
   "metadata": {},
   "source": [
    "These measurements are really noisy, especially at the beginning of the growth curves. Let's take a look at the individual trajectories. For this we will use `HoloViews` rather than `hvplot` to quickly get an interactive widget with which change the curve."
   ]
  },
  {
   "cell_type": "code",
   "execution_count": null,
   "metadata": {},
   "outputs": [],
   "source": [
    "# Generate curves per well with dropdown menu\n",
    "hv_OD = hv.Curve(\n",
    "    data=df_gp,\n",
    "    kdims=[(\"time_min\", \"time (min)\",), (\"OD600\", \"OD600\")],\n",
    "    vdims=[\"well\"],\n",
    ").groupby(\"well\")\n",
    "\n",
    "hv_gr = hv.Curve(\n",
    "    data=df_gp,\n",
    "    kdims=[\n",
    "        (\"time_min\", \"time (min)\",),\n",
    "        (\"gp_growth_rate\", \"growth rate (min\\u207B\\u00B9)\"),\n",
    "    ],\n",
    "    vdims=[\"well\"],\n",
    ").groupby(\"well\")\n",
    "\n",
    "# Generate layout for plots on top of each other\n",
    "hv_layout = hv.Layout(\n",
    "    hv_OD.opts(width=800, height=400, xlabel=\"\")\n",
    "    + hv_gr.opts(width=800, height=400)\n",
    ").cols(1)\n",
    "hv_layout"
   ]
  },
  {
   "cell_type": "markdown",
   "metadata": {},
   "source": [
    "### grouped curves (with `Panel`)"
   ]
  },
  {
   "cell_type": "markdown",
   "metadata": {},
   "source": [
    "Another way to display these data is by grouping by the strain and the selection they grew in rather than by single well to account for technical replicates."
   ]
  },
  {
   "cell_type": "code",
   "execution_count": null,
   "metadata": {},
   "outputs": [],
   "source": [
    "# Define widgets to interact with plot\n",
    "# unique strains\n",
    "strain = pn.widgets.CheckButtonGroup(\n",
    "    name=\"strain\", options=list(df_gp.strain.unique()), button_type=\"primary\"\n",
    ")\n",
    "# negative selection\n",
    "pos_selection = pn.widgets.CheckButtonGroup(\n",
    "    name=\"pos selection\",\n",
    "    options=list(df_gp.pos_selection.unique()),\n",
    "    button_type=\"success\",\n",
    ")\n",
    "# time window\n",
    "time_slider = pn.widgets.RangeSlider(\n",
    "    name=\"time range (min)\",\n",
    "    start=0,\n",
    "    end=df_gp.time_min.max(),\n",
    "    value=(0, df_gp.time_min.max()),\n",
    "    step=5,\n",
    ")\n",
    "\n",
    "# Generate function to plot the data\n",
    "@pn.depends(\n",
    "    strain.param.value, pos_selection.param.value, time_slider.param.value\n",
    ")\n",
    "def plot_groups(strain, pos_selection, time_slider):\n",
    "    \"\"\"\n",
    "    Function to generate interactive plot\n",
    "    \"\"\"\n",
    "    # Initialize list to save plots\n",
    "    od_plots = list()\n",
    "    gr_plots = list()\n",
    "    # Generate all pairs of groups\n",
    "    groups = list(itertools.product(strain, pos_selection))\n",
    "    \n",
    "    # Define colors for groups\n",
    "    colors = bokeh.palettes.Category10[10][0:len(groups)]\n",
    "    # Set colors in dictionary\n",
    "    col_dict = dict(zip(groups, colors))\n",
    "    # Check if groups are being selected\n",
    "    if len(groups) > 0:\n",
    "        # Initialize figure for OD600\n",
    "        od_fig = bokeh.plotting.figure(\n",
    "            width=800,\n",
    "            height=250,\n",
    "            x_axis_label=\"\",\n",
    "            y_axis_label=\"OD600\",\n",
    "            toolbar_location=\"above\",\n",
    "            tools=[\"box_zoom\", \"pan\", \"wheel_zoom\", \"reset\"],\n",
    "        )\n",
    "        # Add legend outside plot\n",
    "        od_fig.add_layout(bokeh.models.Legend(), 'right')\n",
    "        \n",
    "        # Initialize figure for growth rate\n",
    "        gr_fig = bokeh.plotting.figure(\n",
    "            width=800,\n",
    "            height=250,\n",
    "            x_axis_label=\"time (min)\",\n",
    "            y_axis_label=\"growth rate\",\n",
    "            toolbar_location=None,\n",
    "            x_range=od_fig.x_range,\n",
    "            tools=\"\"\n",
    "        )\n",
    "        \n",
    "        # Loop through groups and plot each group\n",
    "        for group in groups:\n",
    "            # Extract data\n",
    "            data = df_gp[\n",
    "                (df_gp[\"strain\"] == group[0])\n",
    "                & (df_gp[\"pos_selection\"] == group[1])\n",
    "            ].sort_values(by=\"time_min\")\n",
    "            \n",
    "            # Group by wells\n",
    "            data_group = data.groupby(\"well\")\n",
    "            \n",
    "            # Loop through wells\n",
    "            for i, (g, df) in enumerate(data_group):\n",
    "                # Declare bokeh data source\n",
    "                source = bokeh.models.ColumnDataSource(df)\n",
    "                \n",
    "                # Plot growth curve\n",
    "                od_fig.line(\n",
    "                    x=\"time_min\",\n",
    "                    y=\"OD600\",\n",
    "                    source=source,\n",
    "                    line_width=1.5,\n",
    "                    legend_label=f\"{group[0]} - {group[1]}\",\n",
    "                    color=col_dict[group],\n",
    "                    \n",
    "                )\n",
    "                # Plot growth curve\n",
    "                gr_fig.line(\n",
    "                    x=\"time_min\",\n",
    "                    y=\"gp_growth_rate\",\n",
    "                    source=source,\n",
    "                    line_width=1.5,\n",
    "                    color=col_dict[group],\n",
    "                )\n",
    "            # Add hover tools to check which well\n",
    "            od_fig.add_tools(bokeh.models.HoverTool(tooltips=[(\"well\", \"@well\")]))\n",
    "            gr_fig.add_tools(bokeh.models.HoverTool(tooltips=[(\"well\", \"@well\")]))\n",
    "                \n",
    "        # Apply PBoC format\n",
    "        fit_seq.viz.pboc_single(od_fig)\n",
    "        fit_seq.viz.pboc_single(gr_fig)\n",
    "        \n",
    "        return pn.pane.Bokeh(bokeh.layouts.column([od_fig, gr_fig]))\n",
    "\n",
    "pn.Column(\n",
    "    strain,\n",
    "    pos_selection,\n",
    "    time_slider,\n",
    "    plot_groups,\n",
    ")"
   ]
  }
 ],
 "metadata": {
  "kernelspec": {
   "display_name": "Python 3",
   "language": "python",
   "name": "python3"
  },
  "language_info": {
   "codemirror_mode": {
    "name": "ipython",
    "version": 3
   },
   "file_extension": ".py",
   "mimetype": "text/x-python",
   "name": "python",
   "nbconvert_exporter": "python",
   "pygments_lexer": "ipython3",
   "version": "3.7.7"
  }
 },
 "nbformat": 4,
 "nbformat_minor": 4
}
