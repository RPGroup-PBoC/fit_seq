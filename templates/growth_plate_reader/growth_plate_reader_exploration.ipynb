{
 "cells": [
  {
   "cell_type": "markdown",
   "metadata": {},
   "source": [
    "# Processing & Analysis of Biotek Plate Reader Records\n",
    "\n",
    "© 2019 Griffin Chure. This work is licensed under a [Creative Commons Attribution License CC-BY 4.0](https://creativecommons.org/licenses/by/4.0/). All code contained herein is licensed under an [MIT license](https://opensource.org/licenses/MIT).\n",
    "\n",
    "--- "
   ]
  },
  {
   "cell_type": "code",
   "execution_count": null,
   "metadata": {},
   "outputs": [],
   "source": [
    "import sys\n",
    "sys.path.insert(0, '../../../../')\n",
    "import numpy as np\n",
    "import pandas as pd\n",
    "import string\n",
    "import os\n",
    "import matplotlib.pyplot as plt\n",
    "import mwc.viz\n",
    "colors = mwc.viz.personal_style()"
   ]
  },
  {
   "cell_type": "code",
   "execution_count": null,
   "metadata": {},
   "outputs": [],
   "source": [
    "# Define the experimental constants\n",
    "DATE = \n",
    "TEMP = \n",
    "\n",
    "alpha_map = {alpha:no for alpha, no in zip(string.ascii_uppercase, np.arange(0, 27, 1) * 12)}\n",
    "alphanumeric_map = {f'{a}{n}':alpha_map[a] + n for n in np.arange(1, 13, 1) for a in string.ascii_uppercase}\n",
    "row_letters = {no:alpha for no, alpha in zip(np.arange(0, 27, 1),string.ascii_uppercase)}\n",
    "\n",
    "# Load the data. \n",
    "data = pd.read_csv(f'output/growth_plate.csv')"
   ]
  },
  {
   "cell_type": "markdown",
   "metadata": {},
   "source": [
    "## Clean Data"
   ]
  },
  {
   "cell_type": "code",
   "execution_count": null,
   "metadata": {},
   "outputs": [],
   "source": [
    "# Look for wells affected by plastic dust or OD spikes.\n",
    "excluded_wells = []\n",
    "# for i in ['D5','D6','D7','E5','E6','E7','F5','F6','F7']:\n",
    "#     excluded_wells.append(alphanumeric_map[i])\n",
    "\n",
    "# Set viewing ranges\n",
    "row_min, row_max, col_min, col_max = [2,6,2,10] \n",
    "# 0 refers to the first row or column (A or 1), so set the minimum 1 less than the coordinate of the row/column you want.\n",
    "# To get the four middle rows, use 2,6. To get the eight middle columns, use 2,10.\n",
    "\n",
    "fig, ax = plt.subplots(row_max-row_min, col_max-col_min, figsize=(10, 6))\n",
    "for r in np.arange(row_min,row_max,1):\n",
    "    for c in np.arange(col_min,col_max,1):\n",
    "        ax[r-row_min][c-col_min].set_ylim([0, 1])\n",
    "        ax[r-row_min][c-col_min].get_xaxis().set_visible(False)\n",
    "        ax[r-row_min][c-col_min].get_yaxis().set_visible(False)\n",
    "        row_letter = row_letters[r]\n",
    "        well_id = alphanumeric_map[f'{row_letter}{c+1}']\n",
    "        well_dat = data[data['well_id']==well_id]\n",
    "        ax[r-row_min][c-col_min].scatter(well_dat['time_min'], well_dat['od_600nm'], marker='.', s=0.2)\n",
    "        if well_id in excluded_wells:\n",
    "            ax[r-row_min][c-col_min].set_facecolor('lavender')\n",
    "for c in np.arange(0,col_max-col_min,1):\n",
    "    ax[0][c].set_title(str(c+1+col_min),fontsize=10)\n",
    "for r in np.arange(0,row_max-row_min,1):\n",
    "    ax[r][0].get_yaxis().set_visible(True)\n",
    "    ax[r][0].get_yaxis().set_ticks([])\n",
    "    ax[r][0].set_ylabel(row_letters[r+row_min],rotation='horizontal',fontsize=10,labelpad=10)\n",
    "\n",
    "plt.tight_layout()"
   ]
  },
  {
   "cell_type": "markdown",
   "metadata": {},
   "source": [
    "[comments]"
   ]
  },
  {
   "cell_type": "code",
   "execution_count": null,
   "metadata": {},
   "outputs": [],
   "source": [
    "# # Remove dirty wells. \n",
    "# data = data[~data.well_id.isin(excluded_wells)].copy()\n",
    "# data.to_csv(f'output/growth_plate.csv', index=False)"
   ]
  },
  {
   "cell_type": "markdown",
   "metadata": {},
   "source": [
    "## Set Ranges for Analysis"
   ]
  },
  {
   "cell_type": "markdown",
   "metadata": {},
   "source": [
    "### Subtract Background"
   ]
  },
  {
   "cell_type": "code",
   "execution_count": null,
   "metadata": {},
   "outputs": [],
   "source": [
    "# Generate a dictionary of the mean blank at each time point. \n",
    "blank_vals = {t:val['od_600nm'].mean() for t, val in data[data['strain']=='blank'].groupby(['time_min'])}\n",
    "\n",
    "# Add mean blank values for each time point to the dataframe, as well as background subtracted OD values.\n",
    "for k, v in blank_vals.items():\n",
    "    data.loc[data['time_min']==k, 'blank_val'] = v\n",
    "data['od_sub'] = data['od_600nm'] - data['blank_val']"
   ]
  },
  {
   "cell_type": "markdown",
   "metadata": {},
   "source": [
    "### [Strain] in [Carbon]"
   ]
  },
  {
   "cell_type": "code",
   "execution_count": null,
   "metadata": {},
   "outputs": [],
   "source": [
    "current_strain = ''\n",
    "current_carbon = ''\n",
    "\n",
    "# Create strain-carbon output directory\n",
    "if os.path.exists(f'./output/{current_strain}_{current_carbon}') == False:\n",
    "    os.mkdir(f'./output/{current_strain}_{current_carbon}')"
   ]
  },
  {
   "cell_type": "markdown",
   "metadata": {},
   "source": [
    "#### Plot the Data"
   ]
  },
  {
   "cell_type": "code",
   "execution_count": null,
   "metadata": {},
   "outputs": [],
   "source": [
    "# Save range(s)\n",
    "ranges = [['XX'],[XX],[XX]] #[list of growth conditions ('straincarbon'), list of min times, list of max times]\n",
    "np.savetxt(f'output/ranges.csv',ranges,fmt='%s', delimiter=',')"
   ]
  },
  {
   "cell_type": "code",
   "execution_count": null,
   "metadata": {},
   "outputs": [],
   "source": [
    "# Load range\n",
    "ranges_df = pd.read_csv('output/ranges.csv')\n",
    "XMIN = ranges_df[current_strain+current_carbon][0]\n",
    "XMAX = ranges_df[current_strain+current_carbon][1]"
   ]
  },
  {
   "cell_type": "markdown",
   "metadata": {},
   "source": [
    "View full curve and exponential subset."
   ]
  },
  {
   "cell_type": "code",
   "execution_count": null,
   "metadata": {},
   "outputs": [],
   "source": [
    "# Plot the growth data. \n",
    "grouped = data[(data['strain']==current_strain) & (data['carbon']==current_carbon)].groupby(\n",
    "    ['time_min']).agg(('mean', 'std')).reset_index()\n",
    "fig, ax = plt.subplots(1, 2, figsize=(8, 4))\n",
    "for i in range(2):\n",
    "    ax[i].set_xlabel('time [min]', fontsize=10)\n",
    "    ax[i].set_ylabel('background subtracted OD', fontsize=10)\n",
    "\n",
    "ax[1].set_yscale('log')\n",
    "ax[1].set_xlim([XMIN, XMAX])\n",
    "ax[0].errorbar(grouped['time_min'], grouped['od_sub']['mean'], grouped['od_sub']['std'], linestyle='none',\n",
    "           lw=1, capsize=1, fmt='.')\n",
    "ax[1].errorbar(grouped['time_min'], grouped['od_sub']['mean'], grouped['od_sub']['std'], linestyle='none',\n",
    "           lw=1, capsize=1, fmt='.')\n",
    "fig.suptitle(f'{DATE}_r{RUN_NO}_{TEMP}C_{CARBON}_{STRAIN} growth curves full and inset', y=0.96)\n",
    "plt.tight_layout()\n",
    "plt.subplots_adjust(top=0.89)\n",
    "plt.savefig(f'output/{current_strain}_{current_carbon}/growth_curves_full_and_inset.png')"
   ]
  },
  {
   "cell_type": "markdown",
   "metadata": {},
   "source": [
    "View the exponential region up close."
   ]
  },
  {
   "cell_type": "code",
   "execution_count": null,
   "metadata": {},
   "outputs": [],
   "source": [
    "# Restrict to the desired range\n",
    "restricted = data[(data['strain']==current_strain) & (data['carbon']==current_carbon) & \n",
    "                  (data['time_min'] >= XMIN) & (data['time_min'] <= XMAX)].copy()\n",
    "# Plot the data\n",
    "fig, ax = plt.subplots(1, 1)\n",
    "ax.semilogy(restricted['time_min'], restricted['od_sub'], '.')\n",
    "ax.set_xlabel('time [min]', fontsize=10)\n",
    "ax.set_ylabel('background subtracted OD', fontsize=10)"
   ]
  },
  {
   "cell_type": "markdown",
   "metadata": {},
   "source": [
    "View restricted region without log scaling."
   ]
  },
  {
   "cell_type": "code",
   "execution_count": null,
   "metadata": {},
   "outputs": [],
   "source": [
    "plt.plot(restricted['time_min'], restricted['od_sub'], '.')"
   ]
  },
  {
   "cell_type": "code",
   "execution_count": null,
   "metadata": {},
   "outputs": [],
   "source": []
  }
 ],
 "metadata": {
  "kernelspec": {
   "display_name": "Python 3",
   "language": "python",
   "name": "python3"
  },
  "language_info": {
   "codemirror_mode": {
    "name": "ipython",
    "version": 3
   },
   "file_extension": ".py",
   "mimetype": "text/x-python",
   "name": "python",
   "nbconvert_exporter": "python",
   "pygments_lexer": "ipython3",
   "version": "3.6.4"
  }
 },
 "nbformat": 4,
 "nbformat_minor": 2
}
