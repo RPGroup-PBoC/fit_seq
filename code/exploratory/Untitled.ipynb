{
 "cells": [
  {
   "cell_type": "markdown",
   "id": "e1c1a0a0-14c1-4308-992a-5b21bdb8327a",
   "metadata": {},
   "source": [
    "# Using Stan to solve resistance model"
   ]
  },
  {
   "cell_type": "markdown",
   "id": "eac872b9-20ca-4793-819c-3b3a4707fb62",
   "metadata": {},
   "source": [
    "(c) 2021 Manuel Razo & Tom Röschinger. This work is licensed under a \n",
    "[Creative Commons Attribution License CC-BY 4.0](https://creativecommons.org/licenses/by/4.0/). \n",
    "All code contained herein is licensed under an \n",
    "[MIT license](https://opensource.org/licenses/MIT)."
   ]
  },
  {
   "cell_type": "markdown",
   "id": "70242ce9-2046-4ab9-9aef-59ea0e9d3152",
   "metadata": {},
   "source": [
    "***"
   ]
  },
  {
   "cell_type": "code",
   "execution_count": 15,
   "id": "39af25dd-ea16-45e5-8c65-cbf8a64c74d2",
   "metadata": {},
   "outputs": [],
   "source": [
    "using Distributed, Jedi, CairoMakie, CSV, StanSample, Glob, Statistics, ColorSchemes, Colors, Distributed\n",
    "addprocs(2)\n",
    "\n",
    "@everywhere begin\n",
    "    using StanSample\n",
    "    using DataFrames\n",
    "    using Statistics\n",
    "end\n",
    "\n",
    "Jedi.styles.default_makie!()"
   ]
  },
  {
   "cell_type": "code",
   "execution_count": null,
   "id": "c6753fbb-b67a-4b65-976b-f44570982b79",
   "metadata": {},
   "outputs": [],
   "source": []
  },
  {
   "cell_type": "markdown",
   "id": "675b6308-54ec-4c01-a8a9-a552baf83892",
   "metadata": {},
   "source": [
    "First we try to use Stan to find the maximum growth rate in each growth curve. First we will use a Gaussian Process to do so."
   ]
  },
  {
   "cell_type": "code",
   "execution_count": 5,
   "id": "395dba68-213f-4afc-a677-b6fc8a33ce5b",
   "metadata": {},
   "outputs": [],
   "source": [
    "resistance_model = \"\n",
    "functions {\n",
    "   real poly(\n",
    "       real K_d,\n",
    "       real kappa_t,\n",
    "       real j,\n",
    "       real delta_r,\n",
    "       real lambda_0,\n",
    "       real K_M,\n",
    "       real V_0,\n",
    "       real a_ex,\n",
    "       real lambda\n",
    "   ){\n",
    "       real c1 = K_d * delta_r * kappa_t;\n",
    "       real a_3 = c1* (K_M * lambda_0 - c1 + V_0);\n",
    "     \n",
    "       vector[3] a_2;\n",
    "       a_2[1] = K_M * j * a_ex * lambda_0^2;\n",
    "       a_2[2] = c1^2 * (-j + 2*lambda_0);\n",
    "       a_2[3] = c1 * lambda_0 * (K_M * j - K_M * lambda_0 - j * a_ex - V_0);\n",
    "\n",
    "       real a_1 = c1 * lambda_0 * (-K_M * j * lambda_0 + c1 * (2 * j - lambda_0) + j * a_ex * lambda_0);\n",
    "\n",
    "       real a_0 = -c1^2 * lambda_0^2 * j;\n",
    "\n",
    "       return a_3 * lambda^3 + sum(a_2) * lambda^2 + a_1 * lambda + a_0; \n",
    "   }\n",
    "\n",
    "   vector system(\n",
    "        vector y,        // unknowns\n",
    "        vector theta,    // parameters\n",
    "        real[] x_r, // data (real)\n",
    "        int[] x_i) {     // data (integer)\n",
    "  vector[1] z;\n",
    "  z[1] = poly(theta[1], theta[2], theta[3], theta[4], theta[5], theta[6], theta[7], theta[8], y[1]);\n",
    "  return z;\n",
    "}\n",
    "\n",
    "}\n",
    "\n",
    "data {\n",
    "    real K_d;\n",
    "    real kappa_t;\n",
    "    real j;\n",
    "    real delta_r;\n",
    "    real lambda_0;\n",
    "    real K_M;\n",
    "    int N;\n",
    "    real a_ex[N];\n",
    "    real lambda[N];\n",
    "    \n",
    "}\n",
    "\n",
    "transformed data {\n",
    "  vector[1] y_guess;\n",
    "  y_guess[1] = lambda_0;\n",
    "  real x_r[0];\n",
    "  int x_i[0];\n",
    "}\n",
    "\n",
    "parameters {\n",
    "  real log_V_0;\n",
    "}\n",
    "\n",
    "transformed parameters {\n",
    "  real V_0 = 10^log_V_0;\n",
    "\n",
    "  vector[8] theta;\n",
    "  theta[1] = K_d;\n",
    "  theta[2] = kappa_t;\n",
    "  theta[3] = j;\n",
    "  theta[4] = delta_r;\n",
    "  theta[5] = lambda_0;\n",
    "  theta[6] = K_M;\n",
    "  theta[7] = V_0;\n",
    "  theta[8] = 0;\n",
    "  vector[N] y;\n",
    "  for (i in 1:N){\n",
    "      theta[8] = a_ex[i];\n",
    "      y[i] = algebra_solver_newton(system, y_guess, theta, x_r, x_i)[1];\n",
    "  }\n",
    "  \n",
    "}\n",
    "\n",
    "\n",
    "model {\n",
    "    log_V_0 ~ normal(0, 3);\n",
    "    \n",
    "\n",
    "}\n",
    "/*\n",
    "generated quantities {\n",
    "    real c;\n",
    "    c = poly(K_d, kappa_t, j, delta_r, lambda_0, K_M, V_0, a_ex, y[1]);\n",
    "}\n",
    "*/\n",
    "\n",
    "\";"
   ]
  },
  {
   "cell_type": "code",
   "execution_count": 6,
   "id": "0165266d-d166-4c2f-a897-015f762c5569",
   "metadata": {},
   "outputs": [
    {
     "data": {
      "text/plain": [
       "Dict{String, Any} with 9 entries:\n",
       "  \"K_M\"      => 10\n",
       "  \"V_0\"      => 0\n",
       "  \"delta_r\"  => 46.5\n",
       "  \"a_ex\"     => [0, 1, 5, 10]\n",
       "  \"lambda_0\" => 0.68\n",
       "  \"j\"        => 100\n",
       "  \"N\"        => 4\n",
       "  \"K_d\"      => 0.1\n",
       "  \"kappa_t\"  => 0.06"
      ]
     },
     "execution_count": 6,
     "metadata": {},
     "output_type": "execute_result"
    }
   ],
   "source": [
    "data = Dict(    \n",
    "    \"K_d\" => 0.1,\n",
    "    \"kappa_t\"=>0.06,\n",
    "    \"j\" => 100,\n",
    "    \"delta_r\" => 46.5,\n",
    "    \"lambda_0\" =>0.68,\n",
    "    \"K_M\" => 10,\n",
    "    \"V_0\" => 0,\n",
    "    \"N\" => 4,\n",
    "    \"a_ex\" => [0, 1, 5, 10]\n",
    "    \n",
    ")"
   ]
  },
  {
   "cell_type": "code",
   "execution_count": 16,
   "id": "0a53ceb6-cc6b-4f8e-b747-00610d4b1a62",
   "metadata": {},
   "outputs": [
    {
     "name": "stdout",
     "output_type": "stream",
     "text": [
      "\n",
      "/var/folders/lt/c_93j4d15l1bgn9mncp1y18r0000gn/T/jl_6vK81H/resistance_model.stan updated.\n"
     ]
    },
    {
     "ename": "LoadError",
     "evalue": "\nError when compiling SampleModel resistance_model:\nmake: *** [/var/folders/lt/c_93j4d15l1bgn9mncp1y18r0000gn/T/jl_6vK81H/resistance_model] Interrupt: 2\n",
     "output_type": "error",
     "traceback": [
      "\nError when compiling SampleModel resistance_model:\nmake: *** [/var/folders/lt/c_93j4d15l1bgn9mncp1y18r0000gn/T/jl_6vK81H/resistance_model] Interrupt: 2\n",
      "",
      "Stacktrace:",
      " [1] SampleModel(name::String, model::String, tmpdir::String)",
      "   @ StanSample ~/.julia/packages/StanSample/wyxSP/src/stanmodel/SampleModel.jl:105",
      " [2] SampleModel(name::String, model::String)",
      "   @ StanSample ~/.julia/packages/StanSample/wyxSP/src/stanmodel/SampleModel.jl:90",
      " [3] top-level scope",
      "   @ In[16]:1",
      " [4] eval",
      "   @ ./boot.jl:360 [inlined]",
      " [5] include_string(mapexpr::typeof(REPL.softscope), mod::Module, code::String, filename::String)",
      "   @ Base ./loading.jl:1094"
     ]
    }
   ],
   "source": [
    "sm = SampleModel(\"resistance_model\", resistance_model)\n",
    "rc = stan_sample(sm; data, num_chains=2);"
   ]
  },
  {
   "cell_type": "code",
   "execution_count": 8,
   "id": "0f4fc665-d942-49e5-9081-ada97505b0fb",
   "metadata": {},
   "outputs": [
    {
     "ename": "LoadError",
     "evalue": "UndefVarError: idx not defined",
     "output_type": "error",
     "traceback": [
      "UndefVarError: idx not defined",
      "",
      "Stacktrace:",
      " [1] read_csv_files(model::SampleModel, output_format::Symbol; include_internals::Bool, chains::UnitRange{Int64}, start::Int64, kwargs::Base.Iterators.Pairs{Union{}, Union{}, Tuple{}, NamedTuple{(), Tuple{}}})",
      "   @ StanSample ~/.julia/packages/StanSample/wyxSP/src/stansamples/read_csv_files.jl:83",
      " [2] #read_samples#34",
      "   @ ~/.julia/packages/StanSample/wyxSP/src/stansamples/read_samples.jl:88 [inlined]",
      " [3] read_samples (repeats 2 times)",
      "   @ ~/.julia/packages/StanSample/wyxSP/src/stansamples/read_samples.jl:88 [inlined]",
      " [4] top-level scope",
      "   @ In[8]:1",
      " [5] eval",
      "   @ ./boot.jl:360 [inlined]",
      " [6] include_string(mapexpr::typeof(REPL.softscope), mod::Module, code::String, filename::String)",
      "   @ Base ./loading.jl:1094"
     ]
    }
   ],
   "source": [
    "st = read_samples(sm)\n",
    "st[Symbol(\"y.1\")][1]"
   ]
  },
  {
   "cell_type": "markdown",
   "id": "82401e6a-2537-4384-9dc0-422141c266a6",
   "metadata": {},
   "source": [
    "## Load Data"
   ]
  },
  {
   "cell_type": "code",
   "execution_count": 17,
   "id": "ef167834-6567-42b2-b57e-79af81569fd8",
   "metadata": {},
   "outputs": [
    {
     "data": {
      "text/plain": [
       "3-element Vector{String}:\n",
       " \"../processing/growth_curves_plate_reader/20210712_r1_MG1655_319_IW_UV5_WT_tc/\"\n",
       " \"../processing/growth_curves_plate_reader/20210713_r2_MG1655_319_IW_UV5_WT_tc/\"\n",
       " \"../processing/growth_curves_plate_reader/20210714_r3_MG1655_319_IW_UV5_WT_tc/\""
      ]
     },
     "execution_count": 17,
     "metadata": {},
     "output_type": "execute_result"
    }
   ],
   "source": [
    "folder_list = [#'../processing/growth_curves_plate_reader/20210604_r1_MG1655_319_IW_tc/',\n",
    "              # '../processing/growth_curves_plate_reader/20210606_r1_MG1655_319_IW__UV5_WT_tc/',\n",
    "               #'../processing/growth_curves_plate_reader/20210608_r2_MG1655_319_IW_tc/',\n",
    "    \"../processing/growth_curves_plate_reader/20210712_r1_MG1655_319_IW_UV5_WT_tc/\",\n",
    "    \"../processing/growth_curves_plate_reader/20210713_r2_MG1655_319_IW_UV5_WT_tc/\",\n",
    "    \"../processing/growth_curves_plate_reader/20210714_r3_MG1655_319_IW_UV5_WT_tc/\"\n",
    "]"
   ]
  },
  {
   "cell_type": "code",
   "execution_count": 18,
   "id": "6dde51ba-7183-4af1-a0af-06f30f27d85e",
   "metadata": {},
   "outputs": [
    {
     "data": {
      "text/plain": [
       "3-element Vector{Vector{String}}:\n",
       " [\"../processing/growth_curves_plate_reader/20210712_r1_MG1655_319_IW_UV5_WT_tc/output/20210712_r1_gp_per_well.csv\"]\n",
       " [\"../processing/growth_curves_plate_reader/20210713_r2_MG1655_319_IW_UV5_WT_tc/output/20210713_r2_gp_per_well.csv\"]\n",
       " [\"../processing/growth_curves_plate_reader/20210714_r3_MG1655_319_IW_UV5_WT_tc/output/20210714_r3_gp_per_well.csv\"]"
      ]
     },
     "execution_count": 18,
     "metadata": {},
     "output_type": "execute_result"
    }
   ],
   "source": [
    "outputs = Glob.glob.(folder_list .* \"output/*_gp_per_well.csv\")"
   ]
  },
  {
   "cell_type": "code",
   "execution_count": 19,
   "id": "1e466944-9c64-49e4-93f0-d07494191b4f",
   "metadata": {},
   "outputs": [
    {
     "data": {
      "text/html": [
       "<div class=\"data-frame\"><p>5 rows × 23 columns (omitted printing of 15 columns)</p><table class=\"data-frame\"><thead><tr><th></th><th>time_min</th><th>temp_C</th><th>OD600</th><th>strain</th><th>well</th><th>media</th><th>pos_selection</th><th>promoter</th></tr><tr><th></th><th title=\"Float64\">Float64</th><th title=\"Float64\">Float64</th><th title=\"Float64\">Float64</th><th title=\"String7\">String7</th><th title=\"String3\">String3</th><th title=\"String15\">String15</th><th title=\"String15\">String15</th><th title=\"String7\">String7</th></tr></thead><tbody><tr><th>1</th><td>24.1667</td><td>37.1</td><td>0.042</td><td>MG1655</td><td>A02</td><td>M9_0.5%_glucose</td><td>0_µg/ml_tc</td><td>MG1655</td></tr><tr><th>2</th><td>49.1667</td><td>37.0</td><td>0.044</td><td>MG1655</td><td>A02</td><td>M9_0.5%_glucose</td><td>0_µg/ml_tc</td><td>MG1655</td></tr><tr><th>3</th><td>74.1667</td><td>37.1</td><td>0.046</td><td>MG1655</td><td>A02</td><td>M9_0.5%_glucose</td><td>0_µg/ml_tc</td><td>MG1655</td></tr><tr><th>4</th><td>99.1667</td><td>37.1</td><td>0.048</td><td>MG1655</td><td>A02</td><td>M9_0.5%_glucose</td><td>0_µg/ml_tc</td><td>MG1655</td></tr><tr><th>5</th><td>124.167</td><td>37.0</td><td>0.051</td><td>MG1655</td><td>A02</td><td>M9_0.5%_glucose</td><td>0_µg/ml_tc</td><td>MG1655</td></tr></tbody></table></div>"
      ],
      "text/latex": [
       "\\begin{tabular}{r|ccccccccc}\n",
       "\t& time\\_min & temp\\_C & OD600 & strain & well & media & pos\\_selection & promoter & \\\\\n",
       "\t\\hline\n",
       "\t& Float64 & Float64 & Float64 & String7 & String3 & String15 & String15 & String7 & \\\\\n",
       "\t\\hline\n",
       "\t1 & 24.1667 & 37.1 & 0.042 & MG1655 & A02 & M9\\_0.5\\%\\_glucose & 0\\_µg/ml\\_tc & MG1655 & $\\dots$ \\\\\n",
       "\t2 & 49.1667 & 37.0 & 0.044 & MG1655 & A02 & M9\\_0.5\\%\\_glucose & 0\\_µg/ml\\_tc & MG1655 & $\\dots$ \\\\\n",
       "\t3 & 74.1667 & 37.1 & 0.046 & MG1655 & A02 & M9\\_0.5\\%\\_glucose & 0\\_µg/ml\\_tc & MG1655 & $\\dots$ \\\\\n",
       "\t4 & 99.1667 & 37.1 & 0.048 & MG1655 & A02 & M9\\_0.5\\%\\_glucose & 0\\_µg/ml\\_tc & MG1655 & $\\dots$ \\\\\n",
       "\t5 & 124.167 & 37.0 & 0.051 & MG1655 & A02 & M9\\_0.5\\%\\_glucose & 0\\_µg/ml\\_tc & MG1655 & $\\dots$ \\\\\n",
       "\\end{tabular}\n"
      ],
      "text/plain": [
       "\u001b[1m5×23 DataFrame\u001b[0m\n",
       "\u001b[1m Row \u001b[0m│\u001b[1m time_min \u001b[0m\u001b[1m temp_C  \u001b[0m\u001b[1m OD600   \u001b[0m\u001b[1m strain  \u001b[0m\u001b[1m well    \u001b[0m\u001b[1m media           \u001b[0m\u001b[1m pos_sele\u001b[0m ⋯\n",
       "\u001b[1m     \u001b[0m│\u001b[90m Float64  \u001b[0m\u001b[90m Float64 \u001b[0m\u001b[90m Float64 \u001b[0m\u001b[90m String7 \u001b[0m\u001b[90m String3 \u001b[0m\u001b[90m String15        \u001b[0m\u001b[90m String15\u001b[0m ⋯\n",
       "─────┼──────────────────────────────────────────────────────────────────────────\n",
       "   1 │  24.1667     37.1    0.042  MG1655   A02      M9_0.5%_glucose  0_µg/ml_ ⋯\n",
       "   2 │  49.1667     37.0    0.044  MG1655   A02      M9_0.5%_glucose  0_µg/ml_\n",
       "   3 │  74.1667     37.1    0.046  MG1655   A02      M9_0.5%_glucose  0_µg/ml_\n",
       "   4 │  99.1667     37.1    0.048  MG1655   A02      M9_0.5%_glucose  0_µg/ml_\n",
       "   5 │ 124.167      37.0    0.051  MG1655   A02      M9_0.5%_glucose  0_µg/ml_ ⋯\n",
       "\u001b[36m                                                              17 columns omitted\u001b[0m"
      ]
     },
     "execution_count": 19,
     "metadata": {},
     "output_type": "execute_result"
    }
   ],
   "source": [
    "df = CSV.read(outputs[1], DataFrame)\n",
    "first(df, 5)"
   ]
  },
  {
   "cell_type": "code",
   "execution_count": 20,
   "id": "38e2e79c-7f12-4202-a7b0-0856743aae22",
   "metadata": {},
   "outputs": [
    {
     "data": {
      "text/plain": [
       "23-element Vector{String}:\n",
       " \"time_min\"\n",
       " \"temp_C\"\n",
       " \"OD600\"\n",
       " \"strain\"\n",
       " \"well\"\n",
       " \"media\"\n",
       " \"pos_selection\"\n",
       " \"promoter\"\n",
       " \"volume_marker\"\n",
       " \"date\"\n",
       " \"run_number\"\n",
       " \"blank_val\"\n",
       " \"OD_sub\"\n",
       " \"logistic_growth_rate\"\n",
       " \"logistic_carrying_capacity\"\n",
       " \"gp_OD600\"\n",
       " \"log_OD600\"\n",
       " \"gp_OD600_std\"\n",
       " \"log_OD600_std\"\n",
       " \"gp_growth_rate\"\n",
       " \"gp_growth_rate_std\"\n",
       " \"gp_doubling_time\"\n",
       " \"gp_doubling_time_std\""
      ]
     },
     "execution_count": 20,
     "metadata": {},
     "output_type": "execute_result"
    }
   ],
   "source": [
    "names(df)"
   ]
  },
  {
   "cell_type": "code",
   "execution_count": 22,
   "id": "cd53de9a-6ab7-4511-bb77-91e63b1fe665",
   "metadata": {},
   "outputs": [],
   "source": [
    "strains = df.strain |> unique\n",
    "df[!, :tc] = map(x -> parse(Float64, split(x, '_')[1]), df.pos_selection);"
   ]
  },
  {
   "cell_type": "code",
   "execution_count": null,
   "id": "a0ae0a57-56ef-4eaf-8422-bd90656c75b6",
   "metadata": {},
   "outputs": [],
   "source": [
    "fig = Figure(resolution=(600, 2000))\n",
    "\n",
    "\n",
    "for (j, strain) in enumerate(strains)\n",
    "    ax = Axis(fig[j, 1])\n",
    "    ax.title = strain\n",
    "    ax.xlabel = \"time_min\"\n",
    "    ax.ylabel = \"OD600\"\n",
    "    for (i, tc) in enumerate(df.tc |> unique)\n",
    "        sub_df = df[(df.strain .== strain) .& (df.tc .== tc), :]\n",
    "        for well in  df.well |> unique\n",
    "            x = sub_df[(sub_df.well .== well), \"time_min\"]\n",
    "            y = sub_df[(sub_df.well .== well), \"OD600\"]\n",
    "            lines!(fig[j, 1], x, y, color = colors[i], label=\"$tc\") \n",
    "        end\n",
    "    end\n",
    "    axislegend(\"tc [µg/ml]\", unique=true, nbanks=2, position=:lt)\n",
    "end\n",
    "\n",
    "\n",
    "fig"
   ]
  },
  {
   "cell_type": "markdown",
   "id": "8ad78d57-a5ab-4f7a-a7a1-e3b2860a8d9e",
   "metadata": {},
   "source": [
    "## Infer Maximum Growth rate"
   ]
  },
  {
   "cell_type": "markdown",
   "id": "d0c00616-63f3-4c12-bd99-eeb6dcfd6507",
   "metadata": {},
   "source": [
    "### Gaussian process"
   ]
  },
  {
   "cell_type": "code",
   "execution_count": 3,
   "id": "5e6b3c0b-65db-43c5-9945-304f30d73c20",
   "metadata": {},
   "outputs": [],
   "source": [
    "gp_stan = open(\"gp_stan.txt\") do file\n",
    "    read(file, String)\n",
    "end;"
   ]
  },
  {
   "cell_type": "code",
   "execution_count": null,
   "id": "f284d21d-24a3-4403-8427-966618b055a4",
   "metadata": {},
   "outputs": [],
   "source": [
    "data = Dict(\n",
    "    \"N\" => length(x_list[1]),\n",
    "    \"t\"=> x_list[1],\n",
    "    \"y\"=> y_list[1], \n",
    "    \"N_predict\"=> length(x_list[1]),  \n",
    "    \"t_predict\"=> x_list[1], \n",
    "    \"alpha_param\"=> [0, 1], \n",
    "    \"sigma_param\"=> [0, 1], \n",
    "    \"rho_param\"=> [1000, 50], \n",
    ")\n",
    "\n",
    "analyzed_df = DataFrame(strain=String[], well=String[], tc=Float64[], λ_max=Float64[])#, dy=[])\n",
    "\n",
    "for (j, strain) in enumerate([\"MG1655\"])#enumerate(strains)\n",
    "    for (i, tc) in enumerate(df.tc |> unique)\n",
    "        sub_df = df[(df.strain .== strain) .& (df.tc .== tc), :]\n",
    "        for well in  sub_df.well |> unique\n",
    "            x = sub_df[(sub_df.well .== well), \"time_min\"]\n",
    "            y = sub_df[(sub_df.well .== well), \"OD600\"]\n",
    "            \n",
    "            data[\"t\"] = x\n",
    "            data[\"y\"] = y\n",
    "            \n",
    "            sm = SampleModel(\"gaussian_process\", gp_stan)\n",
    "            rc = stan_sample(sm; data, num_chains=2);\n",
    "            st = read_samples(sm)\n",
    "            dy = filter(x -> occursin(\"dy\",String(x)), names(st))\n",
    "            mean_dy = [mean(st[x]) for x in dy]\n",
    "            _df = DataFrame(\n",
    "                strain=String[strain], \n",
    "                well=String[well], \n",
    "                tc=Float64[tc], \n",
    "                λ_max=Float64[maximum(mean_dy)], \n",
    "                #dy=Vector{Vector{Float64}}[mean_dy]\n",
    "            )\n",
    "            append!(analyzed_df, _df)\n",
    "        end\n",
    "    end\n",
    "end"
   ]
  },
  {
   "cell_type": "code",
   "execution_count": null,
   "id": "c6b698e3-dc4c-40ac-b78e-eb4bdaa1a687",
   "metadata": {},
   "outputs": [],
   "source": [
    "strain_color = Dict(\n",
    "    \"MG1655\" => ColorSchemes.BuPu_6[1],\n",
    "    \"3.19\" => ColorSchemes.BuPu_6[2],\n",
    "    \"IW\" => ColorSchemes.BuPu_6[3],\n",
    "    \"WT\" => ColorSchemes.BuPu_6[4],\n",
    "    \"UV5\" => ColorSchemes.BuPu_6[5],\n",
    ")\n",
    "fig = Figure(resolution=(600,400))\n",
    "ax = Axis(fig[1, 1])\n",
    "ax.xlabel = \"tc [µg/ml]\"\n",
    "ax.ylabel = \"λ [1/min]\"\n",
    "\n",
    "scatter!(ax,\n",
    "    analyzed_df.tc, \n",
    "    analyzed_df.λ_max, \n",
    "    color=map(x-> strain_color[x], analyzed_df.strain), \n",
    "    strokecolor=\"black\",\n",
    "    strokewidth=1\n",
    ")\n",
    "fig"
   ]
  },
  {
   "cell_type": "code",
   "execution_count": null,
   "id": "528f660e-6cbd-4d1b-98b0-3cc547e73866",
   "metadata": {},
   "outputs": [],
   "source": [
    "strain_color = Dict(\n",
    "    \"MG1655\" => ColorSchemes.BuPu_6[1],\n",
    "    \"3.19\" => ColorSchemes.BuPu_6[2],\n",
    "    \"IW\" => ColorSchemes.BuPu_6[3],\n",
    "    \"WT\" => ColorSchemes.BuPu_6[4],\n",
    "    \"UV5\" => ColorSchemes.BuPu_6[5],\n",
    ")\n",
    "\n",
    "analyzed_df[!, \"λ/λ_0\"] = analyzed_df.λ_max / mean(analyzed_df[(analyzed_df.strain .== \"MG1655\") .& (analyzed_df.tc .==0), \"λ_max\"])\n",
    "\n",
    "fig = Figure(resolution=(600,400))\n",
    "ax = Axis(fig[1, 1])\n",
    "ax.xlabel = \"tc [µg/ml]\"\n",
    "ax.ylabel = \"λ/λ_0\"\n",
    "\n",
    "scatter!(ax,\n",
    "    analyzed_df.tc, \n",
    "    analyzed_df[!, \"λ/λ_0\"], \n",
    "    color=map(x-> strain_color[x], analyzed_df.strain), \n",
    "    strokecolor=\"black\",\n",
    "    strokewidth=1\n",
    ")\n",
    "fig"
   ]
  },
  {
   "cell_type": "code",
   "execution_count": null,
   "id": "0c9e3c51-e0f7-4622-af35-c57c37735418",
   "metadata": {},
   "outputs": [],
   "source": [
    "for (i, j) in collect(Iterators.product([0, 1], [3,5]))\n",
    "    println(i, j)\n",
    "end"
   ]
  },
  {
   "cell_type": "code",
   "execution_count": null,
   "id": "d409ff73-3cee-4800-bf89-6b204c09cb11",
   "metadata": {},
   "outputs": [],
   "source": []
  },
  {
   "cell_type": "code",
   "execution_count": null,
   "id": "f9e8c2c6-7069-4a6d-8b5e-788c2114828c",
   "metadata": {},
   "outputs": [],
   "source": []
  }
 ],
 "metadata": {
  "kernelspec": {
   "display_name": "Julia 1.6.0",
   "language": "julia",
   "name": "julia-1.6"
  },
  "language_info": {
   "file_extension": ".jl",
   "mimetype": "application/julia",
   "name": "julia",
   "version": "1.6.0"
  }
 },
 "nbformat": 4,
 "nbformat_minor": 5
}
