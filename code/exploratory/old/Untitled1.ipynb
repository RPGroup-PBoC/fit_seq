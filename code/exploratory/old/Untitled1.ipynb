{
 "cells": [
  {
   "cell_type": "markdown",
   "id": "8ccb822e-296f-426c-959c-11be781a6ce6",
   "metadata": {},
   "source": [
    "# Tetracycline Resistance Model"
   ]
  },
  {
   "cell_type": "markdown",
   "id": "f71b51fb-f313-4d53-8755-213680c3db0d",
   "metadata": {},
   "source": [
    "(c) 2021 Tom Röschinger. This work is licensed under a \n",
    "[Creative Commons Attribution License CC-BY 4.0](https://creativecommons.org/licenses/by/4.0/). \n",
    "All code contained herein is licensed under an \n",
    "[MIT license](https://opensource.org/licenses/MIT)."
   ]
  },
  {
   "cell_type": "code",
   "execution_count": 2,
   "id": "a1b8fd92-1cd7-4972-9c9e-5c1fe66ddebe",
   "metadata": {},
   "outputs": [
    {
     "data": {
      "text/plain": [
       "Plots.GRBackend()"
      ]
     },
     "execution_count": 2,
     "metadata": {},
     "output_type": "execute_result"
    }
   ],
   "source": [
    "using SymPy, Plots, Polynomials, Jedi, ColorSchemes\n",
    "\n",
    "# Comment this out if Jedi.jl is not installed\n",
    "Jedi.default_gr!()"
   ]
  },
  {
   "cell_type": "markdown",
   "id": "fd8ca2ab-5edf-41d8-b0a2-9f0438dff58d",
   "metadata": {},
   "source": [
    "In this notebook we go through everything bla bla"
   ]
  },
  {
   "cell_type": "code",
   "execution_count": 32,
   "id": "c04d93f6-a8f4-4d5e-b462-c9d07ae7c42f",
   "metadata": {},
   "outputs": [
    {
     "data": {
      "text/plain": [
       "(a, λ, λ0, κt, Kd, Δr, j, V0, aex, KM, Pout, Pin)"
      ]
     },
     "execution_count": 32,
     "metadata": {},
     "output_type": "execute_result"
    }
   ],
   "source": [
    "@syms a λ λ0 κt Kd Δr j V0 aex KM Pout Pin"
   ]
  },
  {
   "cell_type": "code",
   "execution_count": 33,
   "id": "febf9ac8-498c-44c9-828e-c4bcb2480907",
   "metadata": {},
   "outputs": [
    {
     "data": {
      "text/latex": [
       "$\\begin{equation*}- Δr \\left(- \\frac{λ}{λ_{0}} + 1\\right) + \\frac{a λ}{Kd κt}\\end{equation*}$\n"
      ],
      "text/plain": [
       "     ⎛  λ     ⎞    a⋅λ \n",
       "- Δr⋅⎜- ── + 1⎟ + ─────\n",
       "     ⎝  λ₀    ⎠   Kd⋅κt"
      ]
     },
     "execution_count": 33,
     "metadata": {},
     "output_type": "execute_result"
    }
   ],
   "source": [
    "eq1 = (a * λ) / (κt * Kd) - Δr * (1 - λ/λ0)"
   ]
  },
  {
   "cell_type": "code",
   "execution_count": 34,
   "id": "dbdb7624-c4af-494d-99f1-d8dc5ea7b303",
   "metadata": {},
   "outputs": [
    {
     "data": {
      "text/latex": [
       "$\\begin{equation*}KM Pin aex + a^{2} \\left(- Pout - λ - \\frac{λ^{2}}{Kd κt}\\right) + a \\left(- KM Pout - KM λ - \\frac{KM λ^{2}}{Kd κt} + Pin aex - \\frac{V_{0} λ}{λ_{0}}\\right)\\end{equation*}$\n"
      ],
      "text/plain": [
       "                ⎛               2 ⎞     ⎛                      2              \n",
       "              2 ⎜              λ  ⎟     ⎜                  KM⋅λ              V\n",
       "KM⋅Pin⋅aex + a ⋅⎜-Pout - λ - ─────⎟ + a⋅⎜-KM⋅Pout - KM⋅λ - ───── + Pin⋅aex - ─\n",
       "                ⎝            Kd⋅κt⎠     ⎝                  Kd⋅κt              \n",
       "\n",
       "   ⎞\n",
       "₀⋅λ⎟\n",
       "───⎟\n",
       "λ₀ ⎠"
      ]
     },
     "execution_count": 34,
     "metadata": {},
     "output_type": "execute_result"
    }
   ],
   "source": [
    "eq2 = a^2 * (-λ - λ^2 / (Kd * κt) - Pout) + a * (-λ * KM - KM * λ^2 / (Kd * κt) + Pin * aex - Pout * KM - V0 * λ/λ0 ) + Pin * aex * KM"
   ]
  },
  {
   "cell_type": "code",
   "execution_count": 35,
   "id": "2aa1f909-54e0-4065-8d74-9bdc88197a5c",
   "metadata": {},
   "outputs": [
    {
     "data": {
      "text/latex": [
       "$\\begin{equation*}\\frac{Kd Δr κt \\left(- λ + λ_{0}\\right)}{λ λ_{0}}\\end{equation*}$\n"
      ],
      "text/plain": [
       "Kd⋅Δr⋅κt⋅(-λ + λ₀)\n",
       "──────────────────\n",
       "       λ⋅λ₀       "
      ]
     },
     "execution_count": 35,
     "metadata": {},
     "output_type": "execute_result"
    }
   ],
   "source": [
    "expr1 = solve(eq1, a)[1]"
   ]
  },
  {
   "cell_type": "code",
   "execution_count": 36,
   "id": "3be1138e-c9ef-4d09-a1ee-aec4e4cf4ad6",
   "metadata": {},
   "outputs": [
    {
     "data": {
      "text/latex": [
       "$\\begin{equation*}KM Pin aex + \\frac{Kd^{2} Δr^{2} κt^{2} \\left(- λ + λ_{0}\\right)^{2} \\left(- Pout - λ - \\frac{λ^{2}}{Kd κt}\\right)}{λ^{2} λ_{0}^{2}} + \\frac{Kd Δr κt \\left(- λ + λ_{0}\\right) \\left(- KM Pout - KM λ - \\frac{KM λ^{2}}{Kd κt} + Pin aex - \\frac{V_{0} λ}{λ_{0}}\\right)}{λ λ_{0}}\\end{equation*}$\n"
      ],
      "text/plain": [
       "                                    ⎛               2 ⎞                      ⎛\n",
       "               2   2   2          2 ⎜              λ  ⎟                      ⎜\n",
       "             Kd ⋅Δr ⋅κt ⋅(-λ + λ₀) ⋅⎜-Pout - λ - ─────⎟   Kd⋅Δr⋅κt⋅(-λ + λ₀)⋅⎜\n",
       "                                    ⎝            Kd⋅κt⎠                      ⎝\n",
       "KM⋅Pin⋅aex + ────────────────────────────────────────── + ────────────────────\n",
       "                                2   2                                         \n",
       "                               λ ⋅λ₀                                          \n",
       "\n",
       "                      2                 ⎞\n",
       "                  KM⋅λ              V₀⋅λ⎟\n",
       "-KM⋅Pout - KM⋅λ - ───── + Pin⋅aex - ────⎟\n",
       "                  Kd⋅κt              λ₀ ⎠\n",
       "─────────────────────────────────────────\n",
       "         λ⋅λ₀                            \n",
       "                                         "
      ]
     },
     "execution_count": 36,
     "metadata": {},
     "output_type": "execute_result"
    }
   ],
   "source": [
    "expr2 = subs(eq2, a=>expr1)"
   ]
  },
  {
   "cell_type": "code",
   "execution_count": 37,
   "id": "3fa840bf-9f9a-4d22-abb2-33ecf1f6fab2",
   "metadata": {},
   "outputs": [
    {
     "data": {
      "text/latex": [
       "$\\begin{equation*}KM Pin aex + \\frac{Kd^{2} Δr^{2} κt^{2} \\left(- \\frac{λ}{λ_{0}} + λ_{0}\\right)^{2} \\left(- Pout - \\frac{λ}{λ_{0}} - \\frac{λ^{2}}{Kd κt λ_{0}^{2}}\\right)}{λ^{2}} + \\frac{Kd Δr κt \\left(- \\frac{λ}{λ_{0}} + λ_{0}\\right) \\left(- KM Pout - \\frac{KM λ}{λ_{0}} - \\frac{KM λ^{2}}{Kd κt λ_{0}^{2}} + Pin aex - \\frac{V_{0} λ}{λ_{0}^{2}}\\right)}{λ}\\end{equation*}$\n"
      ],
      "text/plain": [
       "                                    2 ⎛                  2   ⎞                \n",
       "               2   2   2 ⎛  λ      ⎞  ⎜        λ        λ    ⎟            ⎛  λ\n",
       "             Kd ⋅Δr ⋅κt ⋅⎜- ── + λ₀⎟ ⋅⎜-Pout - ── - ─────────⎟   Kd⋅Δr⋅κt⋅⎜- ─\n",
       "                         ⎝  λ₀     ⎠  ⎜        λ₀           2⎟            ⎝  λ\n",
       "                                      ⎝             Kd⋅κt⋅λ₀ ⎠                \n",
       "KM⋅Pin⋅aex + ───────────────────────────────────────────────── + ─────────────\n",
       "                                      2                                       \n",
       "                                     λ                                        \n",
       "\n",
       "        ⎛                        2                   ⎞\n",
       "      ⎞ ⎜           KM⋅λ     KM⋅λ                V₀⋅λ⎟\n",
       "─ + λ₀⎟⋅⎜-KM⋅Pout - ──── - ───────── + Pin⋅aex - ────⎟\n",
       "₀     ⎠ ⎜            λ₀            2               2 ⎟\n",
       "        ⎝                  Kd⋅κt⋅λ₀              λ₀  ⎠\n",
       "──────────────────────────────────────────────────────\n",
       "                    λ                                 \n",
       "                                                      "
      ]
     },
     "execution_count": 37,
     "metadata": {},
     "output_type": "execute_result"
    }
   ],
   "source": [
    "expr3 = subs(expr2, λ=>λ/λ0)"
   ]
  },
  {
   "cell_type": "code",
   "execution_count": 38,
   "id": "c013e50e-0092-4bf1-910d-b54751b21aa1",
   "metadata": {},
   "outputs": [
    {
     "data": {
      "text/latex": [
       "$\\begin{equation*}λ^{2} λ_{0}^{2} \\left(KM Pin aex + \\frac{Kd^{2} Δr^{2} κt^{2} \\left(- λ + λ_{0}\\right)^{2} \\left(- Pout - λ - \\frac{λ^{2}}{Kd κt}\\right)}{λ^{2} λ_{0}^{2}} + \\frac{Kd Δr κt \\left(- λ + λ_{0}\\right) \\left(- KM Pout - KM λ - \\frac{KM λ^{2}}{Kd κt} + Pin aex - \\frac{V_{0} λ}{λ_{0}}\\right)}{λ λ_{0}}\\right)\\end{equation*}$\n"
      ],
      "text/plain": [
       "       ⎛                                    ⎛               2 ⎞               \n",
       "       ⎜               2   2   2          2 ⎜              λ  ⎟               \n",
       "       ⎜             Kd ⋅Δr ⋅κt ⋅(-λ + λ₀) ⋅⎜-Pout - λ - ─────⎟   Kd⋅Δr⋅κt⋅(-λ\n",
       " 2   2 ⎜                                    ⎝            Kd⋅κt⎠               \n",
       "λ ⋅λ₀ ⋅⎜KM⋅Pin⋅aex + ────────────────────────────────────────── + ────────────\n",
       "       ⎜                                2   2                                 \n",
       "       ⎝                               λ ⋅λ₀                                  \n",
       "\n",
       "       ⎛                      2                 ⎞⎞\n",
       "       ⎜                  KM⋅λ              V₀⋅λ⎟⎟\n",
       " + λ₀)⋅⎜-KM⋅Pout - KM⋅λ - ───── + Pin⋅aex - ────⎟⎟\n",
       "       ⎝                  Kd⋅κt              λ₀ ⎠⎟\n",
       "─────────────────────────────────────────────────⎟\n",
       "                 λ⋅λ₀                            ⎟\n",
       "                                                 ⎠"
      ]
     },
     "execution_count": 38,
     "metadata": {},
     "output_type": "execute_result"
    }
   ],
   "source": [
    "expr3 = expr2 * λ^2 * λ0^2"
   ]
  },
  {
   "cell_type": "code",
   "execution_count": 39,
   "id": "7b591a88-cfab-4ebe-9bf3-b13e6e50be4c",
   "metadata": {},
   "outputs": [
    {
     "data": {
      "text/latex": [
       "$\\begin{equation*}KM Kd Pout Δr κt λ^{2} λ_{0} - KM Kd Pout Δr κt λ λ_{0}^{2} + KM Kd Δr κt λ^{3} λ_{0} - KM Kd Δr κt λ^{2} λ_{0}^{2} + KM Pin aex λ^{2} λ_{0}^{2} + KM Δr λ^{4} λ_{0} - KM Δr λ^{3} λ_{0}^{2} - Kd^{2} Pout Δr^{2} κt^{2} λ^{2} + 2 Kd^{2} Pout Δr^{2} κt^{2} λ λ_{0} - Kd^{2} Pout Δr^{2} κt^{2} λ_{0}^{2} - Kd^{2} Δr^{2} κt^{2} λ^{3} + 2 Kd^{2} Δr^{2} κt^{2} λ^{2} λ_{0} - Kd^{2} Δr^{2} κt^{2} λ λ_{0}^{2} - Kd Pin aex Δr κt λ^{2} λ_{0} + Kd Pin aex Δr κt λ λ_{0}^{2} + Kd V_{0} Δr κt λ^{3} - Kd V_{0} Δr κt λ^{2} λ_{0} - Kd Δr^{2} κt λ^{4} + 2 Kd Δr^{2} κt λ^{3} λ_{0} - Kd Δr^{2} κt λ^{2} λ_{0}^{2}\\end{equation*}$\n"
      ],
      "text/plain": [
       "                  2                           2                3              \n",
       "KM⋅Kd⋅Pout⋅Δr⋅κt⋅λ ⋅λ₀ - KM⋅Kd⋅Pout⋅Δr⋅κt⋅λ⋅λ₀  + KM⋅Kd⋅Δr⋅κt⋅λ ⋅λ₀ - KM⋅Kd⋅Δr\n",
       "\n",
       "     2   2               2   2          4             3   2     2        2   2\n",
       "⋅κt⋅λ ⋅λ₀  + KM⋅Pin⋅aex⋅λ ⋅λ₀  + KM⋅Δr⋅λ ⋅λ₀ - KM⋅Δr⋅λ ⋅λ₀  - Kd ⋅Pout⋅Δr ⋅κt \n",
       "\n",
       "  2       2        2   2          2        2   2   2     2   2   2  3       2 \n",
       "⋅λ  + 2⋅Kd ⋅Pout⋅Δr ⋅κt ⋅λ⋅λ₀ - Kd ⋅Pout⋅Δr ⋅κt ⋅λ₀  - Kd ⋅Δr ⋅κt ⋅λ  + 2⋅Kd ⋅\n",
       "\n",
       "  2   2  2        2   2   2     2                     2                       \n",
       "Δr ⋅κt ⋅λ ⋅λ₀ - Kd ⋅Δr ⋅κt ⋅λ⋅λ₀  - Kd⋅Pin⋅aex⋅Δr⋅κt⋅λ ⋅λ₀ + Kd⋅Pin⋅aex⋅Δr⋅κt⋅\n",
       "\n",
       "    2                3                2           2     4          2     3    \n",
       "λ⋅λ₀  + Kd⋅V₀⋅Δr⋅κt⋅λ  - Kd⋅V₀⋅Δr⋅κt⋅λ ⋅λ₀ - Kd⋅Δr ⋅κt⋅λ  + 2⋅Kd⋅Δr ⋅κt⋅λ ⋅λ₀ \n",
       "\n",
       "       2     2   2\n",
       "- Kd⋅Δr ⋅κt⋅λ ⋅λ₀ "
      ]
     },
     "execution_count": 39,
     "metadata": {},
     "output_type": "execute_result"
    }
   ],
   "source": [
    "expr4 = factor(expr3)"
   ]
  },
  {
   "cell_type": "code",
   "execution_count": 40,
   "id": "6b245d82-2d91-4a63-9dfb-7ca833aadf29",
   "metadata": {},
   "outputs": [
    {
     "data": {
      "text/latex": [
       "$\\begin{equation*}- Kd^{2} Pout Δr^{2} κt^{2} λ_{0}^{2} + λ^{4} \\left(KM Δr λ_{0} - Kd Δr^{2} κt\\right) + λ^{3} \\left(KM Kd Δr κt λ_{0} - KM Δr λ_{0}^{2} - Kd^{2} Δr^{2} κt^{2} + Kd V_{0} Δr κt + 2 Kd Δr^{2} κt λ_{0}\\right) + λ^{2} \\left(KM Kd Pout Δr κt λ_{0} - KM Kd Δr κt λ_{0}^{2} + KM Pin aex λ_{0}^{2} - Kd^{2} Pout Δr^{2} κt^{2} + 2 Kd^{2} Δr^{2} κt^{2} λ_{0} - Kd Pin aex Δr κt λ_{0} - Kd V_{0} Δr κt λ_{0} - Kd Δr^{2} κt λ_{0}^{2}\\right) + λ \\left(- KM Kd Pout Δr κt λ_{0}^{2} + 2 Kd^{2} Pout Δr^{2} κt^{2} λ_{0} - Kd^{2} Δr^{2} κt^{2} λ_{0}^{2} + Kd Pin aex Δr κt λ_{0}^{2}\\right)\\end{equation*}$\n"
      ],
      "text/plain": [
       "    2        2   2   2    4 ⎛                2   ⎞    3 ⎛                     \n",
       "- Kd ⋅Pout⋅Δr ⋅κt ⋅λ₀  + λ ⋅⎝KM⋅Δr⋅λ₀ - Kd⋅Δr ⋅κt⎠ + λ ⋅⎝KM⋅Kd⋅Δr⋅κt⋅λ₀ - KM⋅Δ\n",
       "\n",
       "    2     2   2   2                        2      ⎞    2 ⎛                    \n",
       "r⋅λ₀  - Kd ⋅Δr ⋅κt  + Kd⋅V₀⋅Δr⋅κt + 2⋅Kd⋅Δr ⋅κt⋅λ₀⎠ + λ ⋅⎝KM⋅Kd⋅Pout⋅Δr⋅κt⋅λ₀ \n",
       "\n",
       "                2                2     2        2   2       2   2   2         \n",
       "- KM⋅Kd⋅Δr⋅κt⋅λ₀  + KM⋅Pin⋅aex⋅λ₀  - Kd ⋅Pout⋅Δr ⋅κt  + 2⋅Kd ⋅Δr ⋅κt ⋅λ₀ - Kd⋅\n",
       "\n",
       "                                         2      2⎞     ⎛                     2\n",
       "Pin⋅aex⋅Δr⋅κt⋅λ₀ - Kd⋅V₀⋅Δr⋅κt⋅λ₀ - Kd⋅Δr ⋅κt⋅λ₀ ⎠ + λ⋅⎝- KM⋅Kd⋅Pout⋅Δr⋅κt⋅λ₀ \n",
       "\n",
       "       2        2   2        2   2   2   2                      2⎞\n",
       " + 2⋅Kd ⋅Pout⋅Δr ⋅κt ⋅λ₀ - Kd ⋅Δr ⋅κt ⋅λ₀  + Kd⋅Pin⋅aex⋅Δr⋅κt⋅λ₀ ⎠"
      ]
     },
     "execution_count": 40,
     "metadata": {},
     "output_type": "execute_result"
    }
   ],
   "source": [
    "expr5 = collect(expr4, λ)"
   ]
  },
  {
   "cell_type": "code",
   "execution_count": 41,
   "id": "078ea630-8fb0-46ed-a939-689818dfbbe3",
   "metadata": {},
   "outputs": [
    {
     "name": "stdout",
     "output_type": "stream",
     "text": [
      "KM*Δr*λ0 - Kd*Δr^2*κt\n"
     ]
    },
    {
     "data": {
      "text/latex": [
       "$\\begin{equation*}KM Δr λ_{0} - Kd Δr^{2} κt\\end{equation*}$\n"
      ],
      "text/plain": [
       "                2   \n",
       "KM⋅Δr⋅λ₀ - Kd⋅Δr ⋅κt"
      ]
     },
     "execution_count": 41,
     "metadata": {},
     "output_type": "execute_result"
    }
   ],
   "source": [
    "println(expr5.coeff(λ, 4))\n",
    "expr5.coeff(λ, 4)"
   ]
  },
  {
   "cell_type": "code",
   "execution_count": 42,
   "id": "67d1c776-a0c5-4d91-8ed6-854deb76d14f",
   "metadata": {},
   "outputs": [
    {
     "name": "stdout",
     "output_type": "stream",
     "text": [
      "KM*Kd*Δr*κt*λ0 - KM*Δr*λ0^2 - Kd^2*Δr^2*κt^2 + Kd*V0*Δr*κt + 2*Kd*Δr^2*κt*λ0\n"
     ]
    },
    {
     "data": {
      "text/latex": [
       "$\\begin{equation*}KM Kd Δr κt λ_{0} - KM Δr λ_{0}^{2} - Kd^{2} Δr^{2} κt^{2} + Kd V_{0} Δr κt + 2 Kd Δr^{2} κt λ_{0}\\end{equation*}$\n"
      ],
      "text/plain": [
       "                         2     2   2   2                        2      \n",
       "KM⋅Kd⋅Δr⋅κt⋅λ₀ - KM⋅Δr⋅λ₀  - Kd ⋅Δr ⋅κt  + Kd⋅V₀⋅Δr⋅κt + 2⋅Kd⋅Δr ⋅κt⋅λ₀"
      ]
     },
     "execution_count": 42,
     "metadata": {},
     "output_type": "execute_result"
    }
   ],
   "source": [
    "println(expr5.coeff(λ, 3))\n",
    "expr5.coeff(λ, 3)"
   ]
  },
  {
   "cell_type": "code",
   "execution_count": 43,
   "id": "e148c2b9-f245-490d-8fab-41f64f201b48",
   "metadata": {},
   "outputs": [
    {
     "name": "stdout",
     "output_type": "stream",
     "text": [
      "KM*Kd*Pout*Δr*κt*λ0 - KM*Kd*Δr*κt*λ0^2 + KM*Pin*aex*λ0^2 - Kd^2*Pout*Δr^2*κt^2 + 2*Kd^2*Δr^2*κt^2*λ0 - Kd*Pin*aex*Δr*κt*λ0 - Kd*V0*Δr*κt*λ0 - Kd*Δr^2*κt*λ0^2\n"
     ]
    }
   ],
   "source": [
    "println(expr5.coeff(λ, 2))"
   ]
  },
  {
   "cell_type": "code",
   "execution_count": 44,
   "id": "fd88f485-4b40-44d3-badf-a2db6916f4b7",
   "metadata": {},
   "outputs": [
    {
     "name": "stdout",
     "output_type": "stream",
     "text": [
      "-KM*Kd*Pout*Δr*κt*λ0^2 + 2*Kd^2*Pout*Δr^2*κt^2*λ0 - Kd^2*Δr^2*κt^2*λ0^2 + Kd*Pin*aex*Δr*κt*λ0^2\n"
     ]
    }
   ],
   "source": [
    "println(expr5.coeff(λ, 1))"
   ]
  },
  {
   "cell_type": "code",
   "execution_count": 45,
   "id": "048d2217-6ca1-47c2-b842-468accbca45d",
   "metadata": {},
   "outputs": [
    {
     "name": "stdout",
     "output_type": "stream",
     "text": [
      "-Kd^2*Pout*Δr^2*κt^2*λ0^2\n"
     ]
    }
   ],
   "source": [
    "println(expr5.coeff(λ, 0))"
   ]
  },
  {
   "cell_type": "code",
   "execution_count": 46,
   "id": "ee7694f2-3671-42b6-84b1-e9bd88711b21",
   "metadata": {},
   "outputs": [
    {
     "data": {
      "text/plain": [
       "solve_polynomial (generic function with 1 method)"
      ]
     },
     "execution_count": 46,
     "metadata": {},
     "output_type": "execute_result"
    }
   ],
   "source": [
    "function solve_polynomial(aex, λ0, κt, Kd, KM, j, V0, Δr)\n",
    "    c = zeros(5)\n",
    "    c[5] = KM*Δr*λ0 - Kd*Δr^2*κt\n",
    "    c[4] = KM*Kd*Δr*κt*λ0 - KM*Δr*λ0^2 - Kd^2*Δr^2*κt^2 + Kd*V0*Δr*κt + 2*Kd*Δr^2*κt*λ0\n",
    "    c[3] = KM*Kd*Pout*Δr*κt*λ0 - KM*Kd*Δr*κt*λ0^2 + KM*Pin*aex*λ0^2 - Kd^2*Pout*Δr^2*κt^2 + 2*Kd^2*Δr^2*κt^2*λ0 - Kd*Pin*aex*Δr*κt*λ0 - Kd*V0*Δr*κt*λ0 - Kd*Δr^2*κt*λ0^2\n",
    "    c[2] = -KM*Kd*Pout*Δr*κt*λ0^2 + 2*Kd^2*Pout*Δr^2*κt^2*λ0 - Kd^2*Δr^2*κt^2*λ0^2 + Kd*Pin*aex*Δr*κt*λ0^2\n",
    "    c[1] = -Kd^2*Pout*Δr^2*κt^2*λ0^2\n",
    "    pol = Polynomial(c)\n",
    "    return Polynomials.roots(pol)\n",
    "end"
   ]
  },
  {
   "cell_type": "code",
   "execution_count": 53,
   "id": "f95af6c4-0aad-4b31-a725-7167166a5810",
   "metadata": {},
   "outputs": [],
   "source": [
    "_aex = 0  # µM\n",
    "_λ0 = 0.68  # h**-1\n",
    "_κt = 0.06  # µM**-1 h**-1\n",
    "_Kd = .1  # µM\n",
    "_KM = 10  # µM\n",
    "_j = 10# h**-1\n",
    "Pin = 10\n",
    "Pout = 3\n",
    "_V0 = 10000\n",
    "_Δr = 46.5  # µM\n",
    "\n",
    "\n",
    "a_ex_range = exp10.(-1:0.025:2)\n",
    "sol_list = zeros(ComplexF64, 4, length(a_ex_range))\n",
    "for (i, x) in enumerate(a_ex_range)\n",
    "    # Pack parameters together\n",
    "    args = (x, _λ0, _κt, _Kd, _KM, _j, _V0, _Δr)\n",
    "    # Find roots\n",
    "    sol_list[:, i] = solve_polynomial(args...)\n",
    "end"
   ]
  },
  {
   "cell_type": "code",
   "execution_count": 56,
   "id": "72c8e5dd-dcbf-470f-aa71-ddc3a175a8af",
   "metadata": {},
   "outputs": [
    {
     "data": {
      "image/svg+xml": [
       "<?xml version=\"1.0\" encoding=\"utf-8\"?>\n",
       "<svg xmlns=\"http://www.w3.org/2000/svg\" xmlns:xlink=\"http://www.w3.org/1999/xlink\" width=\"600\" height=\"400\" viewBox=\"0 0 2400 1600\">\n",
       "<defs>\n",
       "  <clipPath id=\"clip900\">\n",
       "    <rect x=\"0\" y=\"0\" width=\"2400\" height=\"1600\"/>\n",
       "  </clipPath>\n",
       "</defs>\n",
       "<path clip-path=\"url(#clip900)\" d=\"\n",
       "M0 1600 L2400 1600 L2400 0 L0 0  Z\n",
       "  \" fill=\"#ffffff\" fill-rule=\"evenodd\" fill-opacity=\"1\"/>\n",
       "<defs>\n",
       "  <clipPath id=\"clip901\">\n",
       "    <rect x=\"480\" y=\"0\" width=\"1681\" height=\"1600\"/>\n",
       "  </clipPath>\n",
       "</defs>\n",
       "<path clip-path=\"url(#clip900)\" d=\"\n",
       "M218.233 1367.75 L2352.76 1367.75 L2352.76 104.909 L218.233 104.909  Z\n",
       "  \" fill=\"#e3dcd0\" fill-rule=\"evenodd\" fill-opacity=\"1\"/>\n",
       "<defs>\n",
       "  <clipPath id=\"clip902\">\n",
       "    <rect x=\"218\" y=\"104\" width=\"2136\" height=\"1264\"/>\n",
       "  </clipPath>\n",
       "</defs>\n",
       "<polyline clip-path=\"url(#clip902)\" style=\"stroke:#ffffff; stroke-linecap:butt; stroke-linejoin:round; stroke-width:6; stroke-opacity:0.1; fill:none\" points=\"\n",
       "  278.644,1367.75 278.644,104.909 \n",
       "  \"/>\n",
       "<polyline clip-path=\"url(#clip902)\" style=\"stroke:#ffffff; stroke-linecap:butt; stroke-linejoin:round; stroke-width:6; stroke-opacity:0.1; fill:none\" points=\"\n",
       "  949.878,1367.75 949.878,104.909 \n",
       "  \"/>\n",
       "<polyline clip-path=\"url(#clip902)\" style=\"stroke:#ffffff; stroke-linecap:butt; stroke-linejoin:round; stroke-width:6; stroke-opacity:0.1; fill:none\" points=\"\n",
       "  1621.11,1367.75 1621.11,104.909 \n",
       "  \"/>\n",
       "<polyline clip-path=\"url(#clip902)\" style=\"stroke:#ffffff; stroke-linecap:butt; stroke-linejoin:round; stroke-width:6; stroke-opacity:0.1; fill:none\" points=\"\n",
       "  2292.34,1367.75 2292.34,104.909 \n",
       "  \"/>\n",
       "<polyline clip-path=\"url(#clip900)\" style=\"stroke:#000000; stroke-linecap:butt; stroke-linejoin:round; stroke-width:4; stroke-opacity:1; fill:none\" points=\"\n",
       "  218.233,1367.75 2352.76,1367.75 \n",
       "  \"/>\n",
       "<polyline clip-path=\"url(#clip900)\" style=\"stroke:#000000; stroke-linecap:butt; stroke-linejoin:round; stroke-width:4; stroke-opacity:1; fill:none\" points=\"\n",
       "  278.644,1367.75 278.644,1352.59 \n",
       "  \"/>\n",
       "<polyline clip-path=\"url(#clip900)\" style=\"stroke:#000000; stroke-linecap:butt; stroke-linejoin:round; stroke-width:4; stroke-opacity:1; fill:none\" points=\"\n",
       "  949.878,1367.75 949.878,1352.59 \n",
       "  \"/>\n",
       "<polyline clip-path=\"url(#clip900)\" style=\"stroke:#000000; stroke-linecap:butt; stroke-linejoin:round; stroke-width:4; stroke-opacity:1; fill:none\" points=\"\n",
       "  1621.11,1367.75 1621.11,1352.59 \n",
       "  \"/>\n",
       "<polyline clip-path=\"url(#clip900)\" style=\"stroke:#000000; stroke-linecap:butt; stroke-linejoin:round; stroke-width:4; stroke-opacity:1; fill:none\" points=\"\n",
       "  2292.34,1367.75 2292.34,1352.59 \n",
       "  \"/>\n",
       "<g clip-path=\"url(#clip900)\">\n",
       "<text style=\"fill:#000000; fill-opacity:1; font-family:Arial,Helvetica Neue,Helvetica,sans-serif; font-size:41px; text-anchor:start;\" transform=\"rotate(0, 236.201, 1442.08)\" x=\"236.201\" y=\"1442.08\">10</text>\n",
       "</g>\n",
       "<g clip-path=\"url(#clip900)\">\n",
       "<text style=\"fill:#000000; fill-opacity:1; font-family:Arial,Helvetica Neue,Helvetica,sans-serif; font-size:34px; text-anchor:start;\" transform=\"rotate(0, 283.035, 1418.09)\" x=\"283.035\" y=\"1418.09\">−1</text>\n",
       "</g>\n",
       "<g clip-path=\"url(#clip900)\">\n",
       "<text style=\"fill:#000000; fill-opacity:1; font-family:Arial,Helvetica Neue,Helvetica,sans-serif; font-size:41px; text-anchor:start;\" transform=\"rotate(0, 916.947, 1442.08)\" x=\"916.947\" y=\"1442.08\">10</text>\n",
       "</g>\n",
       "<g clip-path=\"url(#clip900)\">\n",
       "<text style=\"fill:#000000; fill-opacity:1; font-family:Arial,Helvetica Neue,Helvetica,sans-serif; font-size:34px; text-anchor:start;\" transform=\"rotate(0, 963.781, 1418.09)\" x=\"963.781\" y=\"1418.09\">0</text>\n",
       "</g>\n",
       "<g clip-path=\"url(#clip900)\">\n",
       "<text style=\"fill:#000000; fill-opacity:1; font-family:Arial,Helvetica Neue,Helvetica,sans-serif; font-size:41px; text-anchor:start;\" transform=\"rotate(0, 1588.18, 1442.08)\" x=\"1588.18\" y=\"1442.08\">10</text>\n",
       "</g>\n",
       "<g clip-path=\"url(#clip900)\">\n",
       "<text style=\"fill:#000000; fill-opacity:1; font-family:Arial,Helvetica Neue,Helvetica,sans-serif; font-size:34px; text-anchor:start;\" transform=\"rotate(0, 1635.02, 1418.09)\" x=\"1635.02\" y=\"1418.09\">1</text>\n",
       "</g>\n",
       "<g clip-path=\"url(#clip900)\">\n",
       "<text style=\"fill:#000000; fill-opacity:1; font-family:Arial,Helvetica Neue,Helvetica,sans-serif; font-size:41px; text-anchor:start;\" transform=\"rotate(0, 2259.41, 1442.08)\" x=\"2259.41\" y=\"1442.08\">10</text>\n",
       "</g>\n",
       "<g clip-path=\"url(#clip900)\">\n",
       "<text style=\"fill:#000000; fill-opacity:1; font-family:Arial,Helvetica Neue,Helvetica,sans-serif; font-size:34px; text-anchor:start;\" transform=\"rotate(0, 2306.25, 1418.09)\" x=\"2306.25\" y=\"1418.09\">2</text>\n",
       "</g>\n",
       "<g clip-path=\"url(#clip900)\">\n",
       "<text style=\"fill:#000000; fill-opacity:1; font-family:Arial,Helvetica Neue,Helvetica,sans-serif; font-size:48px; text-anchor:middle;\" transform=\"rotate(0, 1285.49, 1508.53)\" x=\"1285.49\" y=\"1508.53\">a_ex</text>\n",
       "</g>\n",
       "<polyline clip-path=\"url(#clip902)\" style=\"stroke:#ffffff; stroke-linecap:butt; stroke-linejoin:round; stroke-width:6; stroke-opacity:0.1; fill:none\" points=\"\n",
       "  218.233,1332.01 2352.76,1332.01 \n",
       "  \"/>\n",
       "<polyline clip-path=\"url(#clip902)\" style=\"stroke:#ffffff; stroke-linecap:butt; stroke-linejoin:round; stroke-width:6; stroke-opacity:0.1; fill:none\" points=\"\n",
       "  218.233,1034.17 2352.76,1034.17 \n",
       "  \"/>\n",
       "<polyline clip-path=\"url(#clip902)\" style=\"stroke:#ffffff; stroke-linecap:butt; stroke-linejoin:round; stroke-width:6; stroke-opacity:0.1; fill:none\" points=\"\n",
       "  218.233,736.328 2352.76,736.328 \n",
       "  \"/>\n",
       "<polyline clip-path=\"url(#clip902)\" style=\"stroke:#ffffff; stroke-linecap:butt; stroke-linejoin:round; stroke-width:6; stroke-opacity:0.1; fill:none\" points=\"\n",
       "  218.233,438.488 2352.76,438.488 \n",
       "  \"/>\n",
       "<polyline clip-path=\"url(#clip902)\" style=\"stroke:#ffffff; stroke-linecap:butt; stroke-linejoin:round; stroke-width:6; stroke-opacity:0.1; fill:none\" points=\"\n",
       "  218.233,140.649 2352.76,140.649 \n",
       "  \"/>\n",
       "<polyline clip-path=\"url(#clip900)\" style=\"stroke:#000000; stroke-linecap:butt; stroke-linejoin:round; stroke-width:4; stroke-opacity:1; fill:none\" points=\"\n",
       "  218.233,1367.75 218.233,104.909 \n",
       "  \"/>\n",
       "<polyline clip-path=\"url(#clip900)\" style=\"stroke:#000000; stroke-linecap:butt; stroke-linejoin:round; stroke-width:4; stroke-opacity:1; fill:none\" points=\"\n",
       "  218.233,1332.01 243.847,1332.01 \n",
       "  \"/>\n",
       "<polyline clip-path=\"url(#clip900)\" style=\"stroke:#000000; stroke-linecap:butt; stroke-linejoin:round; stroke-width:4; stroke-opacity:1; fill:none\" points=\"\n",
       "  218.233,1034.17 243.847,1034.17 \n",
       "  \"/>\n",
       "<polyline clip-path=\"url(#clip900)\" style=\"stroke:#000000; stroke-linecap:butt; stroke-linejoin:round; stroke-width:4; stroke-opacity:1; fill:none\" points=\"\n",
       "  218.233,736.328 243.847,736.328 \n",
       "  \"/>\n",
       "<polyline clip-path=\"url(#clip900)\" style=\"stroke:#000000; stroke-linecap:butt; stroke-linejoin:round; stroke-width:4; stroke-opacity:1; fill:none\" points=\"\n",
       "  218.233,438.488 243.847,438.488 \n",
       "  \"/>\n",
       "<polyline clip-path=\"url(#clip900)\" style=\"stroke:#000000; stroke-linecap:butt; stroke-linejoin:round; stroke-width:4; stroke-opacity:1; fill:none\" points=\"\n",
       "  218.233,140.649 243.847,140.649 \n",
       "  \"/>\n",
       "<g clip-path=\"url(#clip900)\">\n",
       "<text style=\"fill:#000000; fill-opacity:1; font-family:Arial,Helvetica Neue,Helvetica,sans-serif; font-size:41px; text-anchor:end;\" transform=\"rotate(0, 182.233, 1347.01)\" x=\"182.233\" y=\"1347.01\">0.00</text>\n",
       "</g>\n",
       "<g clip-path=\"url(#clip900)\">\n",
       "<text style=\"fill:#000000; fill-opacity:1; font-family:Arial,Helvetica Neue,Helvetica,sans-serif; font-size:41px; text-anchor:end;\" transform=\"rotate(0, 182.233, 1049.17)\" x=\"182.233\" y=\"1049.17\">0.25</text>\n",
       "</g>\n",
       "<g clip-path=\"url(#clip900)\">\n",
       "<text style=\"fill:#000000; fill-opacity:1; font-family:Arial,Helvetica Neue,Helvetica,sans-serif; font-size:41px; text-anchor:end;\" transform=\"rotate(0, 182.233, 751.328)\" x=\"182.233\" y=\"751.328\">0.50</text>\n",
       "</g>\n",
       "<g clip-path=\"url(#clip900)\">\n",
       "<text style=\"fill:#000000; fill-opacity:1; font-family:Arial,Helvetica Neue,Helvetica,sans-serif; font-size:41px; text-anchor:end;\" transform=\"rotate(0, 182.233, 453.488)\" x=\"182.233\" y=\"453.488\">0.75</text>\n",
       "</g>\n",
       "<g clip-path=\"url(#clip900)\">\n",
       "<text style=\"fill:#000000; fill-opacity:1; font-family:Arial,Helvetica Neue,Helvetica,sans-serif; font-size:41px; text-anchor:end;\" transform=\"rotate(0, 182.233, 155.649)\" x=\"182.233\" y=\"155.649\">1.00</text>\n",
       "</g>\n",
       "<g clip-path=\"url(#clip900)\">\n",
       "<text style=\"fill:#000000; fill-opacity:1; font-family:Arial,Helvetica Neue,Helvetica,sans-serif; font-size:48px; text-anchor:middle;\" transform=\"rotate(-90, 55.9736, 736.328)\" x=\"55.9736\" y=\"736.328\">λ/λ0</text>\n",
       "</g>\n",
       "<g clip-path=\"url(#clip900)\">\n",
       "<text style=\"fill:#000000; fill-opacity:1; font-family:Arial,Helvetica Neue,Helvetica,sans-serif; font-size:59px; text-anchor:middle;\" transform=\"rotate(0, 1285.49, 51.6)\" x=\"1285.49\" y=\"51.6\">Is this the right font?</text>\n",
       "</g>\n",
       "<circle clip-path=\"url(#clip902)\" cx=\"278.644\" cy=\"177.663\" r=\"14\" fill=\"#bed2e6\" fill-rule=\"evenodd\" fill-opacity=\"1\" stroke=\"#000000\" stroke-opacity=\"1\" stroke-width=\"3.2\"/>\n",
       "<circle clip-path=\"url(#clip902)\" cx=\"295.425\" cy=\"179.926\" r=\"14\" fill=\"#bed2e6\" fill-rule=\"evenodd\" fill-opacity=\"1\" stroke=\"#000000\" stroke-opacity=\"1\" stroke-width=\"3.2\"/>\n",
       "<circle clip-path=\"url(#clip902)\" cx=\"312.206\" cy=\"182.333\" r=\"14\" fill=\"#bed2e6\" fill-rule=\"evenodd\" fill-opacity=\"1\" stroke=\"#000000\" stroke-opacity=\"1\" stroke-width=\"3.2\"/>\n",
       "<circle clip-path=\"url(#clip902)\" cx=\"328.987\" cy=\"184.893\" r=\"14\" fill=\"#bed2e6\" fill-rule=\"evenodd\" fill-opacity=\"1\" stroke=\"#000000\" stroke-opacity=\"1\" stroke-width=\"3.2\"/>\n",
       "<circle clip-path=\"url(#clip902)\" cx=\"345.767\" cy=\"187.616\" r=\"14\" fill=\"#bed2e6\" fill-rule=\"evenodd\" fill-opacity=\"1\" stroke=\"#000000\" stroke-opacity=\"1\" stroke-width=\"3.2\"/>\n",
       "<circle clip-path=\"url(#clip902)\" cx=\"362.548\" cy=\"190.514\" r=\"14\" fill=\"#bed2e6\" fill-rule=\"evenodd\" fill-opacity=\"1\" stroke=\"#000000\" stroke-opacity=\"1\" stroke-width=\"3.2\"/>\n",
       "<circle clip-path=\"url(#clip902)\" cx=\"379.329\" cy=\"193.599\" r=\"14\" fill=\"#bed2e6\" fill-rule=\"evenodd\" fill-opacity=\"1\" stroke=\"#000000\" stroke-opacity=\"1\" stroke-width=\"3.2\"/>\n",
       "<circle clip-path=\"url(#clip902)\" cx=\"396.11\" cy=\"196.884\" r=\"14\" fill=\"#bed2e6\" fill-rule=\"evenodd\" fill-opacity=\"1\" stroke=\"#000000\" stroke-opacity=\"1\" stroke-width=\"3.2\"/>\n",
       "<circle clip-path=\"url(#clip902)\" cx=\"412.891\" cy=\"200.384\" r=\"14\" fill=\"#bed2e6\" fill-rule=\"evenodd\" fill-opacity=\"1\" stroke=\"#000000\" stroke-opacity=\"1\" stroke-width=\"3.2\"/>\n",
       "<circle clip-path=\"url(#clip902)\" cx=\"429.672\" cy=\"204.113\" r=\"14\" fill=\"#bed2e6\" fill-rule=\"evenodd\" fill-opacity=\"1\" stroke=\"#000000\" stroke-opacity=\"1\" stroke-width=\"3.2\"/>\n",
       "<circle clip-path=\"url(#clip902)\" cx=\"446.452\" cy=\"208.09\" r=\"14\" fill=\"#bed2e6\" fill-rule=\"evenodd\" fill-opacity=\"1\" stroke=\"#000000\" stroke-opacity=\"1\" stroke-width=\"3.2\"/>\n",
       "<circle clip-path=\"url(#clip902)\" cx=\"463.233\" cy=\"212.332\" r=\"14\" fill=\"#bed2e6\" fill-rule=\"evenodd\" fill-opacity=\"1\" stroke=\"#000000\" stroke-opacity=\"1\" stroke-width=\"3.2\"/>\n",
       "<circle clip-path=\"url(#clip902)\" cx=\"480.014\" cy=\"216.859\" r=\"14\" fill=\"#bed2e6\" fill-rule=\"evenodd\" fill-opacity=\"1\" stroke=\"#000000\" stroke-opacity=\"1\" stroke-width=\"3.2\"/>\n",
       "<circle clip-path=\"url(#clip902)\" cx=\"496.795\" cy=\"221.693\" r=\"14\" fill=\"#bed2e6\" fill-rule=\"evenodd\" fill-opacity=\"1\" stroke=\"#000000\" stroke-opacity=\"1\" stroke-width=\"3.2\"/>\n",
       "<circle clip-path=\"url(#clip902)\" cx=\"513.576\" cy=\"226.858\" r=\"14\" fill=\"#bed2e6\" fill-rule=\"evenodd\" fill-opacity=\"1\" stroke=\"#000000\" stroke-opacity=\"1\" stroke-width=\"3.2\"/>\n",
       "<circle clip-path=\"url(#clip902)\" cx=\"530.357\" cy=\"232.381\" r=\"14\" fill=\"#bed2e6\" fill-rule=\"evenodd\" fill-opacity=\"1\" stroke=\"#000000\" stroke-opacity=\"1\" stroke-width=\"3.2\"/>\n",
       "<circle clip-path=\"url(#clip902)\" cx=\"547.137\" cy=\"238.291\" r=\"14\" fill=\"#bed2e6\" fill-rule=\"evenodd\" fill-opacity=\"1\" stroke=\"#000000\" stroke-opacity=\"1\" stroke-width=\"3.2\"/>\n",
       "<circle clip-path=\"url(#clip902)\" cx=\"563.918\" cy=\"244.62\" r=\"14\" fill=\"#bed2e6\" fill-rule=\"evenodd\" fill-opacity=\"1\" stroke=\"#000000\" stroke-opacity=\"1\" stroke-width=\"3.2\"/>\n",
       "<circle clip-path=\"url(#clip902)\" cx=\"580.699\" cy=\"251.404\" r=\"14\" fill=\"#bed2e6\" fill-rule=\"evenodd\" fill-opacity=\"1\" stroke=\"#000000\" stroke-opacity=\"1\" stroke-width=\"3.2\"/>\n",
       "<circle clip-path=\"url(#clip902)\" cx=\"597.48\" cy=\"258.683\" r=\"14\" fill=\"#bed2e6\" fill-rule=\"evenodd\" fill-opacity=\"1\" stroke=\"#000000\" stroke-opacity=\"1\" stroke-width=\"3.2\"/>\n",
       "<circle clip-path=\"url(#clip902)\" cx=\"614.261\" cy=\"266.502\" r=\"14\" fill=\"#bed2e6\" fill-rule=\"evenodd\" fill-opacity=\"1\" stroke=\"#000000\" stroke-opacity=\"1\" stroke-width=\"3.2\"/>\n",
       "<circle clip-path=\"url(#clip902)\" cx=\"631.042\" cy=\"274.911\" r=\"14\" fill=\"#bed2e6\" fill-rule=\"evenodd\" fill-opacity=\"1\" stroke=\"#000000\" stroke-opacity=\"1\" stroke-width=\"3.2\"/>\n",
       "<circle clip-path=\"url(#clip902)\" cx=\"647.822\" cy=\"283.968\" r=\"14\" fill=\"#bed2e6\" fill-rule=\"evenodd\" fill-opacity=\"1\" stroke=\"#000000\" stroke-opacity=\"1\" stroke-width=\"3.2\"/>\n",
       "<circle clip-path=\"url(#clip902)\" cx=\"664.603\" cy=\"293.738\" r=\"14\" fill=\"#bed2e6\" fill-rule=\"evenodd\" fill-opacity=\"1\" stroke=\"#000000\" stroke-opacity=\"1\" stroke-width=\"3.2\"/>\n",
       "<circle clip-path=\"url(#clip902)\" cx=\"681.384\" cy=\"304.295\" r=\"14\" fill=\"#bed2e6\" fill-rule=\"evenodd\" fill-opacity=\"1\" stroke=\"#000000\" stroke-opacity=\"1\" stroke-width=\"3.2\"/>\n",
       "<circle clip-path=\"url(#clip902)\" cx=\"698.165\" cy=\"315.728\" r=\"14\" fill=\"#bed2e6\" fill-rule=\"evenodd\" fill-opacity=\"1\" stroke=\"#000000\" stroke-opacity=\"1\" stroke-width=\"3.2\"/>\n",
       "<circle clip-path=\"url(#clip902)\" cx=\"714.946\" cy=\"328.138\" r=\"14\" fill=\"#bed2e6\" fill-rule=\"evenodd\" fill-opacity=\"1\" stroke=\"#000000\" stroke-opacity=\"1\" stroke-width=\"3.2\"/>\n",
       "<circle clip-path=\"url(#clip902)\" cx=\"731.727\" cy=\"341.644\" r=\"14\" fill=\"#bed2e6\" fill-rule=\"evenodd\" fill-opacity=\"1\" stroke=\"#000000\" stroke-opacity=\"1\" stroke-width=\"3.2\"/>\n",
       "<circle clip-path=\"url(#clip902)\" cx=\"748.508\" cy=\"356.393\" r=\"14\" fill=\"#bed2e6\" fill-rule=\"evenodd\" fill-opacity=\"1\" stroke=\"#000000\" stroke-opacity=\"1\" stroke-width=\"3.2\"/>\n",
       "<circle clip-path=\"url(#clip902)\" cx=\"765.288\" cy=\"372.56\" r=\"14\" fill=\"#bed2e6\" fill-rule=\"evenodd\" fill-opacity=\"1\" stroke=\"#000000\" stroke-opacity=\"1\" stroke-width=\"3.2\"/>\n",
       "<circle clip-path=\"url(#clip902)\" cx=\"782.069\" cy=\"390.364\" r=\"14\" fill=\"#bed2e6\" fill-rule=\"evenodd\" fill-opacity=\"1\" stroke=\"#000000\" stroke-opacity=\"1\" stroke-width=\"3.2\"/>\n",
       "<circle clip-path=\"url(#clip902)\" cx=\"798.85\" cy=\"410.082\" r=\"14\" fill=\"#bed2e6\" fill-rule=\"evenodd\" fill-opacity=\"1\" stroke=\"#000000\" stroke-opacity=\"1\" stroke-width=\"3.2\"/>\n",
       "<circle clip-path=\"url(#clip902)\" cx=\"815.631\" cy=\"432.075\" r=\"14\" fill=\"#bed2e6\" fill-rule=\"evenodd\" fill-opacity=\"1\" stroke=\"#000000\" stroke-opacity=\"1\" stroke-width=\"3.2\"/>\n",
       "<circle clip-path=\"url(#clip902)\" cx=\"832.412\" cy=\"456.833\" r=\"14\" fill=\"#bed2e6\" fill-rule=\"evenodd\" fill-opacity=\"1\" stroke=\"#000000\" stroke-opacity=\"1\" stroke-width=\"3.2\"/>\n",
       "<circle clip-path=\"url(#clip902)\" cx=\"849.193\" cy=\"485.045\" r=\"14\" fill=\"#bed2e6\" fill-rule=\"evenodd\" fill-opacity=\"1\" stroke=\"#000000\" stroke-opacity=\"1\" stroke-width=\"3.2\"/>\n",
       "<circle clip-path=\"url(#clip902)\" cx=\"865.973\" cy=\"517.745\" r=\"14\" fill=\"#bed2e6\" fill-rule=\"evenodd\" fill-opacity=\"1\" stroke=\"#000000\" stroke-opacity=\"1\" stroke-width=\"3.2\"/>\n",
       "<circle clip-path=\"url(#clip902)\" cx=\"882.754\" cy=\"556.62\" r=\"14\" fill=\"#bed2e6\" fill-rule=\"evenodd\" fill-opacity=\"1\" stroke=\"#000000\" stroke-opacity=\"1\" stroke-width=\"3.2\"/>\n",
       "<circle clip-path=\"url(#clip902)\" cx=\"899.535\" cy=\"604.803\" r=\"14\" fill=\"#bed2e6\" fill-rule=\"evenodd\" fill-opacity=\"1\" stroke=\"#000000\" stroke-opacity=\"1\" stroke-width=\"3.2\"/>\n",
       "<circle clip-path=\"url(#clip902)\" cx=\"916.316\" cy=\"669.59\" r=\"14\" fill=\"#bed2e6\" fill-rule=\"evenodd\" fill-opacity=\"1\" stroke=\"#000000\" stroke-opacity=\"1\" stroke-width=\"3.2\"/>\n",
       "<circle clip-path=\"url(#clip902)\" cx=\"933.097\" cy=\"780.882\" r=\"14\" fill=\"#bed2e6\" fill-rule=\"evenodd\" fill-opacity=\"1\" stroke=\"#000000\" stroke-opacity=\"1\" stroke-width=\"3.2\"/>\n",
       "<circle clip-path=\"url(#clip902)\" cx=\"949.878\" cy=\"1068.76\" r=\"14\" fill=\"#bed2e6\" fill-rule=\"evenodd\" fill-opacity=\"1\" stroke=\"#000000\" stroke-opacity=\"1\" stroke-width=\"3.2\"/>\n",
       "<circle clip-path=\"url(#clip902)\" cx=\"966.658\" cy=\"1123.19\" r=\"14\" fill=\"#bed2e6\" fill-rule=\"evenodd\" fill-opacity=\"1\" stroke=\"#000000\" stroke-opacity=\"1\" stroke-width=\"3.2\"/>\n",
       "<circle clip-path=\"url(#clip902)\" cx=\"983.439\" cy=\"1152.44\" r=\"14\" fill=\"#bed2e6\" fill-rule=\"evenodd\" fill-opacity=\"1\" stroke=\"#000000\" stroke-opacity=\"1\" stroke-width=\"3.2\"/>\n",
       "<circle clip-path=\"url(#clip902)\" cx=\"1000.22\" cy=\"1172.87\" r=\"14\" fill=\"#bed2e6\" fill-rule=\"evenodd\" fill-opacity=\"1\" stroke=\"#000000\" stroke-opacity=\"1\" stroke-width=\"3.2\"/>\n",
       "<circle clip-path=\"url(#clip902)\" cx=\"1017\" cy=\"1188.62\" r=\"14\" fill=\"#bed2e6\" fill-rule=\"evenodd\" fill-opacity=\"1\" stroke=\"#000000\" stroke-opacity=\"1\" stroke-width=\"3.2\"/>\n",
       "<circle clip-path=\"url(#clip902)\" cx=\"1033.78\" cy=\"1201.45\" r=\"14\" fill=\"#bed2e6\" fill-rule=\"evenodd\" fill-opacity=\"1\" stroke=\"#000000\" stroke-opacity=\"1\" stroke-width=\"3.2\"/>\n",
       "<circle clip-path=\"url(#clip902)\" cx=\"1050.56\" cy=\"1212.27\" r=\"14\" fill=\"#bed2e6\" fill-rule=\"evenodd\" fill-opacity=\"1\" stroke=\"#000000\" stroke-opacity=\"1\" stroke-width=\"3.2\"/>\n",
       "<circle clip-path=\"url(#clip902)\" cx=\"1067.34\" cy=\"1221.59\" r=\"14\" fill=\"#bed2e6\" fill-rule=\"evenodd\" fill-opacity=\"1\" stroke=\"#000000\" stroke-opacity=\"1\" stroke-width=\"3.2\"/>\n",
       "<circle clip-path=\"url(#clip902)\" cx=\"1084.12\" cy=\"1229.78\" r=\"14\" fill=\"#bed2e6\" fill-rule=\"evenodd\" fill-opacity=\"1\" stroke=\"#000000\" stroke-opacity=\"1\" stroke-width=\"3.2\"/>\n",
       "<circle clip-path=\"url(#clip902)\" cx=\"1100.91\" cy=\"1237.05\" r=\"14\" fill=\"#bed2e6\" fill-rule=\"evenodd\" fill-opacity=\"1\" stroke=\"#000000\" stroke-opacity=\"1\" stroke-width=\"3.2\"/>\n",
       "<circle clip-path=\"url(#clip902)\" cx=\"1117.69\" cy=\"1243.57\" r=\"14\" fill=\"#bed2e6\" fill-rule=\"evenodd\" fill-opacity=\"1\" stroke=\"#000000\" stroke-opacity=\"1\" stroke-width=\"3.2\"/>\n",
       "<circle clip-path=\"url(#clip902)\" cx=\"1134.47\" cy=\"1249.48\" r=\"14\" fill=\"#bed2e6\" fill-rule=\"evenodd\" fill-opacity=\"1\" stroke=\"#000000\" stroke-opacity=\"1\" stroke-width=\"3.2\"/>\n",
       "<circle clip-path=\"url(#clip902)\" cx=\"1151.25\" cy=\"1254.86\" r=\"14\" fill=\"#bed2e6\" fill-rule=\"evenodd\" fill-opacity=\"1\" stroke=\"#000000\" stroke-opacity=\"1\" stroke-width=\"3.2\"/>\n",
       "<circle clip-path=\"url(#clip902)\" cx=\"1168.03\" cy=\"1259.78\" r=\"14\" fill=\"#bed2e6\" fill-rule=\"evenodd\" fill-opacity=\"1\" stroke=\"#000000\" stroke-opacity=\"1\" stroke-width=\"3.2\"/>\n",
       "<circle clip-path=\"url(#clip902)\" cx=\"1184.81\" cy=\"1264.3\" r=\"14\" fill=\"#bed2e6\" fill-rule=\"evenodd\" fill-opacity=\"1\" stroke=\"#000000\" stroke-opacity=\"1\" stroke-width=\"3.2\"/>\n",
       "<circle clip-path=\"url(#clip902)\" cx=\"1201.59\" cy=\"1268.48\" r=\"14\" fill=\"#bed2e6\" fill-rule=\"evenodd\" fill-opacity=\"1\" stroke=\"#000000\" stroke-opacity=\"1\" stroke-width=\"3.2\"/>\n",
       "<circle clip-path=\"url(#clip902)\" cx=\"1218.37\" cy=\"1272.35\" r=\"14\" fill=\"#bed2e6\" fill-rule=\"evenodd\" fill-opacity=\"1\" stroke=\"#000000\" stroke-opacity=\"1\" stroke-width=\"3.2\"/>\n",
       "<circle clip-path=\"url(#clip902)\" cx=\"1235.15\" cy=\"1275.94\" r=\"14\" fill=\"#bed2e6\" fill-rule=\"evenodd\" fill-opacity=\"1\" stroke=\"#000000\" stroke-opacity=\"1\" stroke-width=\"3.2\"/>\n",
       "<circle clip-path=\"url(#clip902)\" cx=\"1251.93\" cy=\"1279.28\" r=\"14\" fill=\"#bed2e6\" fill-rule=\"evenodd\" fill-opacity=\"1\" stroke=\"#000000\" stroke-opacity=\"1\" stroke-width=\"3.2\"/>\n",
       "<circle clip-path=\"url(#clip902)\" cx=\"1268.71\" cy=\"1282.39\" r=\"14\" fill=\"#bed2e6\" fill-rule=\"evenodd\" fill-opacity=\"1\" stroke=\"#000000\" stroke-opacity=\"1\" stroke-width=\"3.2\"/>\n",
       "<circle clip-path=\"url(#clip902)\" cx=\"1285.49\" cy=\"1285.3\" r=\"14\" fill=\"#bed2e6\" fill-rule=\"evenodd\" fill-opacity=\"1\" stroke=\"#000000\" stroke-opacity=\"1\" stroke-width=\"3.2\"/>\n",
       "<circle clip-path=\"url(#clip902)\" cx=\"1302.28\" cy=\"1288.01\" r=\"14\" fill=\"#bed2e6\" fill-rule=\"evenodd\" fill-opacity=\"1\" stroke=\"#000000\" stroke-opacity=\"1\" stroke-width=\"3.2\"/>\n",
       "<circle clip-path=\"url(#clip902)\" cx=\"1319.06\" cy=\"1290.56\" r=\"14\" fill=\"#bed2e6\" fill-rule=\"evenodd\" fill-opacity=\"1\" stroke=\"#000000\" stroke-opacity=\"1\" stroke-width=\"3.2\"/>\n",
       "<circle clip-path=\"url(#clip902)\" cx=\"1335.84\" cy=\"1292.95\" r=\"14\" fill=\"#bed2e6\" fill-rule=\"evenodd\" fill-opacity=\"1\" stroke=\"#000000\" stroke-opacity=\"1\" stroke-width=\"3.2\"/>\n",
       "<circle clip-path=\"url(#clip902)\" cx=\"1352.62\" cy=\"1295.18\" r=\"14\" fill=\"#bed2e6\" fill-rule=\"evenodd\" fill-opacity=\"1\" stroke=\"#000000\" stroke-opacity=\"1\" stroke-width=\"3.2\"/>\n",
       "<circle clip-path=\"url(#clip902)\" cx=\"1369.4\" cy=\"1297.29\" r=\"14\" fill=\"#bed2e6\" fill-rule=\"evenodd\" fill-opacity=\"1\" stroke=\"#000000\" stroke-opacity=\"1\" stroke-width=\"3.2\"/>\n",
       "<circle clip-path=\"url(#clip902)\" cx=\"1386.18\" cy=\"1299.26\" r=\"14\" fill=\"#bed2e6\" fill-rule=\"evenodd\" fill-opacity=\"1\" stroke=\"#000000\" stroke-opacity=\"1\" stroke-width=\"3.2\"/>\n",
       "<circle clip-path=\"url(#clip902)\" cx=\"1402.96\" cy=\"1301.12\" r=\"14\" fill=\"#bed2e6\" fill-rule=\"evenodd\" fill-opacity=\"1\" stroke=\"#000000\" stroke-opacity=\"1\" stroke-width=\"3.2\"/>\n",
       "<circle clip-path=\"url(#clip902)\" cx=\"1419.74\" cy=\"1302.87\" r=\"14\" fill=\"#bed2e6\" fill-rule=\"evenodd\" fill-opacity=\"1\" stroke=\"#000000\" stroke-opacity=\"1\" stroke-width=\"3.2\"/>\n",
       "<circle clip-path=\"url(#clip902)\" cx=\"1436.52\" cy=\"1304.51\" r=\"14\" fill=\"#bed2e6\" fill-rule=\"evenodd\" fill-opacity=\"1\" stroke=\"#000000\" stroke-opacity=\"1\" stroke-width=\"3.2\"/>\n",
       "<circle clip-path=\"url(#clip902)\" cx=\"1453.3\" cy=\"1306.06\" r=\"14\" fill=\"#bed2e6\" fill-rule=\"evenodd\" fill-opacity=\"1\" stroke=\"#000000\" stroke-opacity=\"1\" stroke-width=\"3.2\"/>\n",
       "<circle clip-path=\"url(#clip902)\" cx=\"1470.08\" cy=\"1307.52\" r=\"14\" fill=\"#bed2e6\" fill-rule=\"evenodd\" fill-opacity=\"1\" stroke=\"#000000\" stroke-opacity=\"1\" stroke-width=\"3.2\"/>\n",
       "<circle clip-path=\"url(#clip902)\" cx=\"1486.86\" cy=\"1308.9\" r=\"14\" fill=\"#bed2e6\" fill-rule=\"evenodd\" fill-opacity=\"1\" stroke=\"#000000\" stroke-opacity=\"1\" stroke-width=\"3.2\"/>\n",
       "<circle clip-path=\"url(#clip902)\" cx=\"1503.65\" cy=\"1310.19\" r=\"14\" fill=\"#bed2e6\" fill-rule=\"evenodd\" fill-opacity=\"1\" stroke=\"#000000\" stroke-opacity=\"1\" stroke-width=\"3.2\"/>\n",
       "<circle clip-path=\"url(#clip902)\" cx=\"1520.43\" cy=\"1311.41\" r=\"14\" fill=\"#bed2e6\" fill-rule=\"evenodd\" fill-opacity=\"1\" stroke=\"#000000\" stroke-opacity=\"1\" stroke-width=\"3.2\"/>\n",
       "<circle clip-path=\"url(#clip902)\" cx=\"1537.21\" cy=\"1312.57\" r=\"14\" fill=\"#bed2e6\" fill-rule=\"evenodd\" fill-opacity=\"1\" stroke=\"#000000\" stroke-opacity=\"1\" stroke-width=\"3.2\"/>\n",
       "<circle clip-path=\"url(#clip902)\" cx=\"1553.99\" cy=\"1313.66\" r=\"14\" fill=\"#bed2e6\" fill-rule=\"evenodd\" fill-opacity=\"1\" stroke=\"#000000\" stroke-opacity=\"1\" stroke-width=\"3.2\"/>\n",
       "<circle clip-path=\"url(#clip902)\" cx=\"1570.77\" cy=\"1314.68\" r=\"14\" fill=\"#bed2e6\" fill-rule=\"evenodd\" fill-opacity=\"1\" stroke=\"#000000\" stroke-opacity=\"1\" stroke-width=\"3.2\"/>\n",
       "<circle clip-path=\"url(#clip902)\" cx=\"1587.55\" cy=\"1315.65\" r=\"14\" fill=\"#bed2e6\" fill-rule=\"evenodd\" fill-opacity=\"1\" stroke=\"#000000\" stroke-opacity=\"1\" stroke-width=\"3.2\"/>\n",
       "<circle clip-path=\"url(#clip902)\" cx=\"1604.33\" cy=\"1316.56\" r=\"14\" fill=\"#bed2e6\" fill-rule=\"evenodd\" fill-opacity=\"1\" stroke=\"#000000\" stroke-opacity=\"1\" stroke-width=\"3.2\"/>\n",
       "<circle clip-path=\"url(#clip902)\" cx=\"1621.11\" cy=\"1317.43\" r=\"14\" fill=\"#bed2e6\" fill-rule=\"evenodd\" fill-opacity=\"1\" stroke=\"#000000\" stroke-opacity=\"1\" stroke-width=\"3.2\"/>\n",
       "<circle clip-path=\"url(#clip902)\" cx=\"1637.89\" cy=\"1318.24\" r=\"14\" fill=\"#bed2e6\" fill-rule=\"evenodd\" fill-opacity=\"1\" stroke=\"#000000\" stroke-opacity=\"1\" stroke-width=\"3.2\"/>\n",
       "<circle clip-path=\"url(#clip902)\" cx=\"1654.67\" cy=\"1319.01\" r=\"14\" fill=\"#bed2e6\" fill-rule=\"evenodd\" fill-opacity=\"1\" stroke=\"#000000\" stroke-opacity=\"1\" stroke-width=\"3.2\"/>\n",
       "<circle clip-path=\"url(#clip902)\" cx=\"1671.45\" cy=\"1319.73\" r=\"14\" fill=\"#bed2e6\" fill-rule=\"evenodd\" fill-opacity=\"1\" stroke=\"#000000\" stroke-opacity=\"1\" stroke-width=\"3.2\"/>\n",
       "<circle clip-path=\"url(#clip902)\" cx=\"1688.23\" cy=\"1320.42\" r=\"14\" fill=\"#bed2e6\" fill-rule=\"evenodd\" fill-opacity=\"1\" stroke=\"#000000\" stroke-opacity=\"1\" stroke-width=\"3.2\"/>\n",
       "<circle clip-path=\"url(#clip902)\" cx=\"1705.02\" cy=\"1321.06\" r=\"14\" fill=\"#bed2e6\" fill-rule=\"evenodd\" fill-opacity=\"1\" stroke=\"#000000\" stroke-opacity=\"1\" stroke-width=\"3.2\"/>\n",
       "<circle clip-path=\"url(#clip902)\" cx=\"1721.8\" cy=\"1321.67\" r=\"14\" fill=\"#bed2e6\" fill-rule=\"evenodd\" fill-opacity=\"1\" stroke=\"#000000\" stroke-opacity=\"1\" stroke-width=\"3.2\"/>\n",
       "<circle clip-path=\"url(#clip902)\" cx=\"1738.58\" cy=\"1322.25\" r=\"14\" fill=\"#bed2e6\" fill-rule=\"evenodd\" fill-opacity=\"1\" stroke=\"#000000\" stroke-opacity=\"1\" stroke-width=\"3.2\"/>\n",
       "<circle clip-path=\"url(#clip902)\" cx=\"1755.36\" cy=\"1322.79\" r=\"14\" fill=\"#bed2e6\" fill-rule=\"evenodd\" fill-opacity=\"1\" stroke=\"#000000\" stroke-opacity=\"1\" stroke-width=\"3.2\"/>\n",
       "<circle clip-path=\"url(#clip902)\" cx=\"1772.14\" cy=\"1323.31\" r=\"14\" fill=\"#bed2e6\" fill-rule=\"evenodd\" fill-opacity=\"1\" stroke=\"#000000\" stroke-opacity=\"1\" stroke-width=\"3.2\"/>\n",
       "<circle clip-path=\"url(#clip902)\" cx=\"1788.92\" cy=\"1323.79\" r=\"14\" fill=\"#bed2e6\" fill-rule=\"evenodd\" fill-opacity=\"1\" stroke=\"#000000\" stroke-opacity=\"1\" stroke-width=\"3.2\"/>\n",
       "<circle clip-path=\"url(#clip902)\" cx=\"1805.7\" cy=\"1324.25\" r=\"14\" fill=\"#bed2e6\" fill-rule=\"evenodd\" fill-opacity=\"1\" stroke=\"#000000\" stroke-opacity=\"1\" stroke-width=\"3.2\"/>\n",
       "<circle clip-path=\"url(#clip902)\" cx=\"1822.48\" cy=\"1324.68\" r=\"14\" fill=\"#bed2e6\" fill-rule=\"evenodd\" fill-opacity=\"1\" stroke=\"#000000\" stroke-opacity=\"1\" stroke-width=\"3.2\"/>\n",
       "<circle clip-path=\"url(#clip902)\" cx=\"1839.26\" cy=\"1325.09\" r=\"14\" fill=\"#bed2e6\" fill-rule=\"evenodd\" fill-opacity=\"1\" stroke=\"#000000\" stroke-opacity=\"1\" stroke-width=\"3.2\"/>\n",
       "<circle clip-path=\"url(#clip902)\" cx=\"1856.04\" cy=\"1325.48\" r=\"14\" fill=\"#bed2e6\" fill-rule=\"evenodd\" fill-opacity=\"1\" stroke=\"#000000\" stroke-opacity=\"1\" stroke-width=\"3.2\"/>\n",
       "<circle clip-path=\"url(#clip902)\" cx=\"1872.82\" cy=\"1325.84\" r=\"14\" fill=\"#bed2e6\" fill-rule=\"evenodd\" fill-opacity=\"1\" stroke=\"#000000\" stroke-opacity=\"1\" stroke-width=\"3.2\"/>\n",
       "<circle clip-path=\"url(#clip902)\" cx=\"1889.6\" cy=\"1326.19\" r=\"14\" fill=\"#bed2e6\" fill-rule=\"evenodd\" fill-opacity=\"1\" stroke=\"#000000\" stroke-opacity=\"1\" stroke-width=\"3.2\"/>\n",
       "<circle clip-path=\"url(#clip902)\" cx=\"1906.39\" cy=\"1326.51\" r=\"14\" fill=\"#bed2e6\" fill-rule=\"evenodd\" fill-opacity=\"1\" stroke=\"#000000\" stroke-opacity=\"1\" stroke-width=\"3.2\"/>\n",
       "<circle clip-path=\"url(#clip902)\" cx=\"1923.17\" cy=\"1326.82\" r=\"14\" fill=\"#bed2e6\" fill-rule=\"evenodd\" fill-opacity=\"1\" stroke=\"#000000\" stroke-opacity=\"1\" stroke-width=\"3.2\"/>\n",
       "<circle clip-path=\"url(#clip902)\" cx=\"1939.95\" cy=\"1327.11\" r=\"14\" fill=\"#bed2e6\" fill-rule=\"evenodd\" fill-opacity=\"1\" stroke=\"#000000\" stroke-opacity=\"1\" stroke-width=\"3.2\"/>\n",
       "<circle clip-path=\"url(#clip902)\" cx=\"1956.73\" cy=\"1327.38\" r=\"14\" fill=\"#bed2e6\" fill-rule=\"evenodd\" fill-opacity=\"1\" stroke=\"#000000\" stroke-opacity=\"1\" stroke-width=\"3.2\"/>\n",
       "<circle clip-path=\"url(#clip902)\" cx=\"1973.51\" cy=\"1327.64\" r=\"14\" fill=\"#bed2e6\" fill-rule=\"evenodd\" fill-opacity=\"1\" stroke=\"#000000\" stroke-opacity=\"1\" stroke-width=\"3.2\"/>\n",
       "<circle clip-path=\"url(#clip902)\" cx=\"1990.29\" cy=\"1327.88\" r=\"14\" fill=\"#bed2e6\" fill-rule=\"evenodd\" fill-opacity=\"1\" stroke=\"#000000\" stroke-opacity=\"1\" stroke-width=\"3.2\"/>\n",
       "<circle clip-path=\"url(#clip902)\" cx=\"2007.07\" cy=\"1328.11\" r=\"14\" fill=\"#bed2e6\" fill-rule=\"evenodd\" fill-opacity=\"1\" stroke=\"#000000\" stroke-opacity=\"1\" stroke-width=\"3.2\"/>\n",
       "<circle clip-path=\"url(#clip902)\" cx=\"2023.85\" cy=\"1328.33\" r=\"14\" fill=\"#bed2e6\" fill-rule=\"evenodd\" fill-opacity=\"1\" stroke=\"#000000\" stroke-opacity=\"1\" stroke-width=\"3.2\"/>\n",
       "<circle clip-path=\"url(#clip902)\" cx=\"2040.63\" cy=\"1328.54\" r=\"14\" fill=\"#bed2e6\" fill-rule=\"evenodd\" fill-opacity=\"1\" stroke=\"#000000\" stroke-opacity=\"1\" stroke-width=\"3.2\"/>\n",
       "<circle clip-path=\"url(#clip902)\" cx=\"2057.41\" cy=\"1328.73\" r=\"14\" fill=\"#bed2e6\" fill-rule=\"evenodd\" fill-opacity=\"1\" stroke=\"#000000\" stroke-opacity=\"1\" stroke-width=\"3.2\"/>\n",
       "<circle clip-path=\"url(#clip902)\" cx=\"2074.19\" cy=\"1328.91\" r=\"14\" fill=\"#bed2e6\" fill-rule=\"evenodd\" fill-opacity=\"1\" stroke=\"#000000\" stroke-opacity=\"1\" stroke-width=\"3.2\"/>\n",
       "<circle clip-path=\"url(#clip902)\" cx=\"2090.97\" cy=\"1329.09\" r=\"14\" fill=\"#bed2e6\" fill-rule=\"evenodd\" fill-opacity=\"1\" stroke=\"#000000\" stroke-opacity=\"1\" stroke-width=\"3.2\"/>\n",
       "<circle clip-path=\"url(#clip902)\" cx=\"2107.76\" cy=\"1329.25\" r=\"14\" fill=\"#bed2e6\" fill-rule=\"evenodd\" fill-opacity=\"1\" stroke=\"#000000\" stroke-opacity=\"1\" stroke-width=\"3.2\"/>\n",
       "<circle clip-path=\"url(#clip902)\" cx=\"2124.54\" cy=\"1329.4\" r=\"14\" fill=\"#bed2e6\" fill-rule=\"evenodd\" fill-opacity=\"1\" stroke=\"#000000\" stroke-opacity=\"1\" stroke-width=\"3.2\"/>\n",
       "<circle clip-path=\"url(#clip902)\" cx=\"2141.32\" cy=\"1329.55\" r=\"14\" fill=\"#bed2e6\" fill-rule=\"evenodd\" fill-opacity=\"1\" stroke=\"#000000\" stroke-opacity=\"1\" stroke-width=\"3.2\"/>\n",
       "<circle clip-path=\"url(#clip902)\" cx=\"2158.1\" cy=\"1329.69\" r=\"14\" fill=\"#bed2e6\" fill-rule=\"evenodd\" fill-opacity=\"1\" stroke=\"#000000\" stroke-opacity=\"1\" stroke-width=\"3.2\"/>\n",
       "<circle clip-path=\"url(#clip902)\" cx=\"2174.88\" cy=\"1329.81\" r=\"14\" fill=\"#bed2e6\" fill-rule=\"evenodd\" fill-opacity=\"1\" stroke=\"#000000\" stroke-opacity=\"1\" stroke-width=\"3.2\"/>\n",
       "<circle clip-path=\"url(#clip902)\" cx=\"2191.66\" cy=\"1329.94\" r=\"14\" fill=\"#bed2e6\" fill-rule=\"evenodd\" fill-opacity=\"1\" stroke=\"#000000\" stroke-opacity=\"1\" stroke-width=\"3.2\"/>\n",
       "<circle clip-path=\"url(#clip902)\" cx=\"2208.44\" cy=\"1330.05\" r=\"14\" fill=\"#bed2e6\" fill-rule=\"evenodd\" fill-opacity=\"1\" stroke=\"#000000\" stroke-opacity=\"1\" stroke-width=\"3.2\"/>\n",
       "<circle clip-path=\"url(#clip902)\" cx=\"2225.22\" cy=\"1330.16\" r=\"14\" fill=\"#bed2e6\" fill-rule=\"evenodd\" fill-opacity=\"1\" stroke=\"#000000\" stroke-opacity=\"1\" stroke-width=\"3.2\"/>\n",
       "<circle clip-path=\"url(#clip902)\" cx=\"2242\" cy=\"1330.27\" r=\"14\" fill=\"#bed2e6\" fill-rule=\"evenodd\" fill-opacity=\"1\" stroke=\"#000000\" stroke-opacity=\"1\" stroke-width=\"3.2\"/>\n",
       "<circle clip-path=\"url(#clip902)\" cx=\"2258.78\" cy=\"1330.36\" r=\"14\" fill=\"#bed2e6\" fill-rule=\"evenodd\" fill-opacity=\"1\" stroke=\"#000000\" stroke-opacity=\"1\" stroke-width=\"3.2\"/>\n",
       "<circle clip-path=\"url(#clip902)\" cx=\"2275.56\" cy=\"1330.45\" r=\"14\" fill=\"#bed2e6\" fill-rule=\"evenodd\" fill-opacity=\"1\" stroke=\"#000000\" stroke-opacity=\"1\" stroke-width=\"3.2\"/>\n",
       "<circle clip-path=\"url(#clip902)\" cx=\"2292.34\" cy=\"1330.54\" r=\"14\" fill=\"#bed2e6\" fill-rule=\"evenodd\" fill-opacity=\"1\" stroke=\"#000000\" stroke-opacity=\"1\" stroke-width=\"3.2\"/>\n",
       "<circle clip-path=\"url(#clip902)\" cx=\"278.644\" cy=\"156.809\" r=\"14\" fill=\"#9ebbda\" fill-rule=\"evenodd\" fill-opacity=\"1\" stroke=\"#000000\" stroke-opacity=\"1\" stroke-width=\"3.2\"/>\n",
       "<circle clip-path=\"url(#clip902)\" cx=\"295.425\" cy=\"157.772\" r=\"14\" fill=\"#9ebbda\" fill-rule=\"evenodd\" fill-opacity=\"1\" stroke=\"#000000\" stroke-opacity=\"1\" stroke-width=\"3.2\"/>\n",
       "<circle clip-path=\"url(#clip902)\" cx=\"312.206\" cy=\"158.794\" r=\"14\" fill=\"#9ebbda\" fill-rule=\"evenodd\" fill-opacity=\"1\" stroke=\"#000000\" stroke-opacity=\"1\" stroke-width=\"3.2\"/>\n",
       "<circle clip-path=\"url(#clip902)\" cx=\"328.987\" cy=\"159.877\" r=\"14\" fill=\"#9ebbda\" fill-rule=\"evenodd\" fill-opacity=\"1\" stroke=\"#000000\" stroke-opacity=\"1\" stroke-width=\"3.2\"/>\n",
       "<circle clip-path=\"url(#clip902)\" cx=\"345.767\" cy=\"161.024\" r=\"14\" fill=\"#9ebbda\" fill-rule=\"evenodd\" fill-opacity=\"1\" stroke=\"#000000\" stroke-opacity=\"1\" stroke-width=\"3.2\"/>\n",
       "<circle clip-path=\"url(#clip902)\" cx=\"362.548\" cy=\"162.241\" r=\"14\" fill=\"#9ebbda\" fill-rule=\"evenodd\" fill-opacity=\"1\" stroke=\"#000000\" stroke-opacity=\"1\" stroke-width=\"3.2\"/>\n",
       "<circle clip-path=\"url(#clip902)\" cx=\"379.329\" cy=\"163.532\" r=\"14\" fill=\"#9ebbda\" fill-rule=\"evenodd\" fill-opacity=\"1\" stroke=\"#000000\" stroke-opacity=\"1\" stroke-width=\"3.2\"/>\n",
       "<circle clip-path=\"url(#clip902)\" cx=\"396.11\" cy=\"164.9\" r=\"14\" fill=\"#9ebbda\" fill-rule=\"evenodd\" fill-opacity=\"1\" stroke=\"#000000\" stroke-opacity=\"1\" stroke-width=\"3.2\"/>\n",
       "<circle clip-path=\"url(#clip902)\" cx=\"412.891\" cy=\"166.35\" r=\"14\" fill=\"#9ebbda\" fill-rule=\"evenodd\" fill-opacity=\"1\" stroke=\"#000000\" stroke-opacity=\"1\" stroke-width=\"3.2\"/>\n",
       "<circle clip-path=\"url(#clip902)\" cx=\"429.672\" cy=\"167.888\" r=\"14\" fill=\"#9ebbda\" fill-rule=\"evenodd\" fill-opacity=\"1\" stroke=\"#000000\" stroke-opacity=\"1\" stroke-width=\"3.2\"/>\n",
       "<circle clip-path=\"url(#clip902)\" cx=\"446.452\" cy=\"169.52\" r=\"14\" fill=\"#9ebbda\" fill-rule=\"evenodd\" fill-opacity=\"1\" stroke=\"#000000\" stroke-opacity=\"1\" stroke-width=\"3.2\"/>\n",
       "<circle clip-path=\"url(#clip902)\" cx=\"463.233\" cy=\"171.25\" r=\"14\" fill=\"#9ebbda\" fill-rule=\"evenodd\" fill-opacity=\"1\" stroke=\"#000000\" stroke-opacity=\"1\" stroke-width=\"3.2\"/>\n",
       "<circle clip-path=\"url(#clip902)\" cx=\"480.014\" cy=\"173.085\" r=\"14\" fill=\"#9ebbda\" fill-rule=\"evenodd\" fill-opacity=\"1\" stroke=\"#000000\" stroke-opacity=\"1\" stroke-width=\"3.2\"/>\n",
       "<circle clip-path=\"url(#clip902)\" cx=\"496.795\" cy=\"175.031\" r=\"14\" fill=\"#9ebbda\" fill-rule=\"evenodd\" fill-opacity=\"1\" stroke=\"#000000\" stroke-opacity=\"1\" stroke-width=\"3.2\"/>\n",
       "<circle clip-path=\"url(#clip902)\" cx=\"513.576\" cy=\"177.096\" r=\"14\" fill=\"#9ebbda\" fill-rule=\"evenodd\" fill-opacity=\"1\" stroke=\"#000000\" stroke-opacity=\"1\" stroke-width=\"3.2\"/>\n",
       "<circle clip-path=\"url(#clip902)\" cx=\"530.357\" cy=\"179.287\" r=\"14\" fill=\"#9ebbda\" fill-rule=\"evenodd\" fill-opacity=\"1\" stroke=\"#000000\" stroke-opacity=\"1\" stroke-width=\"3.2\"/>\n",
       "<circle clip-path=\"url(#clip902)\" cx=\"547.137\" cy=\"181.612\" r=\"14\" fill=\"#9ebbda\" fill-rule=\"evenodd\" fill-opacity=\"1\" stroke=\"#000000\" stroke-opacity=\"1\" stroke-width=\"3.2\"/>\n",
       "<circle clip-path=\"url(#clip902)\" cx=\"563.918\" cy=\"184.078\" r=\"14\" fill=\"#9ebbda\" fill-rule=\"evenodd\" fill-opacity=\"1\" stroke=\"#000000\" stroke-opacity=\"1\" stroke-width=\"3.2\"/>\n",
       "<circle clip-path=\"url(#clip902)\" cx=\"580.699\" cy=\"186.696\" r=\"14\" fill=\"#9ebbda\" fill-rule=\"evenodd\" fill-opacity=\"1\" stroke=\"#000000\" stroke-opacity=\"1\" stroke-width=\"3.2\"/>\n",
       "<circle clip-path=\"url(#clip902)\" cx=\"597.48\" cy=\"189.475\" r=\"14\" fill=\"#9ebbda\" fill-rule=\"evenodd\" fill-opacity=\"1\" stroke=\"#000000\" stroke-opacity=\"1\" stroke-width=\"3.2\"/>\n",
       "<circle clip-path=\"url(#clip902)\" cx=\"614.261\" cy=\"192.424\" r=\"14\" fill=\"#9ebbda\" fill-rule=\"evenodd\" fill-opacity=\"1\" stroke=\"#000000\" stroke-opacity=\"1\" stroke-width=\"3.2\"/>\n",
       "<circle clip-path=\"url(#clip902)\" cx=\"631.042\" cy=\"195.556\" r=\"14\" fill=\"#9ebbda\" fill-rule=\"evenodd\" fill-opacity=\"1\" stroke=\"#000000\" stroke-opacity=\"1\" stroke-width=\"3.2\"/>\n",
       "<circle clip-path=\"url(#clip902)\" cx=\"647.822\" cy=\"198.881\" r=\"14\" fill=\"#9ebbda\" fill-rule=\"evenodd\" fill-opacity=\"1\" stroke=\"#000000\" stroke-opacity=\"1\" stroke-width=\"3.2\"/>\n",
       "<circle clip-path=\"url(#clip902)\" cx=\"664.603\" cy=\"202.413\" r=\"14\" fill=\"#9ebbda\" fill-rule=\"evenodd\" fill-opacity=\"1\" stroke=\"#000000\" stroke-opacity=\"1\" stroke-width=\"3.2\"/>\n",
       "<circle clip-path=\"url(#clip902)\" cx=\"681.384\" cy=\"206.164\" r=\"14\" fill=\"#9ebbda\" fill-rule=\"evenodd\" fill-opacity=\"1\" stroke=\"#000000\" stroke-opacity=\"1\" stroke-width=\"3.2\"/>\n",
       "<circle clip-path=\"url(#clip902)\" cx=\"698.165\" cy=\"210.149\" r=\"14\" fill=\"#9ebbda\" fill-rule=\"evenodd\" fill-opacity=\"1\" stroke=\"#000000\" stroke-opacity=\"1\" stroke-width=\"3.2\"/>\n",
       "<circle clip-path=\"url(#clip902)\" cx=\"714.946\" cy=\"214.383\" r=\"14\" fill=\"#9ebbda\" fill-rule=\"evenodd\" fill-opacity=\"1\" stroke=\"#000000\" stroke-opacity=\"1\" stroke-width=\"3.2\"/>\n",
       "<circle clip-path=\"url(#clip902)\" cx=\"731.727\" cy=\"218.884\" r=\"14\" fill=\"#9ebbda\" fill-rule=\"evenodd\" fill-opacity=\"1\" stroke=\"#000000\" stroke-opacity=\"1\" stroke-width=\"3.2\"/>\n",
       "<circle clip-path=\"url(#clip902)\" cx=\"748.508\" cy=\"223.668\" r=\"14\" fill=\"#9ebbda\" fill-rule=\"evenodd\" fill-opacity=\"1\" stroke=\"#000000\" stroke-opacity=\"1\" stroke-width=\"3.2\"/>\n",
       "<circle clip-path=\"url(#clip902)\" cx=\"765.288\" cy=\"228.756\" r=\"14\" fill=\"#9ebbda\" fill-rule=\"evenodd\" fill-opacity=\"1\" stroke=\"#000000\" stroke-opacity=\"1\" stroke-width=\"3.2\"/>\n",
       "<circle clip-path=\"url(#clip902)\" cx=\"782.069\" cy=\"234.166\" r=\"14\" fill=\"#9ebbda\" fill-rule=\"evenodd\" fill-opacity=\"1\" stroke=\"#000000\" stroke-opacity=\"1\" stroke-width=\"3.2\"/>\n",
       "<circle clip-path=\"url(#clip902)\" cx=\"798.85\" cy=\"239.923\" r=\"14\" fill=\"#9ebbda\" fill-rule=\"evenodd\" fill-opacity=\"1\" stroke=\"#000000\" stroke-opacity=\"1\" stroke-width=\"3.2\"/>\n",
       "<circle clip-path=\"url(#clip902)\" cx=\"815.631\" cy=\"246.049\" r=\"14\" fill=\"#9ebbda\" fill-rule=\"evenodd\" fill-opacity=\"1\" stroke=\"#000000\" stroke-opacity=\"1\" stroke-width=\"3.2\"/>\n",
       "<circle clip-path=\"url(#clip902)\" cx=\"832.412\" cy=\"252.57\" r=\"14\" fill=\"#9ebbda\" fill-rule=\"evenodd\" fill-opacity=\"1\" stroke=\"#000000\" stroke-opacity=\"1\" stroke-width=\"3.2\"/>\n",
       "<circle clip-path=\"url(#clip902)\" cx=\"849.193\" cy=\"259.515\" r=\"14\" fill=\"#9ebbda\" fill-rule=\"evenodd\" fill-opacity=\"1\" stroke=\"#000000\" stroke-opacity=\"1\" stroke-width=\"3.2\"/>\n",
       "<circle clip-path=\"url(#clip902)\" cx=\"865.973\" cy=\"266.914\" r=\"14\" fill=\"#9ebbda\" fill-rule=\"evenodd\" fill-opacity=\"1\" stroke=\"#000000\" stroke-opacity=\"1\" stroke-width=\"3.2\"/>\n",
       "<circle clip-path=\"url(#clip902)\" cx=\"882.754\" cy=\"274.799\" r=\"14\" fill=\"#9ebbda\" fill-rule=\"evenodd\" fill-opacity=\"1\" stroke=\"#000000\" stroke-opacity=\"1\" stroke-width=\"3.2\"/>\n",
       "<circle clip-path=\"url(#clip902)\" cx=\"899.535\" cy=\"283.207\" r=\"14\" fill=\"#9ebbda\" fill-rule=\"evenodd\" fill-opacity=\"1\" stroke=\"#000000\" stroke-opacity=\"1\" stroke-width=\"3.2\"/>\n",
       "<circle clip-path=\"url(#clip902)\" cx=\"916.316\" cy=\"292.176\" r=\"14\" fill=\"#9ebbda\" fill-rule=\"evenodd\" fill-opacity=\"1\" stroke=\"#000000\" stroke-opacity=\"1\" stroke-width=\"3.2\"/>\n",
       "<circle clip-path=\"url(#clip902)\" cx=\"933.097\" cy=\"301.75\" r=\"14\" fill=\"#9ebbda\" fill-rule=\"evenodd\" fill-opacity=\"1\" stroke=\"#000000\" stroke-opacity=\"1\" stroke-width=\"3.2\"/>\n",
       "<circle clip-path=\"url(#clip902)\" cx=\"949.878\" cy=\"311.974\" r=\"14\" fill=\"#9ebbda\" fill-rule=\"evenodd\" fill-opacity=\"1\" stroke=\"#000000\" stroke-opacity=\"1\" stroke-width=\"3.2\"/>\n",
       "<circle clip-path=\"url(#clip902)\" cx=\"966.658\" cy=\"322.899\" r=\"14\" fill=\"#9ebbda\" fill-rule=\"evenodd\" fill-opacity=\"1\" stroke=\"#000000\" stroke-opacity=\"1\" stroke-width=\"3.2\"/>\n",
       "<circle clip-path=\"url(#clip902)\" cx=\"983.439\" cy=\"334.584\" r=\"14\" fill=\"#9ebbda\" fill-rule=\"evenodd\" fill-opacity=\"1\" stroke=\"#000000\" stroke-opacity=\"1\" stroke-width=\"3.2\"/>\n",
       "<circle clip-path=\"url(#clip902)\" cx=\"1000.22\" cy=\"347.088\" r=\"14\" fill=\"#9ebbda\" fill-rule=\"evenodd\" fill-opacity=\"1\" stroke=\"#000000\" stroke-opacity=\"1\" stroke-width=\"3.2\"/>\n",
       "<circle clip-path=\"url(#clip902)\" cx=\"1017\" cy=\"360.483\" r=\"14\" fill=\"#9ebbda\" fill-rule=\"evenodd\" fill-opacity=\"1\" stroke=\"#000000\" stroke-opacity=\"1\" stroke-width=\"3.2\"/>\n",
       "<circle clip-path=\"url(#clip902)\" cx=\"1033.78\" cy=\"374.843\" r=\"14\" fill=\"#9ebbda\" fill-rule=\"evenodd\" fill-opacity=\"1\" stroke=\"#000000\" stroke-opacity=\"1\" stroke-width=\"3.2\"/>\n",
       "<circle clip-path=\"url(#clip902)\" cx=\"1050.56\" cy=\"390.257\" r=\"14\" fill=\"#9ebbda\" fill-rule=\"evenodd\" fill-opacity=\"1\" stroke=\"#000000\" stroke-opacity=\"1\" stroke-width=\"3.2\"/>\n",
       "<circle clip-path=\"url(#clip902)\" cx=\"1067.34\" cy=\"406.82\" r=\"14\" fill=\"#9ebbda\" fill-rule=\"evenodd\" fill-opacity=\"1\" stroke=\"#000000\" stroke-opacity=\"1\" stroke-width=\"3.2\"/>\n",
       "<circle clip-path=\"url(#clip902)\" cx=\"1084.12\" cy=\"424.641\" r=\"14\" fill=\"#9ebbda\" fill-rule=\"evenodd\" fill-opacity=\"1\" stroke=\"#000000\" stroke-opacity=\"1\" stroke-width=\"3.2\"/>\n",
       "<circle clip-path=\"url(#clip902)\" cx=\"1100.91\" cy=\"443.846\" r=\"14\" fill=\"#9ebbda\" fill-rule=\"evenodd\" fill-opacity=\"1\" stroke=\"#000000\" stroke-opacity=\"1\" stroke-width=\"3.2\"/>\n",
       "<circle clip-path=\"url(#clip902)\" cx=\"1117.69\" cy=\"464.577\" r=\"14\" fill=\"#9ebbda\" fill-rule=\"evenodd\" fill-opacity=\"1\" stroke=\"#000000\" stroke-opacity=\"1\" stroke-width=\"3.2\"/>\n",
       "<circle clip-path=\"url(#clip902)\" cx=\"1134.47\" cy=\"487\" r=\"14\" fill=\"#9ebbda\" fill-rule=\"evenodd\" fill-opacity=\"1\" stroke=\"#000000\" stroke-opacity=\"1\" stroke-width=\"3.2\"/>\n",
       "<circle clip-path=\"url(#clip902)\" cx=\"1151.25\" cy=\"511.307\" r=\"14\" fill=\"#9ebbda\" fill-rule=\"evenodd\" fill-opacity=\"1\" stroke=\"#000000\" stroke-opacity=\"1\" stroke-width=\"3.2\"/>\n",
       "<circle clip-path=\"url(#clip902)\" cx=\"1168.03\" cy=\"537.728\" r=\"14\" fill=\"#9ebbda\" fill-rule=\"evenodd\" fill-opacity=\"1\" stroke=\"#000000\" stroke-opacity=\"1\" stroke-width=\"3.2\"/>\n",
       "<circle clip-path=\"url(#clip902)\" cx=\"1184.81\" cy=\"566.537\" r=\"14\" fill=\"#9ebbda\" fill-rule=\"evenodd\" fill-opacity=\"1\" stroke=\"#000000\" stroke-opacity=\"1\" stroke-width=\"3.2\"/>\n",
       "<circle clip-path=\"url(#clip902)\" cx=\"1201.59\" cy=\"598.067\" r=\"14\" fill=\"#9ebbda\" fill-rule=\"evenodd\" fill-opacity=\"1\" stroke=\"#000000\" stroke-opacity=\"1\" stroke-width=\"3.2\"/>\n",
       "<circle clip-path=\"url(#clip902)\" cx=\"1218.37\" cy=\"632.736\" r=\"14\" fill=\"#9ebbda\" fill-rule=\"evenodd\" fill-opacity=\"1\" stroke=\"#000000\" stroke-opacity=\"1\" stroke-width=\"3.2\"/>\n",
       "<circle clip-path=\"url(#clip902)\" cx=\"1235.15\" cy=\"671.073\" r=\"14\" fill=\"#9ebbda\" fill-rule=\"evenodd\" fill-opacity=\"1\" stroke=\"#000000\" stroke-opacity=\"1\" stroke-width=\"3.2\"/>\n",
       "<circle clip-path=\"url(#clip902)\" cx=\"1251.93\" cy=\"713.778\" r=\"14\" fill=\"#9ebbda\" fill-rule=\"evenodd\" fill-opacity=\"1\" stroke=\"#000000\" stroke-opacity=\"1\" stroke-width=\"3.2\"/>\n",
       "<circle clip-path=\"url(#clip902)\" cx=\"1268.71\" cy=\"761.807\" r=\"14\" fill=\"#9ebbda\" fill-rule=\"evenodd\" fill-opacity=\"1\" stroke=\"#000000\" stroke-opacity=\"1\" stroke-width=\"3.2\"/>\n",
       "<circle clip-path=\"url(#clip902)\" cx=\"1285.49\" cy=\"816.542\" r=\"14\" fill=\"#9ebbda\" fill-rule=\"evenodd\" fill-opacity=\"1\" stroke=\"#000000\" stroke-opacity=\"1\" stroke-width=\"3.2\"/>\n",
       "<circle clip-path=\"url(#clip902)\" cx=\"1302.28\" cy=\"880.129\" r=\"14\" fill=\"#9ebbda\" fill-rule=\"evenodd\" fill-opacity=\"1\" stroke=\"#000000\" stroke-opacity=\"1\" stroke-width=\"3.2\"/>\n",
       "<circle clip-path=\"url(#clip902)\" cx=\"1319.06\" cy=\"956.225\" r=\"14\" fill=\"#9ebbda\" fill-rule=\"evenodd\" fill-opacity=\"1\" stroke=\"#000000\" stroke-opacity=\"1\" stroke-width=\"3.2\"/>\n",
       "<circle clip-path=\"url(#clip902)\" cx=\"1335.84\" cy=\"1051.52\" r=\"14\" fill=\"#9ebbda\" fill-rule=\"evenodd\" fill-opacity=\"1\" stroke=\"#000000\" stroke-opacity=\"1\" stroke-width=\"3.2\"/>\n",
       "<circle clip-path=\"url(#clip902)\" cx=\"1352.62\" cy=\"1166.14\" r=\"14\" fill=\"#9ebbda\" fill-rule=\"evenodd\" fill-opacity=\"1\" stroke=\"#000000\" stroke-opacity=\"1\" stroke-width=\"3.2\"/>\n",
       "<circle clip-path=\"url(#clip902)\" cx=\"1369.4\" cy=\"1233.43\" r=\"14\" fill=\"#9ebbda\" fill-rule=\"evenodd\" fill-opacity=\"1\" stroke=\"#000000\" stroke-opacity=\"1\" stroke-width=\"3.2\"/>\n",
       "<circle clip-path=\"url(#clip902)\" cx=\"1386.18\" cy=\"1259.58\" r=\"14\" fill=\"#9ebbda\" fill-rule=\"evenodd\" fill-opacity=\"1\" stroke=\"#000000\" stroke-opacity=\"1\" stroke-width=\"3.2\"/>\n",
       "<circle clip-path=\"url(#clip902)\" cx=\"1402.96\" cy=\"1273.49\" r=\"14\" fill=\"#9ebbda\" fill-rule=\"evenodd\" fill-opacity=\"1\" stroke=\"#000000\" stroke-opacity=\"1\" stroke-width=\"3.2\"/>\n",
       "<circle clip-path=\"url(#clip902)\" cx=\"1419.74\" cy=\"1282.49\" r=\"14\" fill=\"#9ebbda\" fill-rule=\"evenodd\" fill-opacity=\"1\" stroke=\"#000000\" stroke-opacity=\"1\" stroke-width=\"3.2\"/>\n",
       "<circle clip-path=\"url(#clip902)\" cx=\"1436.52\" cy=\"1288.96\" r=\"14\" fill=\"#9ebbda\" fill-rule=\"evenodd\" fill-opacity=\"1\" stroke=\"#000000\" stroke-opacity=\"1\" stroke-width=\"3.2\"/>\n",
       "<circle clip-path=\"url(#clip902)\" cx=\"1453.3\" cy=\"1293.92\" r=\"14\" fill=\"#9ebbda\" fill-rule=\"evenodd\" fill-opacity=\"1\" stroke=\"#000000\" stroke-opacity=\"1\" stroke-width=\"3.2\"/>\n",
       "<circle clip-path=\"url(#clip902)\" cx=\"1470.08\" cy=\"1297.89\" r=\"14\" fill=\"#9ebbda\" fill-rule=\"evenodd\" fill-opacity=\"1\" stroke=\"#000000\" stroke-opacity=\"1\" stroke-width=\"3.2\"/>\n",
       "<circle clip-path=\"url(#clip902)\" cx=\"1486.86\" cy=\"1301.16\" r=\"14\" fill=\"#9ebbda\" fill-rule=\"evenodd\" fill-opacity=\"1\" stroke=\"#000000\" stroke-opacity=\"1\" stroke-width=\"3.2\"/>\n",
       "<circle clip-path=\"url(#clip902)\" cx=\"1503.65\" cy=\"1303.93\" r=\"14\" fill=\"#9ebbda\" fill-rule=\"evenodd\" fill-opacity=\"1\" stroke=\"#000000\" stroke-opacity=\"1\" stroke-width=\"3.2\"/>\n",
       "<circle clip-path=\"url(#clip902)\" cx=\"1520.43\" cy=\"1306.3\" r=\"14\" fill=\"#9ebbda\" fill-rule=\"evenodd\" fill-opacity=\"1\" stroke=\"#000000\" stroke-opacity=\"1\" stroke-width=\"3.2\"/>\n",
       "<circle clip-path=\"url(#clip902)\" cx=\"1537.21\" cy=\"1308.37\" r=\"14\" fill=\"#9ebbda\" fill-rule=\"evenodd\" fill-opacity=\"1\" stroke=\"#000000\" stroke-opacity=\"1\" stroke-width=\"3.2\"/>\n",
       "<circle clip-path=\"url(#clip902)\" cx=\"1553.99\" cy=\"1310.2\" r=\"14\" fill=\"#9ebbda\" fill-rule=\"evenodd\" fill-opacity=\"1\" stroke=\"#000000\" stroke-opacity=\"1\" stroke-width=\"3.2\"/>\n",
       "<circle clip-path=\"url(#clip902)\" cx=\"1570.77\" cy=\"1311.82\" r=\"14\" fill=\"#9ebbda\" fill-rule=\"evenodd\" fill-opacity=\"1\" stroke=\"#000000\" stroke-opacity=\"1\" stroke-width=\"3.2\"/>\n",
       "<circle clip-path=\"url(#clip902)\" cx=\"1587.55\" cy=\"1313.27\" r=\"14\" fill=\"#9ebbda\" fill-rule=\"evenodd\" fill-opacity=\"1\" stroke=\"#000000\" stroke-opacity=\"1\" stroke-width=\"3.2\"/>\n",
       "<circle clip-path=\"url(#clip902)\" cx=\"1604.33\" cy=\"1314.58\" r=\"14\" fill=\"#9ebbda\" fill-rule=\"evenodd\" fill-opacity=\"1\" stroke=\"#000000\" stroke-opacity=\"1\" stroke-width=\"3.2\"/>\n",
       "<circle clip-path=\"url(#clip902)\" cx=\"1621.11\" cy=\"1315.77\" r=\"14\" fill=\"#9ebbda\" fill-rule=\"evenodd\" fill-opacity=\"1\" stroke=\"#000000\" stroke-opacity=\"1\" stroke-width=\"3.2\"/>\n",
       "<circle clip-path=\"url(#clip902)\" cx=\"1637.89\" cy=\"1316.86\" r=\"14\" fill=\"#9ebbda\" fill-rule=\"evenodd\" fill-opacity=\"1\" stroke=\"#000000\" stroke-opacity=\"1\" stroke-width=\"3.2\"/>\n",
       "<circle clip-path=\"url(#clip902)\" cx=\"1654.67\" cy=\"1317.85\" r=\"14\" fill=\"#9ebbda\" fill-rule=\"evenodd\" fill-opacity=\"1\" stroke=\"#000000\" stroke-opacity=\"1\" stroke-width=\"3.2\"/>\n",
       "<circle clip-path=\"url(#clip902)\" cx=\"1671.45\" cy=\"1318.76\" r=\"14\" fill=\"#9ebbda\" fill-rule=\"evenodd\" fill-opacity=\"1\" stroke=\"#000000\" stroke-opacity=\"1\" stroke-width=\"3.2\"/>\n",
       "<circle clip-path=\"url(#clip902)\" cx=\"1688.23\" cy=\"1319.6\" r=\"14\" fill=\"#9ebbda\" fill-rule=\"evenodd\" fill-opacity=\"1\" stroke=\"#000000\" stroke-opacity=\"1\" stroke-width=\"3.2\"/>\n",
       "<circle clip-path=\"url(#clip902)\" cx=\"1705.02\" cy=\"1320.38\" r=\"14\" fill=\"#9ebbda\" fill-rule=\"evenodd\" fill-opacity=\"1\" stroke=\"#000000\" stroke-opacity=\"1\" stroke-width=\"3.2\"/>\n",
       "<circle clip-path=\"url(#clip902)\" cx=\"1721.8\" cy=\"1321.1\" r=\"14\" fill=\"#9ebbda\" fill-rule=\"evenodd\" fill-opacity=\"1\" stroke=\"#000000\" stroke-opacity=\"1\" stroke-width=\"3.2\"/>\n",
       "<circle clip-path=\"url(#clip902)\" cx=\"1738.58\" cy=\"1321.77\" r=\"14\" fill=\"#9ebbda\" fill-rule=\"evenodd\" fill-opacity=\"1\" stroke=\"#000000\" stroke-opacity=\"1\" stroke-width=\"3.2\"/>\n",
       "<circle clip-path=\"url(#clip902)\" cx=\"1755.36\" cy=\"1322.39\" r=\"14\" fill=\"#9ebbda\" fill-rule=\"evenodd\" fill-opacity=\"1\" stroke=\"#000000\" stroke-opacity=\"1\" stroke-width=\"3.2\"/>\n",
       "<circle clip-path=\"url(#clip902)\" cx=\"1772.14\" cy=\"1322.97\" r=\"14\" fill=\"#9ebbda\" fill-rule=\"evenodd\" fill-opacity=\"1\" stroke=\"#000000\" stroke-opacity=\"1\" stroke-width=\"3.2\"/>\n",
       "<circle clip-path=\"url(#clip902)\" cx=\"1788.92\" cy=\"1323.5\" r=\"14\" fill=\"#9ebbda\" fill-rule=\"evenodd\" fill-opacity=\"1\" stroke=\"#000000\" stroke-opacity=\"1\" stroke-width=\"3.2\"/>\n",
       "<circle clip-path=\"url(#clip902)\" cx=\"1805.7\" cy=\"1324.01\" r=\"14\" fill=\"#9ebbda\" fill-rule=\"evenodd\" fill-opacity=\"1\" stroke=\"#000000\" stroke-opacity=\"1\" stroke-width=\"3.2\"/>\n",
       "<circle clip-path=\"url(#clip902)\" cx=\"1822.48\" cy=\"1324.48\" r=\"14\" fill=\"#9ebbda\" fill-rule=\"evenodd\" fill-opacity=\"1\" stroke=\"#000000\" stroke-opacity=\"1\" stroke-width=\"3.2\"/>\n",
       "<circle clip-path=\"url(#clip902)\" cx=\"1839.26\" cy=\"1324.92\" r=\"14\" fill=\"#9ebbda\" fill-rule=\"evenodd\" fill-opacity=\"1\" stroke=\"#000000\" stroke-opacity=\"1\" stroke-width=\"3.2\"/>\n",
       "<circle clip-path=\"url(#clip902)\" cx=\"1856.04\" cy=\"1325.33\" r=\"14\" fill=\"#9ebbda\" fill-rule=\"evenodd\" fill-opacity=\"1\" stroke=\"#000000\" stroke-opacity=\"1\" stroke-width=\"3.2\"/>\n",
       "<circle clip-path=\"url(#clip902)\" cx=\"1872.82\" cy=\"1325.72\" r=\"14\" fill=\"#9ebbda\" fill-rule=\"evenodd\" fill-opacity=\"1\" stroke=\"#000000\" stroke-opacity=\"1\" stroke-width=\"3.2\"/>\n",
       "<circle clip-path=\"url(#clip902)\" cx=\"1889.6\" cy=\"1326.08\" r=\"14\" fill=\"#9ebbda\" fill-rule=\"evenodd\" fill-opacity=\"1\" stroke=\"#000000\" stroke-opacity=\"1\" stroke-width=\"3.2\"/>\n",
       "<circle clip-path=\"url(#clip902)\" cx=\"1906.39\" cy=\"1326.42\" r=\"14\" fill=\"#9ebbda\" fill-rule=\"evenodd\" fill-opacity=\"1\" stroke=\"#000000\" stroke-opacity=\"1\" stroke-width=\"3.2\"/>\n",
       "<circle clip-path=\"url(#clip902)\" cx=\"1923.17\" cy=\"1326.74\" r=\"14\" fill=\"#9ebbda\" fill-rule=\"evenodd\" fill-opacity=\"1\" stroke=\"#000000\" stroke-opacity=\"1\" stroke-width=\"3.2\"/>\n",
       "<circle clip-path=\"url(#clip902)\" cx=\"1939.95\" cy=\"1327.04\" r=\"14\" fill=\"#9ebbda\" fill-rule=\"evenodd\" fill-opacity=\"1\" stroke=\"#000000\" stroke-opacity=\"1\" stroke-width=\"3.2\"/>\n",
       "<circle clip-path=\"url(#clip902)\" cx=\"1956.73\" cy=\"1327.33\" r=\"14\" fill=\"#9ebbda\" fill-rule=\"evenodd\" fill-opacity=\"1\" stroke=\"#000000\" stroke-opacity=\"1\" stroke-width=\"3.2\"/>\n",
       "<circle clip-path=\"url(#clip902)\" cx=\"1973.51\" cy=\"1327.59\" r=\"14\" fill=\"#9ebbda\" fill-rule=\"evenodd\" fill-opacity=\"1\" stroke=\"#000000\" stroke-opacity=\"1\" stroke-width=\"3.2\"/>\n",
       "<circle clip-path=\"url(#clip902)\" cx=\"1990.29\" cy=\"1327.85\" r=\"14\" fill=\"#9ebbda\" fill-rule=\"evenodd\" fill-opacity=\"1\" stroke=\"#000000\" stroke-opacity=\"1\" stroke-width=\"3.2\"/>\n",
       "<circle clip-path=\"url(#clip902)\" cx=\"2007.07\" cy=\"1328.08\" r=\"14\" fill=\"#9ebbda\" fill-rule=\"evenodd\" fill-opacity=\"1\" stroke=\"#000000\" stroke-opacity=\"1\" stroke-width=\"3.2\"/>\n",
       "<circle clip-path=\"url(#clip902)\" cx=\"2023.85\" cy=\"1328.3\" r=\"14\" fill=\"#9ebbda\" fill-rule=\"evenodd\" fill-opacity=\"1\" stroke=\"#000000\" stroke-opacity=\"1\" stroke-width=\"3.2\"/>\n",
       "<circle clip-path=\"url(#clip902)\" cx=\"2040.63\" cy=\"1328.51\" r=\"14\" fill=\"#9ebbda\" fill-rule=\"evenodd\" fill-opacity=\"1\" stroke=\"#000000\" stroke-opacity=\"1\" stroke-width=\"3.2\"/>\n",
       "<circle clip-path=\"url(#clip902)\" cx=\"2057.41\" cy=\"1328.71\" r=\"14\" fill=\"#9ebbda\" fill-rule=\"evenodd\" fill-opacity=\"1\" stroke=\"#000000\" stroke-opacity=\"1\" stroke-width=\"3.2\"/>\n",
       "<circle clip-path=\"url(#clip902)\" cx=\"2074.19\" cy=\"1328.9\" r=\"14\" fill=\"#9ebbda\" fill-rule=\"evenodd\" fill-opacity=\"1\" stroke=\"#000000\" stroke-opacity=\"1\" stroke-width=\"3.2\"/>\n",
       "<circle clip-path=\"url(#clip902)\" cx=\"2090.97\" cy=\"1329.07\" r=\"14\" fill=\"#9ebbda\" fill-rule=\"evenodd\" fill-opacity=\"1\" stroke=\"#000000\" stroke-opacity=\"1\" stroke-width=\"3.2\"/>\n",
       "<circle clip-path=\"url(#clip902)\" cx=\"2107.76\" cy=\"1329.24\" r=\"14\" fill=\"#9ebbda\" fill-rule=\"evenodd\" fill-opacity=\"1\" stroke=\"#000000\" stroke-opacity=\"1\" stroke-width=\"3.2\"/>\n",
       "<circle clip-path=\"url(#clip902)\" cx=\"2124.54\" cy=\"1329.39\" r=\"14\" fill=\"#9ebbda\" fill-rule=\"evenodd\" fill-opacity=\"1\" stroke=\"#000000\" stroke-opacity=\"1\" stroke-width=\"3.2\"/>\n",
       "<circle clip-path=\"url(#clip902)\" cx=\"2141.32\" cy=\"1329.54\" r=\"14\" fill=\"#9ebbda\" fill-rule=\"evenodd\" fill-opacity=\"1\" stroke=\"#000000\" stroke-opacity=\"1\" stroke-width=\"3.2\"/>\n",
       "<circle clip-path=\"url(#clip902)\" cx=\"2158.1\" cy=\"1329.68\" r=\"14\" fill=\"#9ebbda\" fill-rule=\"evenodd\" fill-opacity=\"1\" stroke=\"#000000\" stroke-opacity=\"1\" stroke-width=\"3.2\"/>\n",
       "<circle clip-path=\"url(#clip902)\" cx=\"2174.88\" cy=\"1329.81\" r=\"14\" fill=\"#9ebbda\" fill-rule=\"evenodd\" fill-opacity=\"1\" stroke=\"#000000\" stroke-opacity=\"1\" stroke-width=\"3.2\"/>\n",
       "<circle clip-path=\"url(#clip902)\" cx=\"2191.66\" cy=\"1329.93\" r=\"14\" fill=\"#9ebbda\" fill-rule=\"evenodd\" fill-opacity=\"1\" stroke=\"#000000\" stroke-opacity=\"1\" stroke-width=\"3.2\"/>\n",
       "<circle clip-path=\"url(#clip902)\" cx=\"2208.44\" cy=\"1330.05\" r=\"14\" fill=\"#9ebbda\" fill-rule=\"evenodd\" fill-opacity=\"1\" stroke=\"#000000\" stroke-opacity=\"1\" stroke-width=\"3.2\"/>\n",
       "<circle clip-path=\"url(#clip902)\" cx=\"2225.22\" cy=\"1330.16\" r=\"14\" fill=\"#9ebbda\" fill-rule=\"evenodd\" fill-opacity=\"1\" stroke=\"#000000\" stroke-opacity=\"1\" stroke-width=\"3.2\"/>\n",
       "<circle clip-path=\"url(#clip902)\" cx=\"2242\" cy=\"1330.26\" r=\"14\" fill=\"#9ebbda\" fill-rule=\"evenodd\" fill-opacity=\"1\" stroke=\"#000000\" stroke-opacity=\"1\" stroke-width=\"3.2\"/>\n",
       "<circle clip-path=\"url(#clip902)\" cx=\"2258.78\" cy=\"1330.36\" r=\"14\" fill=\"#9ebbda\" fill-rule=\"evenodd\" fill-opacity=\"1\" stroke=\"#000000\" stroke-opacity=\"1\" stroke-width=\"3.2\"/>\n",
       "<circle clip-path=\"url(#clip902)\" cx=\"2275.56\" cy=\"1330.45\" r=\"14\" fill=\"#9ebbda\" fill-rule=\"evenodd\" fill-opacity=\"1\" stroke=\"#000000\" stroke-opacity=\"1\" stroke-width=\"3.2\"/>\n",
       "<circle clip-path=\"url(#clip902)\" cx=\"2292.34\" cy=\"1330.54\" r=\"14\" fill=\"#9ebbda\" fill-rule=\"evenodd\" fill-opacity=\"1\" stroke=\"#000000\" stroke-opacity=\"1\" stroke-width=\"3.2\"/>\n",
       "<circle clip-path=\"url(#clip902)\" cx=\"278.644\" cy=\"145.653\" r=\"14\" fill=\"#8b95c5\" fill-rule=\"evenodd\" fill-opacity=\"1\" stroke=\"#000000\" stroke-opacity=\"1\" stroke-width=\"3.2\"/>\n",
       "<circle clip-path=\"url(#clip902)\" cx=\"295.425\" cy=\"145.949\" r=\"14\" fill=\"#8b95c5\" fill-rule=\"evenodd\" fill-opacity=\"1\" stroke=\"#000000\" stroke-opacity=\"1\" stroke-width=\"3.2\"/>\n",
       "<circle clip-path=\"url(#clip902)\" cx=\"312.206\" cy=\"146.264\" r=\"14\" fill=\"#8b95c5\" fill-rule=\"evenodd\" fill-opacity=\"1\" stroke=\"#000000\" stroke-opacity=\"1\" stroke-width=\"3.2\"/>\n",
       "<circle clip-path=\"url(#clip902)\" cx=\"328.987\" cy=\"146.596\" r=\"14\" fill=\"#8b95c5\" fill-rule=\"evenodd\" fill-opacity=\"1\" stroke=\"#000000\" stroke-opacity=\"1\" stroke-width=\"3.2\"/>\n",
       "<circle clip-path=\"url(#clip902)\" cx=\"345.767\" cy=\"146.949\" r=\"14\" fill=\"#8b95c5\" fill-rule=\"evenodd\" fill-opacity=\"1\" stroke=\"#000000\" stroke-opacity=\"1\" stroke-width=\"3.2\"/>\n",
       "<circle clip-path=\"url(#clip902)\" cx=\"362.548\" cy=\"147.323\" r=\"14\" fill=\"#8b95c5\" fill-rule=\"evenodd\" fill-opacity=\"1\" stroke=\"#000000\" stroke-opacity=\"1\" stroke-width=\"3.2\"/>\n",
       "<circle clip-path=\"url(#clip902)\" cx=\"379.329\" cy=\"147.719\" r=\"14\" fill=\"#8b95c5\" fill-rule=\"evenodd\" fill-opacity=\"1\" stroke=\"#000000\" stroke-opacity=\"1\" stroke-width=\"3.2\"/>\n",
       "<circle clip-path=\"url(#clip902)\" cx=\"396.11\" cy=\"148.138\" r=\"14\" fill=\"#8b95c5\" fill-rule=\"evenodd\" fill-opacity=\"1\" stroke=\"#000000\" stroke-opacity=\"1\" stroke-width=\"3.2\"/>\n",
       "<circle clip-path=\"url(#clip902)\" cx=\"412.891\" cy=\"148.582\" r=\"14\" fill=\"#8b95c5\" fill-rule=\"evenodd\" fill-opacity=\"1\" stroke=\"#000000\" stroke-opacity=\"1\" stroke-width=\"3.2\"/>\n",
       "<circle clip-path=\"url(#clip902)\" cx=\"429.672\" cy=\"149.053\" r=\"14\" fill=\"#8b95c5\" fill-rule=\"evenodd\" fill-opacity=\"1\" stroke=\"#000000\" stroke-opacity=\"1\" stroke-width=\"3.2\"/>\n",
       "<circle clip-path=\"url(#clip902)\" cx=\"446.452\" cy=\"149.551\" r=\"14\" fill=\"#8b95c5\" fill-rule=\"evenodd\" fill-opacity=\"1\" stroke=\"#000000\" stroke-opacity=\"1\" stroke-width=\"3.2\"/>\n",
       "<circle clip-path=\"url(#clip902)\" cx=\"463.233\" cy=\"150.079\" r=\"14\" fill=\"#8b95c5\" fill-rule=\"evenodd\" fill-opacity=\"1\" stroke=\"#000000\" stroke-opacity=\"1\" stroke-width=\"3.2\"/>\n",
       "<circle clip-path=\"url(#clip902)\" cx=\"480.014\" cy=\"150.639\" r=\"14\" fill=\"#8b95c5\" fill-rule=\"evenodd\" fill-opacity=\"1\" stroke=\"#000000\" stroke-opacity=\"1\" stroke-width=\"3.2\"/>\n",
       "<circle clip-path=\"url(#clip902)\" cx=\"496.795\" cy=\"151.232\" r=\"14\" fill=\"#8b95c5\" fill-rule=\"evenodd\" fill-opacity=\"1\" stroke=\"#000000\" stroke-opacity=\"1\" stroke-width=\"3.2\"/>\n",
       "<circle clip-path=\"url(#clip902)\" cx=\"513.576\" cy=\"151.86\" r=\"14\" fill=\"#8b95c5\" fill-rule=\"evenodd\" fill-opacity=\"1\" stroke=\"#000000\" stroke-opacity=\"1\" stroke-width=\"3.2\"/>\n",
       "<circle clip-path=\"url(#clip902)\" cx=\"530.357\" cy=\"152.525\" r=\"14\" fill=\"#8b95c5\" fill-rule=\"evenodd\" fill-opacity=\"1\" stroke=\"#000000\" stroke-opacity=\"1\" stroke-width=\"3.2\"/>\n",
       "<circle clip-path=\"url(#clip902)\" cx=\"547.137\" cy=\"153.23\" r=\"14\" fill=\"#8b95c5\" fill-rule=\"evenodd\" fill-opacity=\"1\" stroke=\"#000000\" stroke-opacity=\"1\" stroke-width=\"3.2\"/>\n",
       "<circle clip-path=\"url(#clip902)\" cx=\"563.918\" cy=\"153.977\" r=\"14\" fill=\"#8b95c5\" fill-rule=\"evenodd\" fill-opacity=\"1\" stroke=\"#000000\" stroke-opacity=\"1\" stroke-width=\"3.2\"/>\n",
       "<circle clip-path=\"url(#clip902)\" cx=\"580.699\" cy=\"154.768\" r=\"14\" fill=\"#8b95c5\" fill-rule=\"evenodd\" fill-opacity=\"1\" stroke=\"#000000\" stroke-opacity=\"1\" stroke-width=\"3.2\"/>\n",
       "<circle clip-path=\"url(#clip902)\" cx=\"597.48\" cy=\"155.606\" r=\"14\" fill=\"#8b95c5\" fill-rule=\"evenodd\" fill-opacity=\"1\" stroke=\"#000000\" stroke-opacity=\"1\" stroke-width=\"3.2\"/>\n",
       "<circle clip-path=\"url(#clip902)\" cx=\"614.261\" cy=\"156.495\" r=\"14\" fill=\"#8b95c5\" fill-rule=\"evenodd\" fill-opacity=\"1\" stroke=\"#000000\" stroke-opacity=\"1\" stroke-width=\"3.2\"/>\n",
       "<circle clip-path=\"url(#clip902)\" cx=\"631.042\" cy=\"157.436\" r=\"14\" fill=\"#8b95c5\" fill-rule=\"evenodd\" fill-opacity=\"1\" stroke=\"#000000\" stroke-opacity=\"1\" stroke-width=\"3.2\"/>\n",
       "<circle clip-path=\"url(#clip902)\" cx=\"647.822\" cy=\"158.433\" r=\"14\" fill=\"#8b95c5\" fill-rule=\"evenodd\" fill-opacity=\"1\" stroke=\"#000000\" stroke-opacity=\"1\" stroke-width=\"3.2\"/>\n",
       "<circle clip-path=\"url(#clip902)\" cx=\"664.603\" cy=\"159.489\" r=\"14\" fill=\"#8b95c5\" fill-rule=\"evenodd\" fill-opacity=\"1\" stroke=\"#000000\" stroke-opacity=\"1\" stroke-width=\"3.2\"/>\n",
       "<circle clip-path=\"url(#clip902)\" cx=\"681.384\" cy=\"160.609\" r=\"14\" fill=\"#8b95c5\" fill-rule=\"evenodd\" fill-opacity=\"1\" stroke=\"#000000\" stroke-opacity=\"1\" stroke-width=\"3.2\"/>\n",
       "<circle clip-path=\"url(#clip902)\" cx=\"698.165\" cy=\"161.795\" r=\"14\" fill=\"#8b95c5\" fill-rule=\"evenodd\" fill-opacity=\"1\" stroke=\"#000000\" stroke-opacity=\"1\" stroke-width=\"3.2\"/>\n",
       "<circle clip-path=\"url(#clip902)\" cx=\"714.946\" cy=\"163.052\" r=\"14\" fill=\"#8b95c5\" fill-rule=\"evenodd\" fill-opacity=\"1\" stroke=\"#000000\" stroke-opacity=\"1\" stroke-width=\"3.2\"/>\n",
       "<circle clip-path=\"url(#clip902)\" cx=\"731.727\" cy=\"164.384\" r=\"14\" fill=\"#8b95c5\" fill-rule=\"evenodd\" fill-opacity=\"1\" stroke=\"#000000\" stroke-opacity=\"1\" stroke-width=\"3.2\"/>\n",
       "<circle clip-path=\"url(#clip902)\" cx=\"748.508\" cy=\"165.795\" r=\"14\" fill=\"#8b95c5\" fill-rule=\"evenodd\" fill-opacity=\"1\" stroke=\"#000000\" stroke-opacity=\"1\" stroke-width=\"3.2\"/>\n",
       "<circle clip-path=\"url(#clip902)\" cx=\"765.288\" cy=\"167.29\" r=\"14\" fill=\"#8b95c5\" fill-rule=\"evenodd\" fill-opacity=\"1\" stroke=\"#000000\" stroke-opacity=\"1\" stroke-width=\"3.2\"/>\n",
       "<circle clip-path=\"url(#clip902)\" cx=\"782.069\" cy=\"168.875\" r=\"14\" fill=\"#8b95c5\" fill-rule=\"evenodd\" fill-opacity=\"1\" stroke=\"#000000\" stroke-opacity=\"1\" stroke-width=\"3.2\"/>\n",
       "<circle clip-path=\"url(#clip902)\" cx=\"798.85\" cy=\"170.554\" r=\"14\" fill=\"#8b95c5\" fill-rule=\"evenodd\" fill-opacity=\"1\" stroke=\"#000000\" stroke-opacity=\"1\" stroke-width=\"3.2\"/>\n",
       "<circle clip-path=\"url(#clip902)\" cx=\"815.631\" cy=\"172.334\" r=\"14\" fill=\"#8b95c5\" fill-rule=\"evenodd\" fill-opacity=\"1\" stroke=\"#000000\" stroke-opacity=\"1\" stroke-width=\"3.2\"/>\n",
       "<circle clip-path=\"url(#clip902)\" cx=\"832.412\" cy=\"174.221\" r=\"14\" fill=\"#8b95c5\" fill-rule=\"evenodd\" fill-opacity=\"1\" stroke=\"#000000\" stroke-opacity=\"1\" stroke-width=\"3.2\"/>\n",
       "<circle clip-path=\"url(#clip902)\" cx=\"849.193\" cy=\"176.22\" r=\"14\" fill=\"#8b95c5\" fill-rule=\"evenodd\" fill-opacity=\"1\" stroke=\"#000000\" stroke-opacity=\"1\" stroke-width=\"3.2\"/>\n",
       "<circle clip-path=\"url(#clip902)\" cx=\"865.973\" cy=\"178.338\" r=\"14\" fill=\"#8b95c5\" fill-rule=\"evenodd\" fill-opacity=\"1\" stroke=\"#000000\" stroke-opacity=\"1\" stroke-width=\"3.2\"/>\n",
       "<circle clip-path=\"url(#clip902)\" cx=\"882.754\" cy=\"180.584\" r=\"14\" fill=\"#8b95c5\" fill-rule=\"evenodd\" fill-opacity=\"1\" stroke=\"#000000\" stroke-opacity=\"1\" stroke-width=\"3.2\"/>\n",
       "<circle clip-path=\"url(#clip902)\" cx=\"899.535\" cy=\"182.964\" r=\"14\" fill=\"#8b95c5\" fill-rule=\"evenodd\" fill-opacity=\"1\" stroke=\"#000000\" stroke-opacity=\"1\" stroke-width=\"3.2\"/>\n",
       "<circle clip-path=\"url(#clip902)\" cx=\"916.316\" cy=\"185.487\" r=\"14\" fill=\"#8b95c5\" fill-rule=\"evenodd\" fill-opacity=\"1\" stroke=\"#000000\" stroke-opacity=\"1\" stroke-width=\"3.2\"/>\n",
       "<circle clip-path=\"url(#clip902)\" cx=\"933.097\" cy=\"188.162\" r=\"14\" fill=\"#8b95c5\" fill-rule=\"evenodd\" fill-opacity=\"1\" stroke=\"#000000\" stroke-opacity=\"1\" stroke-width=\"3.2\"/>\n",
       "<circle clip-path=\"url(#clip902)\" cx=\"949.878\" cy=\"190.997\" r=\"14\" fill=\"#8b95c5\" fill-rule=\"evenodd\" fill-opacity=\"1\" stroke=\"#000000\" stroke-opacity=\"1\" stroke-width=\"3.2\"/>\n",
       "<circle clip-path=\"url(#clip902)\" cx=\"966.658\" cy=\"194.003\" r=\"14\" fill=\"#8b95c5\" fill-rule=\"evenodd\" fill-opacity=\"1\" stroke=\"#000000\" stroke-opacity=\"1\" stroke-width=\"3.2\"/>\n",
       "<circle clip-path=\"url(#clip902)\" cx=\"983.439\" cy=\"197.19\" r=\"14\" fill=\"#8b95c5\" fill-rule=\"evenodd\" fill-opacity=\"1\" stroke=\"#000000\" stroke-opacity=\"1\" stroke-width=\"3.2\"/>\n",
       "<circle clip-path=\"url(#clip902)\" cx=\"1000.22\" cy=\"200.568\" r=\"14\" fill=\"#8b95c5\" fill-rule=\"evenodd\" fill-opacity=\"1\" stroke=\"#000000\" stroke-opacity=\"1\" stroke-width=\"3.2\"/>\n",
       "<circle clip-path=\"url(#clip902)\" cx=\"1017\" cy=\"204.151\" r=\"14\" fill=\"#8b95c5\" fill-rule=\"evenodd\" fill-opacity=\"1\" stroke=\"#000000\" stroke-opacity=\"1\" stroke-width=\"3.2\"/>\n",
       "<circle clip-path=\"url(#clip902)\" cx=\"1033.78\" cy=\"207.949\" r=\"14\" fill=\"#8b95c5\" fill-rule=\"evenodd\" fill-opacity=\"1\" stroke=\"#000000\" stroke-opacity=\"1\" stroke-width=\"3.2\"/>\n",
       "<circle clip-path=\"url(#clip902)\" cx=\"1050.56\" cy=\"211.978\" r=\"14\" fill=\"#8b95c5\" fill-rule=\"evenodd\" fill-opacity=\"1\" stroke=\"#000000\" stroke-opacity=\"1\" stroke-width=\"3.2\"/>\n",
       "<circle clip-path=\"url(#clip902)\" cx=\"1067.34\" cy=\"216.25\" r=\"14\" fill=\"#8b95c5\" fill-rule=\"evenodd\" fill-opacity=\"1\" stroke=\"#000000\" stroke-opacity=\"1\" stroke-width=\"3.2\"/>\n",
       "<circle clip-path=\"url(#clip902)\" cx=\"1084.12\" cy=\"220.781\" r=\"14\" fill=\"#8b95c5\" fill-rule=\"evenodd\" fill-opacity=\"1\" stroke=\"#000000\" stroke-opacity=\"1\" stroke-width=\"3.2\"/>\n",
       "<circle clip-path=\"url(#clip902)\" cx=\"1100.91\" cy=\"225.587\" r=\"14\" fill=\"#8b95c5\" fill-rule=\"evenodd\" fill-opacity=\"1\" stroke=\"#000000\" stroke-opacity=\"1\" stroke-width=\"3.2\"/>\n",
       "<circle clip-path=\"url(#clip902)\" cx=\"1117.69\" cy=\"230.685\" r=\"14\" fill=\"#8b95c5\" fill-rule=\"evenodd\" fill-opacity=\"1\" stroke=\"#000000\" stroke-opacity=\"1\" stroke-width=\"3.2\"/>\n",
       "<circle clip-path=\"url(#clip902)\" cx=\"1134.47\" cy=\"236.094\" r=\"14\" fill=\"#8b95c5\" fill-rule=\"evenodd\" fill-opacity=\"1\" stroke=\"#000000\" stroke-opacity=\"1\" stroke-width=\"3.2\"/>\n",
       "<circle clip-path=\"url(#clip902)\" cx=\"1151.25\" cy=\"241.832\" r=\"14\" fill=\"#8b95c5\" fill-rule=\"evenodd\" fill-opacity=\"1\" stroke=\"#000000\" stroke-opacity=\"1\" stroke-width=\"3.2\"/>\n",
       "<circle clip-path=\"url(#clip902)\" cx=\"1168.03\" cy=\"247.922\" r=\"14\" fill=\"#8b95c5\" fill-rule=\"evenodd\" fill-opacity=\"1\" stroke=\"#000000\" stroke-opacity=\"1\" stroke-width=\"3.2\"/>\n",
       "<circle clip-path=\"url(#clip902)\" cx=\"1184.81\" cy=\"254.384\" r=\"14\" fill=\"#8b95c5\" fill-rule=\"evenodd\" fill-opacity=\"1\" stroke=\"#000000\" stroke-opacity=\"1\" stroke-width=\"3.2\"/>\n",
       "<circle clip-path=\"url(#clip902)\" cx=\"1201.59\" cy=\"261.242\" r=\"14\" fill=\"#8b95c5\" fill-rule=\"evenodd\" fill-opacity=\"1\" stroke=\"#000000\" stroke-opacity=\"1\" stroke-width=\"3.2\"/>\n",
       "<circle clip-path=\"url(#clip902)\" cx=\"1218.37\" cy=\"268.523\" r=\"14\" fill=\"#8b95c5\" fill-rule=\"evenodd\" fill-opacity=\"1\" stroke=\"#000000\" stroke-opacity=\"1\" stroke-width=\"3.2\"/>\n",
       "<circle clip-path=\"url(#clip902)\" cx=\"1235.15\" cy=\"276.253\" r=\"14\" fill=\"#8b95c5\" fill-rule=\"evenodd\" fill-opacity=\"1\" stroke=\"#000000\" stroke-opacity=\"1\" stroke-width=\"3.2\"/>\n",
       "<circle clip-path=\"url(#clip902)\" cx=\"1251.93\" cy=\"284.46\" r=\"14\" fill=\"#8b95c5\" fill-rule=\"evenodd\" fill-opacity=\"1\" stroke=\"#000000\" stroke-opacity=\"1\" stroke-width=\"3.2\"/>\n",
       "<circle clip-path=\"url(#clip902)\" cx=\"1268.71\" cy=\"293.177\" r=\"14\" fill=\"#8b95c5\" fill-rule=\"evenodd\" fill-opacity=\"1\" stroke=\"#000000\" stroke-opacity=\"1\" stroke-width=\"3.2\"/>\n",
       "<circle clip-path=\"url(#clip902)\" cx=\"1285.49\" cy=\"302.436\" r=\"14\" fill=\"#8b95c5\" fill-rule=\"evenodd\" fill-opacity=\"1\" stroke=\"#000000\" stroke-opacity=\"1\" stroke-width=\"3.2\"/>\n",
       "<circle clip-path=\"url(#clip902)\" cx=\"1302.28\" cy=\"312.273\" r=\"14\" fill=\"#8b95c5\" fill-rule=\"evenodd\" fill-opacity=\"1\" stroke=\"#000000\" stroke-opacity=\"1\" stroke-width=\"3.2\"/>\n",
       "<circle clip-path=\"url(#clip902)\" cx=\"1319.06\" cy=\"322.727\" r=\"14\" fill=\"#8b95c5\" fill-rule=\"evenodd\" fill-opacity=\"1\" stroke=\"#000000\" stroke-opacity=\"1\" stroke-width=\"3.2\"/>\n",
       "<circle clip-path=\"url(#clip902)\" cx=\"1335.84\" cy=\"333.838\" r=\"14\" fill=\"#8b95c5\" fill-rule=\"evenodd\" fill-opacity=\"1\" stroke=\"#000000\" stroke-opacity=\"1\" stroke-width=\"3.2\"/>\n",
       "<circle clip-path=\"url(#clip902)\" cx=\"1352.62\" cy=\"345.652\" r=\"14\" fill=\"#8b95c5\" fill-rule=\"evenodd\" fill-opacity=\"1\" stroke=\"#000000\" stroke-opacity=\"1\" stroke-width=\"3.2\"/>\n",
       "<circle clip-path=\"url(#clip902)\" cx=\"1369.4\" cy=\"358.216\" r=\"14\" fill=\"#8b95c5\" fill-rule=\"evenodd\" fill-opacity=\"1\" stroke=\"#000000\" stroke-opacity=\"1\" stroke-width=\"3.2\"/>\n",
       "<circle clip-path=\"url(#clip902)\" cx=\"1386.18\" cy=\"371.582\" r=\"14\" fill=\"#8b95c5\" fill-rule=\"evenodd\" fill-opacity=\"1\" stroke=\"#000000\" stroke-opacity=\"1\" stroke-width=\"3.2\"/>\n",
       "<circle clip-path=\"url(#clip902)\" cx=\"1402.96\" cy=\"385.806\" r=\"14\" fill=\"#8b95c5\" fill-rule=\"evenodd\" fill-opacity=\"1\" stroke=\"#000000\" stroke-opacity=\"1\" stroke-width=\"3.2\"/>\n",
       "<circle clip-path=\"url(#clip902)\" cx=\"1419.74\" cy=\"400.95\" r=\"14\" fill=\"#8b95c5\" fill-rule=\"evenodd\" fill-opacity=\"1\" stroke=\"#000000\" stroke-opacity=\"1\" stroke-width=\"3.2\"/>\n",
       "<circle clip-path=\"url(#clip902)\" cx=\"1436.52\" cy=\"417.08\" r=\"14\" fill=\"#8b95c5\" fill-rule=\"evenodd\" fill-opacity=\"1\" stroke=\"#000000\" stroke-opacity=\"1\" stroke-width=\"3.2\"/>\n",
       "<circle clip-path=\"url(#clip902)\" cx=\"1453.3\" cy=\"434.268\" r=\"14\" fill=\"#8b95c5\" fill-rule=\"evenodd\" fill-opacity=\"1\" stroke=\"#000000\" stroke-opacity=\"1\" stroke-width=\"3.2\"/>\n",
       "<circle clip-path=\"url(#clip902)\" cx=\"1470.08\" cy=\"452.594\" r=\"14\" fill=\"#8b95c5\" fill-rule=\"evenodd\" fill-opacity=\"1\" stroke=\"#000000\" stroke-opacity=\"1\" stroke-width=\"3.2\"/>\n",
       "<circle clip-path=\"url(#clip902)\" cx=\"1486.86\" cy=\"472.145\" r=\"14\" fill=\"#8b95c5\" fill-rule=\"evenodd\" fill-opacity=\"1\" stroke=\"#000000\" stroke-opacity=\"1\" stroke-width=\"3.2\"/>\n",
       "<circle clip-path=\"url(#clip902)\" cx=\"1503.65\" cy=\"493.019\" r=\"14\" fill=\"#8b95c5\" fill-rule=\"evenodd\" fill-opacity=\"1\" stroke=\"#000000\" stroke-opacity=\"1\" stroke-width=\"3.2\"/>\n",
       "<circle clip-path=\"url(#clip902)\" cx=\"1520.43\" cy=\"515.322\" r=\"14\" fill=\"#8b95c5\" fill-rule=\"evenodd\" fill-opacity=\"1\" stroke=\"#000000\" stroke-opacity=\"1\" stroke-width=\"3.2\"/>\n",
       "<circle clip-path=\"url(#clip902)\" cx=\"1537.21\" cy=\"539.177\" r=\"14\" fill=\"#8b95c5\" fill-rule=\"evenodd\" fill-opacity=\"1\" stroke=\"#000000\" stroke-opacity=\"1\" stroke-width=\"3.2\"/>\n",
       "<circle clip-path=\"url(#clip902)\" cx=\"1553.99\" cy=\"564.721\" r=\"14\" fill=\"#8b95c5\" fill-rule=\"evenodd\" fill-opacity=\"1\" stroke=\"#000000\" stroke-opacity=\"1\" stroke-width=\"3.2\"/>\n",
       "<circle clip-path=\"url(#clip902)\" cx=\"1570.77\" cy=\"592.11\" r=\"14\" fill=\"#8b95c5\" fill-rule=\"evenodd\" fill-opacity=\"1\" stroke=\"#000000\" stroke-opacity=\"1\" stroke-width=\"3.2\"/>\n",
       "<circle clip-path=\"url(#clip902)\" cx=\"1587.55\" cy=\"621.527\" r=\"14\" fill=\"#8b95c5\" fill-rule=\"evenodd\" fill-opacity=\"1\" stroke=\"#000000\" stroke-opacity=\"1\" stroke-width=\"3.2\"/>\n",
       "<circle clip-path=\"url(#clip902)\" cx=\"1604.33\" cy=\"653.191\" r=\"14\" fill=\"#8b95c5\" fill-rule=\"evenodd\" fill-opacity=\"1\" stroke=\"#000000\" stroke-opacity=\"1\" stroke-width=\"3.2\"/>\n",
       "<circle clip-path=\"url(#clip902)\" cx=\"1621.11\" cy=\"687.364\" r=\"14\" fill=\"#8b95c5\" fill-rule=\"evenodd\" fill-opacity=\"1\" stroke=\"#000000\" stroke-opacity=\"1\" stroke-width=\"3.2\"/>\n",
       "<circle clip-path=\"url(#clip902)\" cx=\"1637.89\" cy=\"724.379\" r=\"14\" fill=\"#8b95c5\" fill-rule=\"evenodd\" fill-opacity=\"1\" stroke=\"#000000\" stroke-opacity=\"1\" stroke-width=\"3.2\"/>\n",
       "<circle clip-path=\"url(#clip902)\" cx=\"1654.67\" cy=\"764.674\" r=\"14\" fill=\"#8b95c5\" fill-rule=\"evenodd\" fill-opacity=\"1\" stroke=\"#000000\" stroke-opacity=\"1\" stroke-width=\"3.2\"/>\n",
       "<circle clip-path=\"url(#clip902)\" cx=\"1671.45\" cy=\"808.861\" r=\"14\" fill=\"#8b95c5\" fill-rule=\"evenodd\" fill-opacity=\"1\" stroke=\"#000000\" stroke-opacity=\"1\" stroke-width=\"3.2\"/>\n",
       "<circle clip-path=\"url(#clip902)\" cx=\"1688.23\" cy=\"857.879\" r=\"14\" fill=\"#8b95c5\" fill-rule=\"evenodd\" fill-opacity=\"1\" stroke=\"#000000\" stroke-opacity=\"1\" stroke-width=\"3.2\"/>\n",
       "<circle clip-path=\"url(#clip902)\" cx=\"1705.02\" cy=\"1312.72\" r=\"14\" fill=\"#8b95c5\" fill-rule=\"evenodd\" fill-opacity=\"1\" stroke=\"#000000\" stroke-opacity=\"1\" stroke-width=\"3.2\"/>\n",
       "<circle clip-path=\"url(#clip902)\" cx=\"1705.02\" cy=\"1276.04\" r=\"14\" fill=\"#8b95c5\" fill-rule=\"evenodd\" fill-opacity=\"1\" stroke=\"#000000\" stroke-opacity=\"1\" stroke-width=\"3.2\"/>\n",
       "<circle clip-path=\"url(#clip902)\" cx=\"1705.02\" cy=\"913.373\" r=\"14\" fill=\"#8b95c5\" fill-rule=\"evenodd\" fill-opacity=\"1\" stroke=\"#000000\" stroke-opacity=\"1\" stroke-width=\"3.2\"/>\n",
       "<circle clip-path=\"url(#clip902)\" cx=\"1721.8\" cy=\"1315.92\" r=\"14\" fill=\"#8b95c5\" fill-rule=\"evenodd\" fill-opacity=\"1\" stroke=\"#000000\" stroke-opacity=\"1\" stroke-width=\"3.2\"/>\n",
       "<circle clip-path=\"url(#clip902)\" cx=\"1721.8\" cy=\"1251.94\" r=\"14\" fill=\"#8b95c5\" fill-rule=\"evenodd\" fill-opacity=\"1\" stroke=\"#000000\" stroke-opacity=\"1\" stroke-width=\"3.2\"/>\n",
       "<circle clip-path=\"url(#clip902)\" cx=\"1721.8\" cy=\"978.982\" r=\"14\" fill=\"#8b95c5\" fill-rule=\"evenodd\" fill-opacity=\"1\" stroke=\"#000000\" stroke-opacity=\"1\" stroke-width=\"3.2\"/>\n",
       "<circle clip-path=\"url(#clip902)\" cx=\"1738.58\" cy=\"1317.99\" r=\"14\" fill=\"#8b95c5\" fill-rule=\"evenodd\" fill-opacity=\"1\" stroke=\"#000000\" stroke-opacity=\"1\" stroke-width=\"3.2\"/>\n",
       "<circle clip-path=\"url(#clip902)\" cx=\"1738.58\" cy=\"1207.97\" r=\"14\" fill=\"#8b95c5\" fill-rule=\"evenodd\" fill-opacity=\"1\" stroke=\"#000000\" stroke-opacity=\"1\" stroke-width=\"3.2\"/>\n",
       "<circle clip-path=\"url(#clip902)\" cx=\"1738.58\" cy=\"1068.81\" r=\"14\" fill=\"#8b95c5\" fill-rule=\"evenodd\" fill-opacity=\"1\" stroke=\"#000000\" stroke-opacity=\"1\" stroke-width=\"3.2\"/>\n",
       "<circle clip-path=\"url(#clip902)\" cx=\"1755.36\" cy=\"1319.52\" r=\"14\" fill=\"#8b95c5\" fill-rule=\"evenodd\" fill-opacity=\"1\" stroke=\"#000000\" stroke-opacity=\"1\" stroke-width=\"3.2\"/>\n",
       "<circle clip-path=\"url(#clip902)\" cx=\"1772.14\" cy=\"1320.74\" r=\"14\" fill=\"#8b95c5\" fill-rule=\"evenodd\" fill-opacity=\"1\" stroke=\"#000000\" stroke-opacity=\"1\" stroke-width=\"3.2\"/>\n",
       "<circle clip-path=\"url(#clip902)\" cx=\"1788.92\" cy=\"1321.75\" r=\"14\" fill=\"#8b95c5\" fill-rule=\"evenodd\" fill-opacity=\"1\" stroke=\"#000000\" stroke-opacity=\"1\" stroke-width=\"3.2\"/>\n",
       "<circle clip-path=\"url(#clip902)\" cx=\"1805.7\" cy=\"1322.61\" r=\"14\" fill=\"#8b95c5\" fill-rule=\"evenodd\" fill-opacity=\"1\" stroke=\"#000000\" stroke-opacity=\"1\" stroke-width=\"3.2\"/>\n",
       "<circle clip-path=\"url(#clip902)\" cx=\"1822.48\" cy=\"1323.35\" r=\"14\" fill=\"#8b95c5\" fill-rule=\"evenodd\" fill-opacity=\"1\" stroke=\"#000000\" stroke-opacity=\"1\" stroke-width=\"3.2\"/>\n",
       "<circle clip-path=\"url(#clip902)\" cx=\"1839.26\" cy=\"1324\" r=\"14\" fill=\"#8b95c5\" fill-rule=\"evenodd\" fill-opacity=\"1\" stroke=\"#000000\" stroke-opacity=\"1\" stroke-width=\"3.2\"/>\n",
       "<circle clip-path=\"url(#clip902)\" cx=\"1856.04\" cy=\"1324.59\" r=\"14\" fill=\"#8b95c5\" fill-rule=\"evenodd\" fill-opacity=\"1\" stroke=\"#000000\" stroke-opacity=\"1\" stroke-width=\"3.2\"/>\n",
       "<circle clip-path=\"url(#clip902)\" cx=\"1872.82\" cy=\"1325.11\" r=\"14\" fill=\"#8b95c5\" fill-rule=\"evenodd\" fill-opacity=\"1\" stroke=\"#000000\" stroke-opacity=\"1\" stroke-width=\"3.2\"/>\n",
       "<circle clip-path=\"url(#clip902)\" cx=\"1889.6\" cy=\"1325.58\" r=\"14\" fill=\"#8b95c5\" fill-rule=\"evenodd\" fill-opacity=\"1\" stroke=\"#000000\" stroke-opacity=\"1\" stroke-width=\"3.2\"/>\n",
       "<circle clip-path=\"url(#clip902)\" cx=\"1906.39\" cy=\"1326.01\" r=\"14\" fill=\"#8b95c5\" fill-rule=\"evenodd\" fill-opacity=\"1\" stroke=\"#000000\" stroke-opacity=\"1\" stroke-width=\"3.2\"/>\n",
       "<circle clip-path=\"url(#clip902)\" cx=\"1923.17\" cy=\"1326.4\" r=\"14\" fill=\"#8b95c5\" fill-rule=\"evenodd\" fill-opacity=\"1\" stroke=\"#000000\" stroke-opacity=\"1\" stroke-width=\"3.2\"/>\n",
       "<circle clip-path=\"url(#clip902)\" cx=\"1939.95\" cy=\"1326.76\" r=\"14\" fill=\"#8b95c5\" fill-rule=\"evenodd\" fill-opacity=\"1\" stroke=\"#000000\" stroke-opacity=\"1\" stroke-width=\"3.2\"/>\n",
       "<circle clip-path=\"url(#clip902)\" cx=\"1956.73\" cy=\"1327.09\" r=\"14\" fill=\"#8b95c5\" fill-rule=\"evenodd\" fill-opacity=\"1\" stroke=\"#000000\" stroke-opacity=\"1\" stroke-width=\"3.2\"/>\n",
       "<circle clip-path=\"url(#clip902)\" cx=\"1973.51\" cy=\"1327.4\" r=\"14\" fill=\"#8b95c5\" fill-rule=\"evenodd\" fill-opacity=\"1\" stroke=\"#000000\" stroke-opacity=\"1\" stroke-width=\"3.2\"/>\n",
       "<circle clip-path=\"url(#clip902)\" cx=\"1990.29\" cy=\"1327.68\" r=\"14\" fill=\"#8b95c5\" fill-rule=\"evenodd\" fill-opacity=\"1\" stroke=\"#000000\" stroke-opacity=\"1\" stroke-width=\"3.2\"/>\n",
       "<circle clip-path=\"url(#clip902)\" cx=\"2007.07\" cy=\"1327.94\" r=\"14\" fill=\"#8b95c5\" fill-rule=\"evenodd\" fill-opacity=\"1\" stroke=\"#000000\" stroke-opacity=\"1\" stroke-width=\"3.2\"/>\n",
       "<circle clip-path=\"url(#clip902)\" cx=\"2023.85\" cy=\"1328.19\" r=\"14\" fill=\"#8b95c5\" fill-rule=\"evenodd\" fill-opacity=\"1\" stroke=\"#000000\" stroke-opacity=\"1\" stroke-width=\"3.2\"/>\n",
       "<circle clip-path=\"url(#clip902)\" cx=\"2040.63\" cy=\"1328.42\" r=\"14\" fill=\"#8b95c5\" fill-rule=\"evenodd\" fill-opacity=\"1\" stroke=\"#000000\" stroke-opacity=\"1\" stroke-width=\"3.2\"/>\n",
       "<circle clip-path=\"url(#clip902)\" cx=\"2057.41\" cy=\"1328.63\" r=\"14\" fill=\"#8b95c5\" fill-rule=\"evenodd\" fill-opacity=\"1\" stroke=\"#000000\" stroke-opacity=\"1\" stroke-width=\"3.2\"/>\n",
       "<circle clip-path=\"url(#clip902)\" cx=\"2074.19\" cy=\"1328.83\" r=\"14\" fill=\"#8b95c5\" fill-rule=\"evenodd\" fill-opacity=\"1\" stroke=\"#000000\" stroke-opacity=\"1\" stroke-width=\"3.2\"/>\n",
       "<circle clip-path=\"url(#clip902)\" cx=\"2090.97\" cy=\"1329.01\" r=\"14\" fill=\"#8b95c5\" fill-rule=\"evenodd\" fill-opacity=\"1\" stroke=\"#000000\" stroke-opacity=\"1\" stroke-width=\"3.2\"/>\n",
       "<circle clip-path=\"url(#clip902)\" cx=\"2107.76\" cy=\"1329.19\" r=\"14\" fill=\"#8b95c5\" fill-rule=\"evenodd\" fill-opacity=\"1\" stroke=\"#000000\" stroke-opacity=\"1\" stroke-width=\"3.2\"/>\n",
       "<circle clip-path=\"url(#clip902)\" cx=\"2124.54\" cy=\"1329.35\" r=\"14\" fill=\"#8b95c5\" fill-rule=\"evenodd\" fill-opacity=\"1\" stroke=\"#000000\" stroke-opacity=\"1\" stroke-width=\"3.2\"/>\n",
       "<circle clip-path=\"url(#clip902)\" cx=\"2141.32\" cy=\"1329.51\" r=\"14\" fill=\"#8b95c5\" fill-rule=\"evenodd\" fill-opacity=\"1\" stroke=\"#000000\" stroke-opacity=\"1\" stroke-width=\"3.2\"/>\n",
       "<circle clip-path=\"url(#clip902)\" cx=\"2158.1\" cy=\"1329.65\" r=\"14\" fill=\"#8b95c5\" fill-rule=\"evenodd\" fill-opacity=\"1\" stroke=\"#000000\" stroke-opacity=\"1\" stroke-width=\"3.2\"/>\n",
       "<circle clip-path=\"url(#clip902)\" cx=\"2174.88\" cy=\"1329.79\" r=\"14\" fill=\"#8b95c5\" fill-rule=\"evenodd\" fill-opacity=\"1\" stroke=\"#000000\" stroke-opacity=\"1\" stroke-width=\"3.2\"/>\n",
       "<circle clip-path=\"url(#clip902)\" cx=\"2191.66\" cy=\"1329.91\" r=\"14\" fill=\"#8b95c5\" fill-rule=\"evenodd\" fill-opacity=\"1\" stroke=\"#000000\" stroke-opacity=\"1\" stroke-width=\"3.2\"/>\n",
       "<circle clip-path=\"url(#clip902)\" cx=\"2208.44\" cy=\"1330.03\" r=\"14\" fill=\"#8b95c5\" fill-rule=\"evenodd\" fill-opacity=\"1\" stroke=\"#000000\" stroke-opacity=\"1\" stroke-width=\"3.2\"/>\n",
       "<circle clip-path=\"url(#clip902)\" cx=\"2225.22\" cy=\"1330.14\" r=\"14\" fill=\"#8b95c5\" fill-rule=\"evenodd\" fill-opacity=\"1\" stroke=\"#000000\" stroke-opacity=\"1\" stroke-width=\"3.2\"/>\n",
       "<circle clip-path=\"url(#clip902)\" cx=\"2242\" cy=\"1330.25\" r=\"14\" fill=\"#8b95c5\" fill-rule=\"evenodd\" fill-opacity=\"1\" stroke=\"#000000\" stroke-opacity=\"1\" stroke-width=\"3.2\"/>\n",
       "<circle clip-path=\"url(#clip902)\" cx=\"2258.78\" cy=\"1330.35\" r=\"14\" fill=\"#8b95c5\" fill-rule=\"evenodd\" fill-opacity=\"1\" stroke=\"#000000\" stroke-opacity=\"1\" stroke-width=\"3.2\"/>\n",
       "<circle clip-path=\"url(#clip902)\" cx=\"2275.56\" cy=\"1330.44\" r=\"14\" fill=\"#8b95c5\" fill-rule=\"evenodd\" fill-opacity=\"1\" stroke=\"#000000\" stroke-opacity=\"1\" stroke-width=\"3.2\"/>\n",
       "<circle clip-path=\"url(#clip902)\" cx=\"2292.34\" cy=\"1330.53\" r=\"14\" fill=\"#8b95c5\" fill-rule=\"evenodd\" fill-opacity=\"1\" stroke=\"#000000\" stroke-opacity=\"1\" stroke-width=\"3.2\"/>\n",
       "<circle clip-path=\"url(#clip902)\" cx=\"278.644\" cy=\"143.337\" r=\"14\" fill=\"#8755a7\" fill-rule=\"evenodd\" fill-opacity=\"1\" stroke=\"#000000\" stroke-opacity=\"1\" stroke-width=\"3.2\"/>\n",
       "<circle clip-path=\"url(#clip902)\" cx=\"295.425\" cy=\"143.496\" r=\"14\" fill=\"#8755a7\" fill-rule=\"evenodd\" fill-opacity=\"1\" stroke=\"#000000\" stroke-opacity=\"1\" stroke-width=\"3.2\"/>\n",
       "<circle clip-path=\"url(#clip902)\" cx=\"312.206\" cy=\"143.665\" r=\"14\" fill=\"#8755a7\" fill-rule=\"evenodd\" fill-opacity=\"1\" stroke=\"#000000\" stroke-opacity=\"1\" stroke-width=\"3.2\"/>\n",
       "<circle clip-path=\"url(#clip902)\" cx=\"328.987\" cy=\"143.843\" r=\"14\" fill=\"#8755a7\" fill-rule=\"evenodd\" fill-opacity=\"1\" stroke=\"#000000\" stroke-opacity=\"1\" stroke-width=\"3.2\"/>\n",
       "<circle clip-path=\"url(#clip902)\" cx=\"345.767\" cy=\"144.033\" r=\"14\" fill=\"#8755a7\" fill-rule=\"evenodd\" fill-opacity=\"1\" stroke=\"#000000\" stroke-opacity=\"1\" stroke-width=\"3.2\"/>\n",
       "<circle clip-path=\"url(#clip902)\" cx=\"362.548\" cy=\"144.233\" r=\"14\" fill=\"#8755a7\" fill-rule=\"evenodd\" fill-opacity=\"1\" stroke=\"#000000\" stroke-opacity=\"1\" stroke-width=\"3.2\"/>\n",
       "<circle clip-path=\"url(#clip902)\" cx=\"379.329\" cy=\"144.446\" r=\"14\" fill=\"#8755a7\" fill-rule=\"evenodd\" fill-opacity=\"1\" stroke=\"#000000\" stroke-opacity=\"1\" stroke-width=\"3.2\"/>\n",
       "<circle clip-path=\"url(#clip902)\" cx=\"396.11\" cy=\"144.671\" r=\"14\" fill=\"#8755a7\" fill-rule=\"evenodd\" fill-opacity=\"1\" stroke=\"#000000\" stroke-opacity=\"1\" stroke-width=\"3.2\"/>\n",
       "<circle clip-path=\"url(#clip902)\" cx=\"412.891\" cy=\"144.909\" r=\"14\" fill=\"#8755a7\" fill-rule=\"evenodd\" fill-opacity=\"1\" stroke=\"#000000\" stroke-opacity=\"1\" stroke-width=\"3.2\"/>\n",
       "<circle clip-path=\"url(#clip902)\" cx=\"429.672\" cy=\"145.162\" r=\"14\" fill=\"#8755a7\" fill-rule=\"evenodd\" fill-opacity=\"1\" stroke=\"#000000\" stroke-opacity=\"1\" stroke-width=\"3.2\"/>\n",
       "<circle clip-path=\"url(#clip902)\" cx=\"446.452\" cy=\"145.429\" r=\"14\" fill=\"#8755a7\" fill-rule=\"evenodd\" fill-opacity=\"1\" stroke=\"#000000\" stroke-opacity=\"1\" stroke-width=\"3.2\"/>\n",
       "<circle clip-path=\"url(#clip902)\" cx=\"463.233\" cy=\"145.712\" r=\"14\" fill=\"#8755a7\" fill-rule=\"evenodd\" fill-opacity=\"1\" stroke=\"#000000\" stroke-opacity=\"1\" stroke-width=\"3.2\"/>\n",
       "<circle clip-path=\"url(#clip902)\" cx=\"480.014\" cy=\"146.013\" r=\"14\" fill=\"#8755a7\" fill-rule=\"evenodd\" fill-opacity=\"1\" stroke=\"#000000\" stroke-opacity=\"1\" stroke-width=\"3.2\"/>\n",
       "<circle clip-path=\"url(#clip902)\" cx=\"496.795\" cy=\"146.331\" r=\"14\" fill=\"#8755a7\" fill-rule=\"evenodd\" fill-opacity=\"1\" stroke=\"#000000\" stroke-opacity=\"1\" stroke-width=\"3.2\"/>\n",
       "<circle clip-path=\"url(#clip902)\" cx=\"513.576\" cy=\"146.667\" r=\"14\" fill=\"#8755a7\" fill-rule=\"evenodd\" fill-opacity=\"1\" stroke=\"#000000\" stroke-opacity=\"1\" stroke-width=\"3.2\"/>\n",
       "<circle clip-path=\"url(#clip902)\" cx=\"530.357\" cy=\"147.024\" r=\"14\" fill=\"#8755a7\" fill-rule=\"evenodd\" fill-opacity=\"1\" stroke=\"#000000\" stroke-opacity=\"1\" stroke-width=\"3.2\"/>\n",
       "<circle clip-path=\"url(#clip902)\" cx=\"547.137\" cy=\"147.402\" r=\"14\" fill=\"#8755a7\" fill-rule=\"evenodd\" fill-opacity=\"1\" stroke=\"#000000\" stroke-opacity=\"1\" stroke-width=\"3.2\"/>\n",
       "<circle clip-path=\"url(#clip902)\" cx=\"563.918\" cy=\"147.802\" r=\"14\" fill=\"#8755a7\" fill-rule=\"evenodd\" fill-opacity=\"1\" stroke=\"#000000\" stroke-opacity=\"1\" stroke-width=\"3.2\"/>\n",
       "<circle clip-path=\"url(#clip902)\" cx=\"580.699\" cy=\"148.227\" r=\"14\" fill=\"#8755a7\" fill-rule=\"evenodd\" fill-opacity=\"1\" stroke=\"#000000\" stroke-opacity=\"1\" stroke-width=\"3.2\"/>\n",
       "<circle clip-path=\"url(#clip902)\" cx=\"597.48\" cy=\"148.676\" r=\"14\" fill=\"#8755a7\" fill-rule=\"evenodd\" fill-opacity=\"1\" stroke=\"#000000\" stroke-opacity=\"1\" stroke-width=\"3.2\"/>\n",
       "<circle clip-path=\"url(#clip902)\" cx=\"614.261\" cy=\"149.152\" r=\"14\" fill=\"#8755a7\" fill-rule=\"evenodd\" fill-opacity=\"1\" stroke=\"#000000\" stroke-opacity=\"1\" stroke-width=\"3.2\"/>\n",
       "<circle clip-path=\"url(#clip902)\" cx=\"631.042\" cy=\"149.656\" r=\"14\" fill=\"#8755a7\" fill-rule=\"evenodd\" fill-opacity=\"1\" stroke=\"#000000\" stroke-opacity=\"1\" stroke-width=\"3.2\"/>\n",
       "<circle clip-path=\"url(#clip902)\" cx=\"647.822\" cy=\"150.19\" r=\"14\" fill=\"#8755a7\" fill-rule=\"evenodd\" fill-opacity=\"1\" stroke=\"#000000\" stroke-opacity=\"1\" stroke-width=\"3.2\"/>\n",
       "<circle clip-path=\"url(#clip902)\" cx=\"664.603\" cy=\"150.756\" r=\"14\" fill=\"#8755a7\" fill-rule=\"evenodd\" fill-opacity=\"1\" stroke=\"#000000\" stroke-opacity=\"1\" stroke-width=\"3.2\"/>\n",
       "<circle clip-path=\"url(#clip902)\" cx=\"681.384\" cy=\"151.356\" r=\"14\" fill=\"#8755a7\" fill-rule=\"evenodd\" fill-opacity=\"1\" stroke=\"#000000\" stroke-opacity=\"1\" stroke-width=\"3.2\"/>\n",
       "<circle clip-path=\"url(#clip902)\" cx=\"698.165\" cy=\"151.991\" r=\"14\" fill=\"#8755a7\" fill-rule=\"evenodd\" fill-opacity=\"1\" stroke=\"#000000\" stroke-opacity=\"1\" stroke-width=\"3.2\"/>\n",
       "<circle clip-path=\"url(#clip902)\" cx=\"714.946\" cy=\"152.663\" r=\"14\" fill=\"#8755a7\" fill-rule=\"evenodd\" fill-opacity=\"1\" stroke=\"#000000\" stroke-opacity=\"1\" stroke-width=\"3.2\"/>\n",
       "<circle clip-path=\"url(#clip902)\" cx=\"731.727\" cy=\"153.376\" r=\"14\" fill=\"#8755a7\" fill-rule=\"evenodd\" fill-opacity=\"1\" stroke=\"#000000\" stroke-opacity=\"1\" stroke-width=\"3.2\"/>\n",
       "<circle clip-path=\"url(#clip902)\" cx=\"748.508\" cy=\"154.131\" r=\"14\" fill=\"#8755a7\" fill-rule=\"evenodd\" fill-opacity=\"1\" stroke=\"#000000\" stroke-opacity=\"1\" stroke-width=\"3.2\"/>\n",
       "<circle clip-path=\"url(#clip902)\" cx=\"765.288\" cy=\"154.931\" r=\"14\" fill=\"#8755a7\" fill-rule=\"evenodd\" fill-opacity=\"1\" stroke=\"#000000\" stroke-opacity=\"1\" stroke-width=\"3.2\"/>\n",
       "<circle clip-path=\"url(#clip902)\" cx=\"782.069\" cy=\"155.778\" r=\"14\" fill=\"#8755a7\" fill-rule=\"evenodd\" fill-opacity=\"1\" stroke=\"#000000\" stroke-opacity=\"1\" stroke-width=\"3.2\"/>\n",
       "<circle clip-path=\"url(#clip902)\" cx=\"798.85\" cy=\"156.676\" r=\"14\" fill=\"#8755a7\" fill-rule=\"evenodd\" fill-opacity=\"1\" stroke=\"#000000\" stroke-opacity=\"1\" stroke-width=\"3.2\"/>\n",
       "<circle clip-path=\"url(#clip902)\" cx=\"815.631\" cy=\"157.627\" r=\"14\" fill=\"#8755a7\" fill-rule=\"evenodd\" fill-opacity=\"1\" stroke=\"#000000\" stroke-opacity=\"1\" stroke-width=\"3.2\"/>\n",
       "<circle clip-path=\"url(#clip902)\" cx=\"832.412\" cy=\"158.635\" r=\"14\" fill=\"#8755a7\" fill-rule=\"evenodd\" fill-opacity=\"1\" stroke=\"#000000\" stroke-opacity=\"1\" stroke-width=\"3.2\"/>\n",
       "<circle clip-path=\"url(#clip902)\" cx=\"849.193\" cy=\"159.702\" r=\"14\" fill=\"#8755a7\" fill-rule=\"evenodd\" fill-opacity=\"1\" stroke=\"#000000\" stroke-opacity=\"1\" stroke-width=\"3.2\"/>\n",
       "<circle clip-path=\"url(#clip902)\" cx=\"865.973\" cy=\"160.833\" r=\"14\" fill=\"#8755a7\" fill-rule=\"evenodd\" fill-opacity=\"1\" stroke=\"#000000\" stroke-opacity=\"1\" stroke-width=\"3.2\"/>\n",
       "<circle clip-path=\"url(#clip902)\" cx=\"882.754\" cy=\"162.032\" r=\"14\" fill=\"#8755a7\" fill-rule=\"evenodd\" fill-opacity=\"1\" stroke=\"#000000\" stroke-opacity=\"1\" stroke-width=\"3.2\"/>\n",
       "<circle clip-path=\"url(#clip902)\" cx=\"899.535\" cy=\"163.301\" r=\"14\" fill=\"#8755a7\" fill-rule=\"evenodd\" fill-opacity=\"1\" stroke=\"#000000\" stroke-opacity=\"1\" stroke-width=\"3.2\"/>\n",
       "<circle clip-path=\"url(#clip902)\" cx=\"916.316\" cy=\"164.647\" r=\"14\" fill=\"#8755a7\" fill-rule=\"evenodd\" fill-opacity=\"1\" stroke=\"#000000\" stroke-opacity=\"1\" stroke-width=\"3.2\"/>\n",
       "<circle clip-path=\"url(#clip902)\" cx=\"933.097\" cy=\"166.072\" r=\"14\" fill=\"#8755a7\" fill-rule=\"evenodd\" fill-opacity=\"1\" stroke=\"#000000\" stroke-opacity=\"1\" stroke-width=\"3.2\"/>\n",
       "<circle clip-path=\"url(#clip902)\" cx=\"949.878\" cy=\"167.582\" r=\"14\" fill=\"#8755a7\" fill-rule=\"evenodd\" fill-opacity=\"1\" stroke=\"#000000\" stroke-opacity=\"1\" stroke-width=\"3.2\"/>\n",
       "<circle clip-path=\"url(#clip902)\" cx=\"966.658\" cy=\"169.182\" r=\"14\" fill=\"#8755a7\" fill-rule=\"evenodd\" fill-opacity=\"1\" stroke=\"#000000\" stroke-opacity=\"1\" stroke-width=\"3.2\"/>\n",
       "<circle clip-path=\"url(#clip902)\" cx=\"983.439\" cy=\"170.877\" r=\"14\" fill=\"#8755a7\" fill-rule=\"evenodd\" fill-opacity=\"1\" stroke=\"#000000\" stroke-opacity=\"1\" stroke-width=\"3.2\"/>\n",
       "<circle clip-path=\"url(#clip902)\" cx=\"1000.22\" cy=\"172.673\" r=\"14\" fill=\"#8755a7\" fill-rule=\"evenodd\" fill-opacity=\"1\" stroke=\"#000000\" stroke-opacity=\"1\" stroke-width=\"3.2\"/>\n",
       "<circle clip-path=\"url(#clip902)\" cx=\"1017\" cy=\"174.577\" r=\"14\" fill=\"#8755a7\" fill-rule=\"evenodd\" fill-opacity=\"1\" stroke=\"#000000\" stroke-opacity=\"1\" stroke-width=\"3.2\"/>\n",
       "<circle clip-path=\"url(#clip902)\" cx=\"1033.78\" cy=\"176.594\" r=\"14\" fill=\"#8755a7\" fill-rule=\"evenodd\" fill-opacity=\"1\" stroke=\"#000000\" stroke-opacity=\"1\" stroke-width=\"3.2\"/>\n",
       "<circle clip-path=\"url(#clip902)\" cx=\"1050.56\" cy=\"178.731\" r=\"14\" fill=\"#8755a7\" fill-rule=\"evenodd\" fill-opacity=\"1\" stroke=\"#000000\" stroke-opacity=\"1\" stroke-width=\"3.2\"/>\n",
       "<circle clip-path=\"url(#clip902)\" cx=\"1067.34\" cy=\"180.996\" r=\"14\" fill=\"#8755a7\" fill-rule=\"evenodd\" fill-opacity=\"1\" stroke=\"#000000\" stroke-opacity=\"1\" stroke-width=\"3.2\"/>\n",
       "<circle clip-path=\"url(#clip902)\" cx=\"1084.12\" cy=\"183.396\" r=\"14\" fill=\"#8755a7\" fill-rule=\"evenodd\" fill-opacity=\"1\" stroke=\"#000000\" stroke-opacity=\"1\" stroke-width=\"3.2\"/>\n",
       "<circle clip-path=\"url(#clip902)\" cx=\"1100.91\" cy=\"185.94\" r=\"14\" fill=\"#8755a7\" fill-rule=\"evenodd\" fill-opacity=\"1\" stroke=\"#000000\" stroke-opacity=\"1\" stroke-width=\"3.2\"/>\n",
       "<circle clip-path=\"url(#clip902)\" cx=\"1117.69\" cy=\"188.635\" r=\"14\" fill=\"#8755a7\" fill-rule=\"evenodd\" fill-opacity=\"1\" stroke=\"#000000\" stroke-opacity=\"1\" stroke-width=\"3.2\"/>\n",
       "<circle clip-path=\"url(#clip902)\" cx=\"1134.47\" cy=\"191.492\" r=\"14\" fill=\"#8755a7\" fill-rule=\"evenodd\" fill-opacity=\"1\" stroke=\"#000000\" stroke-opacity=\"1\" stroke-width=\"3.2\"/>\n",
       "<circle clip-path=\"url(#clip902)\" cx=\"1151.25\" cy=\"194.52\" r=\"14\" fill=\"#8755a7\" fill-rule=\"evenodd\" fill-opacity=\"1\" stroke=\"#000000\" stroke-opacity=\"1\" stroke-width=\"3.2\"/>\n",
       "<circle clip-path=\"url(#clip902)\" cx=\"1168.03\" cy=\"197.729\" r=\"14\" fill=\"#8755a7\" fill-rule=\"evenodd\" fill-opacity=\"1\" stroke=\"#000000\" stroke-opacity=\"1\" stroke-width=\"3.2\"/>\n",
       "<circle clip-path=\"url(#clip902)\" cx=\"1184.81\" cy=\"201.13\" r=\"14\" fill=\"#8755a7\" fill-rule=\"evenodd\" fill-opacity=\"1\" stroke=\"#000000\" stroke-opacity=\"1\" stroke-width=\"3.2\"/>\n",
       "<circle clip-path=\"url(#clip902)\" cx=\"1201.59\" cy=\"204.735\" r=\"14\" fill=\"#8755a7\" fill-rule=\"evenodd\" fill-opacity=\"1\" stroke=\"#000000\" stroke-opacity=\"1\" stroke-width=\"3.2\"/>\n",
       "<circle clip-path=\"url(#clip902)\" cx=\"1218.37\" cy=\"208.557\" r=\"14\" fill=\"#8755a7\" fill-rule=\"evenodd\" fill-opacity=\"1\" stroke=\"#000000\" stroke-opacity=\"1\" stroke-width=\"3.2\"/>\n",
       "<circle clip-path=\"url(#clip902)\" cx=\"1235.15\" cy=\"212.608\" r=\"14\" fill=\"#8755a7\" fill-rule=\"evenodd\" fill-opacity=\"1\" stroke=\"#000000\" stroke-opacity=\"1\" stroke-width=\"3.2\"/>\n",
       "<circle clip-path=\"url(#clip902)\" cx=\"1251.93\" cy=\"216.902\" r=\"14\" fill=\"#8755a7\" fill-rule=\"evenodd\" fill-opacity=\"1\" stroke=\"#000000\" stroke-opacity=\"1\" stroke-width=\"3.2\"/>\n",
       "<circle clip-path=\"url(#clip902)\" cx=\"1268.71\" cy=\"221.455\" r=\"14\" fill=\"#8755a7\" fill-rule=\"evenodd\" fill-opacity=\"1\" stroke=\"#000000\" stroke-opacity=\"1\" stroke-width=\"3.2\"/>\n",
       "<circle clip-path=\"url(#clip902)\" cx=\"1285.49\" cy=\"226.282\" r=\"14\" fill=\"#8755a7\" fill-rule=\"evenodd\" fill-opacity=\"1\" stroke=\"#000000\" stroke-opacity=\"1\" stroke-width=\"3.2\"/>\n",
       "<circle clip-path=\"url(#clip902)\" cx=\"1302.28\" cy=\"231.4\" r=\"14\" fill=\"#8755a7\" fill-rule=\"evenodd\" fill-opacity=\"1\" stroke=\"#000000\" stroke-opacity=\"1\" stroke-width=\"3.2\"/>\n",
       "<circle clip-path=\"url(#clip902)\" cx=\"1319.06\" cy=\"236.827\" r=\"14\" fill=\"#8755a7\" fill-rule=\"evenodd\" fill-opacity=\"1\" stroke=\"#000000\" stroke-opacity=\"1\" stroke-width=\"3.2\"/>\n",
       "<circle clip-path=\"url(#clip902)\" cx=\"1335.84\" cy=\"242.582\" r=\"14\" fill=\"#8755a7\" fill-rule=\"evenodd\" fill-opacity=\"1\" stroke=\"#000000\" stroke-opacity=\"1\" stroke-width=\"3.2\"/>\n",
       "<circle clip-path=\"url(#clip902)\" cx=\"1352.62\" cy=\"248.686\" r=\"14\" fill=\"#8755a7\" fill-rule=\"evenodd\" fill-opacity=\"1\" stroke=\"#000000\" stroke-opacity=\"1\" stroke-width=\"3.2\"/>\n",
       "<circle clip-path=\"url(#clip902)\" cx=\"1369.4\" cy=\"255.159\" r=\"14\" fill=\"#8755a7\" fill-rule=\"evenodd\" fill-opacity=\"1\" stroke=\"#000000\" stroke-opacity=\"1\" stroke-width=\"3.2\"/>\n",
       "<circle clip-path=\"url(#clip902)\" cx=\"1386.18\" cy=\"262.025\" r=\"14\" fill=\"#8755a7\" fill-rule=\"evenodd\" fill-opacity=\"1\" stroke=\"#000000\" stroke-opacity=\"1\" stroke-width=\"3.2\"/>\n",
       "<circle clip-path=\"url(#clip902)\" cx=\"1402.96\" cy=\"269.308\" r=\"14\" fill=\"#8755a7\" fill-rule=\"evenodd\" fill-opacity=\"1\" stroke=\"#000000\" stroke-opacity=\"1\" stroke-width=\"3.2\"/>\n",
       "<circle clip-path=\"url(#clip902)\" cx=\"1419.74\" cy=\"277.035\" r=\"14\" fill=\"#8755a7\" fill-rule=\"evenodd\" fill-opacity=\"1\" stroke=\"#000000\" stroke-opacity=\"1\" stroke-width=\"3.2\"/>\n",
       "<circle clip-path=\"url(#clip902)\" cx=\"1436.52\" cy=\"285.233\" r=\"14\" fill=\"#8755a7\" fill-rule=\"evenodd\" fill-opacity=\"1\" stroke=\"#000000\" stroke-opacity=\"1\" stroke-width=\"3.2\"/>\n",
       "<circle clip-path=\"url(#clip902)\" cx=\"1453.3\" cy=\"293.932\" r=\"14\" fill=\"#8755a7\" fill-rule=\"evenodd\" fill-opacity=\"1\" stroke=\"#000000\" stroke-opacity=\"1\" stroke-width=\"3.2\"/>\n",
       "<circle clip-path=\"url(#clip902)\" cx=\"1470.08\" cy=\"303.165\" r=\"14\" fill=\"#8755a7\" fill-rule=\"evenodd\" fill-opacity=\"1\" stroke=\"#000000\" stroke-opacity=\"1\" stroke-width=\"3.2\"/>\n",
       "<circle clip-path=\"url(#clip902)\" cx=\"1486.86\" cy=\"312.965\" r=\"14\" fill=\"#8755a7\" fill-rule=\"evenodd\" fill-opacity=\"1\" stroke=\"#000000\" stroke-opacity=\"1\" stroke-width=\"3.2\"/>\n",
       "<circle clip-path=\"url(#clip902)\" cx=\"1503.65\" cy=\"323.368\" r=\"14\" fill=\"#8755a7\" fill-rule=\"evenodd\" fill-opacity=\"1\" stroke=\"#000000\" stroke-opacity=\"1\" stroke-width=\"3.2\"/>\n",
       "<circle clip-path=\"url(#clip902)\" cx=\"1520.43\" cy=\"334.415\" r=\"14\" fill=\"#8755a7\" fill-rule=\"evenodd\" fill-opacity=\"1\" stroke=\"#000000\" stroke-opacity=\"1\" stroke-width=\"3.2\"/>\n",
       "<circle clip-path=\"url(#clip902)\" cx=\"1537.21\" cy=\"346.146\" r=\"14\" fill=\"#8755a7\" fill-rule=\"evenodd\" fill-opacity=\"1\" stroke=\"#000000\" stroke-opacity=\"1\" stroke-width=\"3.2\"/>\n",
       "<circle clip-path=\"url(#clip902)\" cx=\"1553.99\" cy=\"358.607\" r=\"14\" fill=\"#8755a7\" fill-rule=\"evenodd\" fill-opacity=\"1\" stroke=\"#000000\" stroke-opacity=\"1\" stroke-width=\"3.2\"/>\n",
       "<circle clip-path=\"url(#clip902)\" cx=\"1570.77\" cy=\"371.846\" r=\"14\" fill=\"#8755a7\" fill-rule=\"evenodd\" fill-opacity=\"1\" stroke=\"#000000\" stroke-opacity=\"1\" stroke-width=\"3.2\"/>\n",
       "<circle clip-path=\"url(#clip902)\" cx=\"1587.55\" cy=\"385.916\" r=\"14\" fill=\"#8755a7\" fill-rule=\"evenodd\" fill-opacity=\"1\" stroke=\"#000000\" stroke-opacity=\"1\" stroke-width=\"3.2\"/>\n",
       "<circle clip-path=\"url(#clip902)\" cx=\"1604.33\" cy=\"400.873\" r=\"14\" fill=\"#8755a7\" fill-rule=\"evenodd\" fill-opacity=\"1\" stroke=\"#000000\" stroke-opacity=\"1\" stroke-width=\"3.2\"/>\n",
       "<circle clip-path=\"url(#clip902)\" cx=\"1621.11\" cy=\"416.778\" r=\"14\" fill=\"#8755a7\" fill-rule=\"evenodd\" fill-opacity=\"1\" stroke=\"#000000\" stroke-opacity=\"1\" stroke-width=\"3.2\"/>\n",
       "<circle clip-path=\"url(#clip902)\" cx=\"1637.89\" cy=\"433.697\" r=\"14\" fill=\"#8755a7\" fill-rule=\"evenodd\" fill-opacity=\"1\" stroke=\"#000000\" stroke-opacity=\"1\" stroke-width=\"3.2\"/>\n",
       "<circle clip-path=\"url(#clip902)\" cx=\"1654.67\" cy=\"451.704\" r=\"14\" fill=\"#8755a7\" fill-rule=\"evenodd\" fill-opacity=\"1\" stroke=\"#000000\" stroke-opacity=\"1\" stroke-width=\"3.2\"/>\n",
       "<circle clip-path=\"url(#clip902)\" cx=\"1671.45\" cy=\"470.875\" r=\"14\" fill=\"#8755a7\" fill-rule=\"evenodd\" fill-opacity=\"1\" stroke=\"#000000\" stroke-opacity=\"1\" stroke-width=\"3.2\"/>\n",
       "<circle clip-path=\"url(#clip902)\" cx=\"1688.23\" cy=\"491.3\" r=\"14\" fill=\"#8755a7\" fill-rule=\"evenodd\" fill-opacity=\"1\" stroke=\"#000000\" stroke-opacity=\"1\" stroke-width=\"3.2\"/>\n",
       "<circle clip-path=\"url(#clip902)\" cx=\"1705.02\" cy=\"513.073\" r=\"14\" fill=\"#8755a7\" fill-rule=\"evenodd\" fill-opacity=\"1\" stroke=\"#000000\" stroke-opacity=\"1\" stroke-width=\"3.2\"/>\n",
       "<circle clip-path=\"url(#clip902)\" cx=\"1721.8\" cy=\"536.302\" r=\"14\" fill=\"#8755a7\" fill-rule=\"evenodd\" fill-opacity=\"1\" stroke=\"#000000\" stroke-opacity=\"1\" stroke-width=\"3.2\"/>\n",
       "<circle clip-path=\"url(#clip902)\" cx=\"1738.58\" cy=\"561.106\" r=\"14\" fill=\"#8755a7\" fill-rule=\"evenodd\" fill-opacity=\"1\" stroke=\"#000000\" stroke-opacity=\"1\" stroke-width=\"3.2\"/>\n",
       "<circle clip-path=\"url(#clip902)\" cx=\"1755.36\" cy=\"587.623\" r=\"14\" fill=\"#8755a7\" fill-rule=\"evenodd\" fill-opacity=\"1\" stroke=\"#000000\" stroke-opacity=\"1\" stroke-width=\"3.2\"/>\n",
       "<circle clip-path=\"url(#clip902)\" cx=\"1772.14\" cy=\"616.01\" r=\"14\" fill=\"#8755a7\" fill-rule=\"evenodd\" fill-opacity=\"1\" stroke=\"#000000\" stroke-opacity=\"1\" stroke-width=\"3.2\"/>\n",
       "<circle clip-path=\"url(#clip902)\" cx=\"1788.92\" cy=\"646.452\" r=\"14\" fill=\"#8755a7\" fill-rule=\"evenodd\" fill-opacity=\"1\" stroke=\"#000000\" stroke-opacity=\"1\" stroke-width=\"3.2\"/>\n",
       "<circle clip-path=\"url(#clip902)\" cx=\"1805.7\" cy=\"679.171\" r=\"14\" fill=\"#8755a7\" fill-rule=\"evenodd\" fill-opacity=\"1\" stroke=\"#000000\" stroke-opacity=\"1\" stroke-width=\"3.2\"/>\n",
       "<circle clip-path=\"url(#clip902)\" cx=\"1822.48\" cy=\"1319.37\" r=\"14\" fill=\"#8755a7\" fill-rule=\"evenodd\" fill-opacity=\"1\" stroke=\"#000000\" stroke-opacity=\"1\" stroke-width=\"3.2\"/>\n",
       "<circle clip-path=\"url(#clip902)\" cx=\"1822.48\" cy=\"1304.53\" r=\"14\" fill=\"#8755a7\" fill-rule=\"evenodd\" fill-opacity=\"1\" stroke=\"#000000\" stroke-opacity=\"1\" stroke-width=\"3.2\"/>\n",
       "<circle clip-path=\"url(#clip902)\" cx=\"1822.48\" cy=\"714.444\" r=\"14\" fill=\"#8755a7\" fill-rule=\"evenodd\" fill-opacity=\"1\" stroke=\"#000000\" stroke-opacity=\"1\" stroke-width=\"3.2\"/>\n",
       "<circle clip-path=\"url(#clip902)\" cx=\"1839.26\" cy=\"1321.5\" r=\"14\" fill=\"#8755a7\" fill-rule=\"evenodd\" fill-opacity=\"1\" stroke=\"#000000\" stroke-opacity=\"1\" stroke-width=\"3.2\"/>\n",
       "<circle clip-path=\"url(#clip902)\" cx=\"1839.26\" cy=\"1296.72\" r=\"14\" fill=\"#8755a7\" fill-rule=\"evenodd\" fill-opacity=\"1\" stroke=\"#000000\" stroke-opacity=\"1\" stroke-width=\"3.2\"/>\n",
       "<circle clip-path=\"url(#clip902)\" cx=\"1839.26\" cy=\"752.629\" r=\"14\" fill=\"#8755a7\" fill-rule=\"evenodd\" fill-opacity=\"1\" stroke=\"#000000\" stroke-opacity=\"1\" stroke-width=\"3.2\"/>\n",
       "<circle clip-path=\"url(#clip902)\" cx=\"1856.04\" cy=\"1322.83\" r=\"14\" fill=\"#8755a7\" fill-rule=\"evenodd\" fill-opacity=\"1\" stroke=\"#000000\" stroke-opacity=\"1\" stroke-width=\"3.2\"/>\n",
       "<circle clip-path=\"url(#clip902)\" cx=\"1856.04\" cy=\"1288.37\" r=\"14\" fill=\"#8755a7\" fill-rule=\"evenodd\" fill-opacity=\"1\" stroke=\"#000000\" stroke-opacity=\"1\" stroke-width=\"3.2\"/>\n",
       "<circle clip-path=\"url(#clip902)\" cx=\"1856.04\" cy=\"794.215\" r=\"14\" fill=\"#8755a7\" fill-rule=\"evenodd\" fill-opacity=\"1\" stroke=\"#000000\" stroke-opacity=\"1\" stroke-width=\"3.2\"/>\n",
       "<circle clip-path=\"url(#clip902)\" cx=\"1872.82\" cy=\"1323.82\" r=\"14\" fill=\"#8755a7\" fill-rule=\"evenodd\" fill-opacity=\"1\" stroke=\"#000000\" stroke-opacity=\"1\" stroke-width=\"3.2\"/>\n",
       "<circle clip-path=\"url(#clip902)\" cx=\"1872.82\" cy=\"1278.45\" r=\"14\" fill=\"#8755a7\" fill-rule=\"evenodd\" fill-opacity=\"1\" stroke=\"#000000\" stroke-opacity=\"1\" stroke-width=\"3.2\"/>\n",
       "<circle clip-path=\"url(#clip902)\" cx=\"1872.82\" cy=\"839.929\" r=\"14\" fill=\"#8755a7\" fill-rule=\"evenodd\" fill-opacity=\"1\" stroke=\"#000000\" stroke-opacity=\"1\" stroke-width=\"3.2\"/>\n",
       "<circle clip-path=\"url(#clip902)\" cx=\"1889.6\" cy=\"1324.6\" r=\"14\" fill=\"#8755a7\" fill-rule=\"evenodd\" fill-opacity=\"1\" stroke=\"#000000\" stroke-opacity=\"1\" stroke-width=\"3.2\"/>\n",
       "<circle clip-path=\"url(#clip902)\" cx=\"1889.6\" cy=\"1265.75\" r=\"14\" fill=\"#8755a7\" fill-rule=\"evenodd\" fill-opacity=\"1\" stroke=\"#000000\" stroke-opacity=\"1\" stroke-width=\"3.2\"/>\n",
       "<circle clip-path=\"url(#clip902)\" cx=\"1889.6\" cy=\"890.978\" r=\"14\" fill=\"#8755a7\" fill-rule=\"evenodd\" fill-opacity=\"1\" stroke=\"#000000\" stroke-opacity=\"1\" stroke-width=\"3.2\"/>\n",
       "<circle clip-path=\"url(#clip902)\" cx=\"1906.39\" cy=\"1325.25\" r=\"14\" fill=\"#8755a7\" fill-rule=\"evenodd\" fill-opacity=\"1\" stroke=\"#000000\" stroke-opacity=\"1\" stroke-width=\"3.2\"/>\n",
       "<circle clip-path=\"url(#clip902)\" cx=\"1906.39\" cy=\"1247.98\" r=\"14\" fill=\"#8755a7\" fill-rule=\"evenodd\" fill-opacity=\"1\" stroke=\"#000000\" stroke-opacity=\"1\" stroke-width=\"3.2\"/>\n",
       "<circle clip-path=\"url(#clip902)\" cx=\"1906.39\" cy=\"949.77\" r=\"14\" fill=\"#8755a7\" fill-rule=\"evenodd\" fill-opacity=\"1\" stroke=\"#000000\" stroke-opacity=\"1\" stroke-width=\"3.2\"/>\n",
       "<circle clip-path=\"url(#clip902)\" cx=\"1923.17\" cy=\"1325.8\" r=\"14\" fill=\"#8755a7\" fill-rule=\"evenodd\" fill-opacity=\"1\" stroke=\"#000000\" stroke-opacity=\"1\" stroke-width=\"3.2\"/>\n",
       "<circle clip-path=\"url(#clip902)\" cx=\"1923.17\" cy=\"1218.38\" r=\"14\" fill=\"#8755a7\" fill-rule=\"evenodd\" fill-opacity=\"1\" stroke=\"#000000\" stroke-opacity=\"1\" stroke-width=\"3.2\"/>\n",
       "<circle clip-path=\"url(#clip902)\" cx=\"1923.17\" cy=\"1023.19\" r=\"14\" fill=\"#8755a7\" fill-rule=\"evenodd\" fill-opacity=\"1\" stroke=\"#000000\" stroke-opacity=\"1\" stroke-width=\"3.2\"/>\n",
       "<circle clip-path=\"url(#clip902)\" cx=\"1939.95\" cy=\"1326.29\" r=\"14\" fill=\"#8755a7\" fill-rule=\"evenodd\" fill-opacity=\"1\" stroke=\"#000000\" stroke-opacity=\"1\" stroke-width=\"3.2\"/>\n",
       "<circle clip-path=\"url(#clip902)\" cx=\"1956.73\" cy=\"1326.71\" r=\"14\" fill=\"#8755a7\" fill-rule=\"evenodd\" fill-opacity=\"1\" stroke=\"#000000\" stroke-opacity=\"1\" stroke-width=\"3.2\"/>\n",
       "<circle clip-path=\"url(#clip902)\" cx=\"1973.51\" cy=\"1327.09\" r=\"14\" fill=\"#8755a7\" fill-rule=\"evenodd\" fill-opacity=\"1\" stroke=\"#000000\" stroke-opacity=\"1\" stroke-width=\"3.2\"/>\n",
       "<circle clip-path=\"url(#clip902)\" cx=\"1990.29\" cy=\"1327.43\" r=\"14\" fill=\"#8755a7\" fill-rule=\"evenodd\" fill-opacity=\"1\" stroke=\"#000000\" stroke-opacity=\"1\" stroke-width=\"3.2\"/>\n",
       "<circle clip-path=\"url(#clip902)\" cx=\"2007.07\" cy=\"1327.74\" r=\"14\" fill=\"#8755a7\" fill-rule=\"evenodd\" fill-opacity=\"1\" stroke=\"#000000\" stroke-opacity=\"1\" stroke-width=\"3.2\"/>\n",
       "<circle clip-path=\"url(#clip902)\" cx=\"2023.85\" cy=\"1328.02\" r=\"14\" fill=\"#8755a7\" fill-rule=\"evenodd\" fill-opacity=\"1\" stroke=\"#000000\" stroke-opacity=\"1\" stroke-width=\"3.2\"/>\n",
       "<circle clip-path=\"url(#clip902)\" cx=\"2040.63\" cy=\"1328.28\" r=\"14\" fill=\"#8755a7\" fill-rule=\"evenodd\" fill-opacity=\"1\" stroke=\"#000000\" stroke-opacity=\"1\" stroke-width=\"3.2\"/>\n",
       "<circle clip-path=\"url(#clip902)\" cx=\"2057.41\" cy=\"1328.52\" r=\"14\" fill=\"#8755a7\" fill-rule=\"evenodd\" fill-opacity=\"1\" stroke=\"#000000\" stroke-opacity=\"1\" stroke-width=\"3.2\"/>\n",
       "<circle clip-path=\"url(#clip902)\" cx=\"2074.19\" cy=\"1328.73\" r=\"14\" fill=\"#8755a7\" fill-rule=\"evenodd\" fill-opacity=\"1\" stroke=\"#000000\" stroke-opacity=\"1\" stroke-width=\"3.2\"/>\n",
       "<circle clip-path=\"url(#clip902)\" cx=\"2090.97\" cy=\"1328.94\" r=\"14\" fill=\"#8755a7\" fill-rule=\"evenodd\" fill-opacity=\"1\" stroke=\"#000000\" stroke-opacity=\"1\" stroke-width=\"3.2\"/>\n",
       "<circle clip-path=\"url(#clip902)\" cx=\"2107.76\" cy=\"1329.12\" r=\"14\" fill=\"#8755a7\" fill-rule=\"evenodd\" fill-opacity=\"1\" stroke=\"#000000\" stroke-opacity=\"1\" stroke-width=\"3.2\"/>\n",
       "<circle clip-path=\"url(#clip902)\" cx=\"2124.54\" cy=\"1329.3\" r=\"14\" fill=\"#8755a7\" fill-rule=\"evenodd\" fill-opacity=\"1\" stroke=\"#000000\" stroke-opacity=\"1\" stroke-width=\"3.2\"/>\n",
       "<circle clip-path=\"url(#clip902)\" cx=\"2141.32\" cy=\"1329.46\" r=\"14\" fill=\"#8755a7\" fill-rule=\"evenodd\" fill-opacity=\"1\" stroke=\"#000000\" stroke-opacity=\"1\" stroke-width=\"3.2\"/>\n",
       "<circle clip-path=\"url(#clip902)\" cx=\"2158.1\" cy=\"1329.61\" r=\"14\" fill=\"#8755a7\" fill-rule=\"evenodd\" fill-opacity=\"1\" stroke=\"#000000\" stroke-opacity=\"1\" stroke-width=\"3.2\"/>\n",
       "<circle clip-path=\"url(#clip902)\" cx=\"2174.88\" cy=\"1329.75\" r=\"14\" fill=\"#8755a7\" fill-rule=\"evenodd\" fill-opacity=\"1\" stroke=\"#000000\" stroke-opacity=\"1\" stroke-width=\"3.2\"/>\n",
       "<circle clip-path=\"url(#clip902)\" cx=\"2191.66\" cy=\"1329.89\" r=\"14\" fill=\"#8755a7\" fill-rule=\"evenodd\" fill-opacity=\"1\" stroke=\"#000000\" stroke-opacity=\"1\" stroke-width=\"3.2\"/>\n",
       "<circle clip-path=\"url(#clip902)\" cx=\"2208.44\" cy=\"1330.01\" r=\"14\" fill=\"#8755a7\" fill-rule=\"evenodd\" fill-opacity=\"1\" stroke=\"#000000\" stroke-opacity=\"1\" stroke-width=\"3.2\"/>\n",
       "<circle clip-path=\"url(#clip902)\" cx=\"2225.22\" cy=\"1330.13\" r=\"14\" fill=\"#8755a7\" fill-rule=\"evenodd\" fill-opacity=\"1\" stroke=\"#000000\" stroke-opacity=\"1\" stroke-width=\"3.2\"/>\n",
       "<circle clip-path=\"url(#clip902)\" cx=\"2242\" cy=\"1330.23\" r=\"14\" fill=\"#8755a7\" fill-rule=\"evenodd\" fill-opacity=\"1\" stroke=\"#000000\" stroke-opacity=\"1\" stroke-width=\"3.2\"/>\n",
       "<circle clip-path=\"url(#clip902)\" cx=\"2258.78\" cy=\"1330.34\" r=\"14\" fill=\"#8755a7\" fill-rule=\"evenodd\" fill-opacity=\"1\" stroke=\"#000000\" stroke-opacity=\"1\" stroke-width=\"3.2\"/>\n",
       "<circle clip-path=\"url(#clip902)\" cx=\"2275.56\" cy=\"1330.43\" r=\"14\" fill=\"#8755a7\" fill-rule=\"evenodd\" fill-opacity=\"1\" stroke=\"#000000\" stroke-opacity=\"1\" stroke-width=\"3.2\"/>\n",
       "<circle clip-path=\"url(#clip902)\" cx=\"2292.34\" cy=\"1330.52\" r=\"14\" fill=\"#8755a7\" fill-rule=\"evenodd\" fill-opacity=\"1\" stroke=\"#000000\" stroke-opacity=\"1\" stroke-width=\"3.2\"/>\n",
       "<path clip-path=\"url(#clip900)\" d=\"\n",
       "M1901.98 509.883 L2281.61 509.883 L2281.61 147.003 L1901.98 147.003  Z\n",
       "  \" fill=\"#e3dcd0\" fill-rule=\"evenodd\" fill-opacity=\"1\"/>\n",
       "<polyline clip-path=\"url(#clip900)\" style=\"stroke:#000000; stroke-linecap:butt; stroke-linejoin:round; stroke-width:4; stroke-opacity:1; fill:none\" points=\"\n",
       "  1901.98,509.883 2281.61,509.883 2281.61,147.003 1901.98,147.003 1901.98,509.883 \n",
       "  \"/>\n",
       "<path clip-path=\"url(#clip900)\" d=\"M2074.6 224.763 L2061.41 190.203 L2066.29 190.203 L2077.24 219.3 L2088.21 190.203 L2093.07 190.203 L2079.9 224.763 L2074.6 224.763 Z\" fill=\"#000000\" fill-rule=\"evenodd\" fill-opacity=\"1\" /><path clip-path=\"url(#clip900)\" d=\"M2108.54 193.282 Q2104.93 193.282 2103.1 196.847 Q2101.29 200.388 2101.29 207.518 Q2101.29 214.624 2103.1 218.189 Q2104.93 221.731 2108.54 221.731 Q2112.17 221.731 2113.98 218.189 Q2115.81 214.624 2115.81 207.518 Q2115.81 200.388 2113.98 196.847 Q2112.17 193.282 2108.54 193.282 M2108.54 189.578 Q2114.35 189.578 2117.4 194.185 Q2120.48 198.768 2120.48 207.518 Q2120.48 216.245 2117.4 220.851 Q2114.35 225.434 2108.54 225.434 Q2102.73 225.434 2099.65 220.851 Q2096.59 216.245 2096.59 207.518 Q2096.59 198.768 2099.65 194.185 Q2102.73 189.578 2108.54 189.578 Z\" fill=\"#000000\" fill-rule=\"evenodd\" fill-opacity=\"1\" /><circle clip-path=\"url(#clip900)\" cx=\"1996.85\" cy=\"267.963\" r=\"23\" fill=\"#bed2e6\" fill-rule=\"evenodd\" fill-opacity=\"1\" stroke=\"#000000\" stroke-opacity=\"1\" stroke-width=\"5.12\"/>\n",
       "<path clip-path=\"url(#clip900)\" d=\"M2103.66 253.762 Q2100.05 253.762 2098.22 257.327 Q2096.42 260.868 2096.42 267.998 Q2096.42 275.104 2098.22 278.669 Q2100.05 282.211 2103.66 282.211 Q2107.3 282.211 2109.1 278.669 Q2110.93 275.104 2110.93 267.998 Q2110.93 260.868 2109.1 257.327 Q2107.3 253.762 2103.66 253.762 M2103.66 250.058 Q2109.47 250.058 2112.53 254.665 Q2115.61 259.248 2115.61 267.998 Q2115.61 276.725 2112.53 281.331 Q2109.47 285.914 2103.66 285.914 Q2097.85 285.914 2094.77 281.331 Q2091.72 276.725 2091.72 267.998 Q2091.72 259.248 2094.77 254.665 Q2097.85 250.058 2103.66 250.058 Z\" fill=\"#000000\" fill-rule=\"evenodd\" fill-opacity=\"1\" /><circle clip-path=\"url(#clip900)\" cx=\"1996.85\" cy=\"328.443\" r=\"23\" fill=\"#9ebbda\" fill-rule=\"evenodd\" fill-opacity=\"1\" stroke=\"#000000\" stroke-opacity=\"1\" stroke-width=\"5.12\"/>\n",
       "<path clip-path=\"url(#clip900)\" d=\"M2092.39 341.788 L2100.03 341.788 L2100.03 315.422 L2091.72 317.089 L2091.72 312.83 L2099.98 311.163 L2104.66 311.163 L2104.66 341.788 L2112.3 341.788 L2112.3 345.723 L2092.39 345.723 L2092.39 341.788 Z\" fill=\"#000000\" fill-rule=\"evenodd\" fill-opacity=\"1\" /><path clip-path=\"url(#clip900)\" d=\"M2131.74 314.242 Q2128.13 314.242 2126.3 317.807 Q2124.5 321.348 2124.5 328.478 Q2124.5 335.584 2126.3 339.149 Q2128.13 342.691 2131.74 342.691 Q2135.38 342.691 2137.18 339.149 Q2139.01 335.584 2139.01 328.478 Q2139.01 321.348 2137.18 317.807 Q2135.38 314.242 2131.74 314.242 M2131.74 310.538 Q2137.55 310.538 2140.61 315.145 Q2143.69 319.728 2143.69 328.478 Q2143.69 337.205 2140.61 341.811 Q2137.55 346.394 2131.74 346.394 Q2125.93 346.394 2122.85 341.811 Q2119.8 337.205 2119.8 328.478 Q2119.8 319.728 2122.85 315.145 Q2125.93 310.538 2131.74 310.538 Z\" fill=\"#000000\" fill-rule=\"evenodd\" fill-opacity=\"1\" /><path clip-path=\"url(#clip900)\" d=\"M2161.9 314.242 Q2158.29 314.242 2156.46 317.807 Q2154.66 321.348 2154.66 328.478 Q2154.66 335.584 2156.46 339.149 Q2158.29 342.691 2161.9 342.691 Q2165.54 342.691 2167.34 339.149 Q2169.17 335.584 2169.17 328.478 Q2169.17 321.348 2167.34 317.807 Q2165.54 314.242 2161.9 314.242 M2161.9 310.538 Q2167.71 310.538 2170.77 315.145 Q2173.85 319.728 2173.85 328.478 Q2173.85 337.205 2170.77 341.811 Q2167.71 346.394 2161.9 346.394 Q2156.09 346.394 2153.01 341.811 Q2149.96 337.205 2149.96 328.478 Q2149.96 319.728 2153.01 315.145 Q2156.09 310.538 2161.9 310.538 Z\" fill=\"#000000\" fill-rule=\"evenodd\" fill-opacity=\"1\" /><path clip-path=\"url(#clip900)\" d=\"M2192.07 314.242 Q2188.45 314.242 2186.63 317.807 Q2184.82 321.348 2184.82 328.478 Q2184.82 335.584 2186.63 339.149 Q2188.45 342.691 2192.07 342.691 Q2195.7 342.691 2197.5 339.149 Q2199.33 335.584 2199.33 328.478 Q2199.33 321.348 2197.5 317.807 Q2195.7 314.242 2192.07 314.242 M2192.07 310.538 Q2197.88 310.538 2200.93 315.145 Q2204.01 319.728 2204.01 328.478 Q2204.01 337.205 2200.93 341.811 Q2197.88 346.394 2192.07 346.394 Q2186.25 346.394 2183.18 341.811 Q2180.12 337.205 2180.12 328.478 Q2180.12 319.728 2183.18 315.145 Q2186.25 310.538 2192.07 310.538 Z\" fill=\"#000000\" fill-rule=\"evenodd\" fill-opacity=\"1\" /><circle clip-path=\"url(#clip900)\" cx=\"1996.85\" cy=\"388.923\" r=\"23\" fill=\"#8b95c5\" fill-rule=\"evenodd\" fill-opacity=\"1\" stroke=\"#000000\" stroke-opacity=\"1\" stroke-width=\"5.12\"/>\n",
       "<path clip-path=\"url(#clip900)\" d=\"M2093.18 371.643 L2111.53 371.643 L2111.53 375.578 L2097.46 375.578 L2097.46 384.051 Q2098.48 383.703 2099.5 383.541 Q2100.51 383.356 2101.53 383.356 Q2107.32 383.356 2110.7 386.527 Q2114.08 389.699 2114.08 395.115 Q2114.08 400.694 2110.61 403.796 Q2107.13 406.874 2100.82 406.874 Q2098.64 406.874 2096.37 406.504 Q2094.13 406.134 2091.72 405.393 L2091.72 400.694 Q2093.8 401.828 2096.02 402.384 Q2098.25 402.939 2100.72 402.939 Q2104.73 402.939 2107.07 400.833 Q2109.4 398.726 2109.4 395.115 Q2109.4 391.504 2107.07 389.398 Q2104.73 387.291 2100.72 387.291 Q2098.85 387.291 2096.97 387.708 Q2095.12 388.125 2093.18 389.004 L2093.18 371.643 Z\" fill=\"#000000\" fill-rule=\"evenodd\" fill-opacity=\"1\" /><path clip-path=\"url(#clip900)\" d=\"M2133.29 374.722 Q2129.68 374.722 2127.85 378.287 Q2126.05 381.828 2126.05 388.958 Q2126.05 396.064 2127.85 399.629 Q2129.68 403.171 2133.29 403.171 Q2136.93 403.171 2138.73 399.629 Q2140.56 396.064 2140.56 388.958 Q2140.56 381.828 2138.73 378.287 Q2136.93 374.722 2133.29 374.722 M2133.29 371.018 Q2139.1 371.018 2142.16 375.625 Q2145.24 380.208 2145.24 388.958 Q2145.24 397.685 2142.16 402.291 Q2139.1 406.874 2133.29 406.874 Q2127.48 406.874 2124.4 402.291 Q2121.35 397.685 2121.35 388.958 Q2121.35 380.208 2124.4 375.625 Q2127.48 371.018 2133.29 371.018 Z\" fill=\"#000000\" fill-rule=\"evenodd\" fill-opacity=\"1\" /><path clip-path=\"url(#clip900)\" d=\"M2163.45 374.722 Q2159.84 374.722 2158.01 378.287 Q2156.21 381.828 2156.21 388.958 Q2156.21 396.064 2158.01 399.629 Q2159.84 403.171 2163.45 403.171 Q2167.09 403.171 2168.89 399.629 Q2170.72 396.064 2170.72 388.958 Q2170.72 381.828 2168.89 378.287 Q2167.09 374.722 2163.45 374.722 M2163.45 371.018 Q2169.26 371.018 2172.32 375.625 Q2175.4 380.208 2175.4 388.958 Q2175.4 397.685 2172.32 402.291 Q2169.26 406.874 2163.45 406.874 Q2157.64 406.874 2154.57 402.291 Q2151.51 397.685 2151.51 388.958 Q2151.51 380.208 2154.57 375.625 Q2157.64 371.018 2163.45 371.018 Z\" fill=\"#000000\" fill-rule=\"evenodd\" fill-opacity=\"1\" /><path clip-path=\"url(#clip900)\" d=\"M2193.62 374.722 Q2190 374.722 2188.18 378.287 Q2186.37 381.828 2186.37 388.958 Q2186.37 396.064 2188.18 399.629 Q2190 403.171 2193.62 403.171 Q2197.25 403.171 2199.06 399.629 Q2200.88 396.064 2200.88 388.958 Q2200.88 381.828 2199.06 378.287 Q2197.25 374.722 2193.62 374.722 M2193.62 371.018 Q2199.43 371.018 2202.48 375.625 Q2205.56 380.208 2205.56 388.958 Q2205.56 397.685 2202.48 402.291 Q2199.43 406.874 2193.62 406.874 Q2187.81 406.874 2184.73 402.291 Q2181.67 397.685 2181.67 388.958 Q2181.67 380.208 2184.73 375.625 Q2187.81 371.018 2193.62 371.018 Z\" fill=\"#000000\" fill-rule=\"evenodd\" fill-opacity=\"1\" /><circle clip-path=\"url(#clip900)\" cx=\"1996.85\" cy=\"449.403\" r=\"23\" fill=\"#8755a7\" fill-rule=\"evenodd\" fill-opacity=\"1\" stroke=\"#000000\" stroke-opacity=\"1\" stroke-width=\"5.12\"/>\n",
       "<path clip-path=\"url(#clip900)\" d=\"M2092.39 462.748 L2100.03 462.748 L2100.03 436.382 L2091.72 438.049 L2091.72 433.79 L2099.98 432.123 L2104.66 432.123 L2104.66 462.748 L2112.3 462.748 L2112.3 466.683 L2092.39 466.683 L2092.39 462.748 Z\" fill=\"#000000\" fill-rule=\"evenodd\" fill-opacity=\"1\" /><path clip-path=\"url(#clip900)\" d=\"M2131.74 435.202 Q2128.13 435.202 2126.3 438.767 Q2124.5 442.308 2124.5 449.438 Q2124.5 456.544 2126.3 460.109 Q2128.13 463.651 2131.74 463.651 Q2135.38 463.651 2137.18 460.109 Q2139.01 456.544 2139.01 449.438 Q2139.01 442.308 2137.18 438.767 Q2135.38 435.202 2131.74 435.202 M2131.74 431.498 Q2137.55 431.498 2140.61 436.105 Q2143.69 440.688 2143.69 449.438 Q2143.69 458.165 2140.61 462.771 Q2137.55 467.354 2131.74 467.354 Q2125.93 467.354 2122.85 462.771 Q2119.8 458.165 2119.8 449.438 Q2119.8 440.688 2122.85 436.105 Q2125.93 431.498 2131.74 431.498 Z\" fill=\"#000000\" fill-rule=\"evenodd\" fill-opacity=\"1\" /><path clip-path=\"url(#clip900)\" d=\"M2161.9 435.202 Q2158.29 435.202 2156.46 438.767 Q2154.66 442.308 2154.66 449.438 Q2154.66 456.544 2156.46 460.109 Q2158.29 463.651 2161.9 463.651 Q2165.54 463.651 2167.34 460.109 Q2169.17 456.544 2169.17 449.438 Q2169.17 442.308 2167.34 438.767 Q2165.54 435.202 2161.9 435.202 M2161.9 431.498 Q2167.71 431.498 2170.77 436.105 Q2173.85 440.688 2173.85 449.438 Q2173.85 458.165 2170.77 462.771 Q2167.71 467.354 2161.9 467.354 Q2156.09 467.354 2153.01 462.771 Q2149.96 458.165 2149.96 449.438 Q2149.96 440.688 2153.01 436.105 Q2156.09 431.498 2161.9 431.498 Z\" fill=\"#000000\" fill-rule=\"evenodd\" fill-opacity=\"1\" /><path clip-path=\"url(#clip900)\" d=\"M2192.07 435.202 Q2188.45 435.202 2186.63 438.767 Q2184.82 442.308 2184.82 449.438 Q2184.82 456.544 2186.63 460.109 Q2188.45 463.651 2192.07 463.651 Q2195.7 463.651 2197.5 460.109 Q2199.33 456.544 2199.33 449.438 Q2199.33 442.308 2197.5 438.767 Q2195.7 435.202 2192.07 435.202 M2192.07 431.498 Q2197.88 431.498 2200.93 436.105 Q2204.01 440.688 2204.01 449.438 Q2204.01 458.165 2200.93 462.771 Q2197.88 467.354 2192.07 467.354 Q2186.25 467.354 2183.18 462.771 Q2180.12 458.165 2180.12 449.438 Q2180.12 440.688 2183.18 436.105 Q2186.25 431.498 2192.07 431.498 Z\" fill=\"#000000\" fill-rule=\"evenodd\" fill-opacity=\"1\" /><path clip-path=\"url(#clip900)\" d=\"M2222.23 435.202 Q2218.62 435.202 2216.79 438.767 Q2214.98 442.308 2214.98 449.438 Q2214.98 456.544 2216.79 460.109 Q2218.62 463.651 2222.23 463.651 Q2225.86 463.651 2227.67 460.109 Q2229.5 456.544 2229.5 449.438 Q2229.5 442.308 2227.67 438.767 Q2225.86 435.202 2222.23 435.202 M2222.23 431.498 Q2228.04 431.498 2231.09 436.105 Q2234.17 440.688 2234.17 449.438 Q2234.17 458.165 2231.09 462.771 Q2228.04 467.354 2222.23 467.354 Q2216.42 467.354 2213.34 462.771 Q2210.28 458.165 2210.28 449.438 Q2210.28 440.688 2213.34 436.105 Q2216.42 431.498 2222.23 431.498 Z\" fill=\"#000000\" fill-rule=\"evenodd\" fill-opacity=\"1\" /></svg>\n"
      ]
     },
     "execution_count": 56,
     "metadata": {},
     "output_type": "execute_result"
    }
   ],
   "source": [
    "p = scatter(\n",
    "    ylim=[0, 1],\n",
    "    xscale=:log,\n",
    "    legendtitle = \"V0\",\n",
    "    ylabel=\"λ/λ0\",\n",
    "    xlabel=\"a_ex\",\n",
    "    title=\"Is this the right font?\"\n",
    ")\n",
    "\n",
    "V_0_list = [0, 1000, 5000, 10000]\n",
    "for (_V0, c) in zip(V_0_list, palette(:BuPu_6)[2:end])\n",
    "    y = []\n",
    "    x = Float64[]\n",
    "    for i in 1:length(a_ex_range)\n",
    "        args = (a_ex_range[i], _λ0, _κt, _Kd, _KM, _j, _V0, _Δr)\n",
    "        solutions = solve_polynomial(args...)\n",
    "        _y = [imag(x) == 0 ? real(x)/_λ0 : missing for x in solutions]\n",
    "        push!(y, _y...)\n",
    "        _x = ones(length(_y)) .* a_ex_range[i]\n",
    "        push!(x, _x...)\n",
    "    end\n",
    "    scatter!(p, x, y, color=c, label=\"$_V0\")\n",
    "end\n",
    "savefig(p, \"res_model.pdf\")\n",
    "p"
   ]
  }
 ],
 "metadata": {
  "kernelspec": {
   "display_name": "Julia 1.6.0",
   "language": "julia",
   "name": "julia-1.6"
  },
  "language_info": {
   "file_extension": ".jl",
   "mimetype": "application/julia",
   "name": "julia",
   "version": "1.6.0"
  }
 },
 "nbformat": 4,
 "nbformat_minor": 5
}
