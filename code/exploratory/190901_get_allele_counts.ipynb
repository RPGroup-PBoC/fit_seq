{
 "cells": [
  {
   "cell_type": "markdown",
   "metadata": {},
   "source": [
    "## Fit-seq: Tracking allele counts "
   ]
  },
  {
   "cell_type": "code",
   "execution_count": null,
   "metadata": {},
   "outputs": [],
   "source": [
    "import numpy as np\n",
    "import pandas as pd\n",
    "import matplotlib.pyplot as plt\n",
    "import seaborn as sns\n",
    "import sort_seq as ss\n",
    "import glob\n",
    "from Bio import SeqIO\n",
    "from bisect import bisect \n",
    "import bisect\n",
    "import time\n",
    "import numba\n",
    "\n",
    "%matplotlib inline\n",
    "%config InlineBackend.figure_format = 'svg'"
   ]
  },
  {
   "cell_type": "code",
   "execution_count": null,
   "metadata": {},
   "outputs": [],
   "source": [
    "path = '../sequencing/20171114_fitseq_rel_2/'\n",
    "\n",
    "\n",
    "path = '../sequencing/20171114_fitseq_rel_2/'\n",
    "\n",
    "file_day_0 = \"20160519_MG1655_prel_day0_rel.qcfilt.endATGG.bin1.fastq\"\n",
    "\n",
    "file_day_1 = \"20160519_MG1655_prel_day1_rel.qcfilt.endATGG.bin2.fastq\"\n",
    "\n",
    "file_day_3 = \"20160519_MG1655_prel_day3_rel.qcfilt.endATGG.bin3.fastq\"\n",
    "\n",
    "fname_day_0 = path + file_day_0\n",
    "fname_day_1 = path + file_day_1\n",
    "fname_day_3 = path + file_day_3"
   ]
  },
  {
   "cell_type": "code",
   "execution_count": null,
   "metadata": {},
   "outputs": [],
   "source": [
    "@numba.jit(nopython=True)\n",
    "def nuctup2array(tup):\n",
    "    \n",
    "    \"\"\"\n",
    "    Turn the sequence tuple of nucleotides to a sequence of numbers in np.array format.\n",
    "    \"\"\"\n",
    "    nuc_arr = np.array(''.join(tup))\n",
    "    \n",
    "    mapping = {'A': 0, 'C': 1, 'G': 2, 'T': 3}\n",
    "    \n",
    "    vec_array = np.array([mapping[x] for x in nuc_array[0]])\n",
    "    \n",
    "    return nuc_arr"
   ]
  },
  {
   "cell_type": "code",
   "execution_count": null,
   "metadata": {},
   "outputs": [],
   "source": [
    "#@numba.jit(nopython=True)\n",
    "def nuc2vec_py(nuc_array):\n",
    "    \n",
    "    \"\"\"\n",
    "    Turn a nucleotide sequence into a sequence of numbers. \n",
    "    \"\"\"\n",
    "    mapping = {'A': 0, 'C': 1, 'G': 2, 'T': 3}\n",
    "    \n",
    "    vec_array = ''.join(list(np.array([mapping[x] for x in nuc_array]).astype(str)))\n",
    "    \n",
    "    return vec_array\n",
    "\n",
    "\n",
    "#@numba.jit(nopython=True)\n",
    "def nuc2vec(nuc_array):\n",
    "    \n",
    "    \"\"\"\n",
    "    Turn a nucleotide sequence into a sequence of numbers. \n",
    "    \"\"\"\n",
    "    mapping = {'A': 0, 'C': 1, 'G': 2, 'T': 3}\n",
    "    \n",
    "    vec_array = [mapping[x] for x in nuc_array[0]]\n",
    "    \n",
    "    return vec_array\n",
    "\n",
    "def vec2nuc(arr):\n",
    "    \n",
    "    \"\"\"\n",
    "    Turn a nucleotide sequence into a sequence of numbers. \n",
    "    \"\"\"\n",
    "    mapping = {0:'A', 1: 'C', 2:'G', 3:'T'}\n",
    "    \n",
    "    vec_array = np.array([mapping[x] for x in arr[0]])\n",
    "    \n",
    "    return vec_array\n",
    "\n",
    "\n",
    "def get_seqs_py(fname):\n",
    "    \n",
    "    with open(fname_day_0) as file: # Use file to refer to the file object\n",
    "\n",
    "        fastq_data = file.read()\n",
    "        \n",
    "    seqs = fastq_data.split('+')\n",
    "    \n",
    "    #print(len(seqs))\n",
    "    \n",
    "    raw_seqs = [seqs[0].split('\\n')[1]]\n",
    "    \n",
    "    for i in np.arange(1, len(seqs)-1):\n",
    "        \n",
    "        #print(len(seqs[i].split('\\n')))\n",
    "        raw_seqs.append(seqs[i].split('\\n')[3])\n",
    "        \n",
    "    raw_seqs = np.array(raw_seqs)\n",
    "        \n",
    "    return raw_seqs"
   ]
  },
  {
   "cell_type": "code",
   "execution_count": null,
   "metadata": {},
   "outputs": [],
   "source": [
    "def get_allele_counts_day_zero(fname):\n",
    "    \n",
    "    \"\"\"\n",
    "    Get the allele counts for Day 0 \n",
    "    \n",
    "    inputs ~~\n",
    "\n",
    "    fname : path to where the file lives\n",
    "    \n",
    "    outputs : df with counts \n",
    "    \"\"\"\n",
    "    \n",
    "    t0 = time.time()\n",
    "    #seqs = []\n",
    "    \n",
    "    #Read the sequences with biopython\n",
    "    #for seq_record in SeqIO.parse(fname, \"fastq\"):\n",
    "    #   seqs.append(seq_record.seq)\n",
    "    \n",
    "    \n",
    "    seqs = get_seqs_py(fname)\n",
    "    \n",
    "    #Make the sequences a Pandas Series object\n",
    "    seq_ser = pd.Series(seqs)\n",
    "    \n",
    "    #Apply value counts method to get the counts of unique seqs\n",
    "    df = pd.DataFrame({'seq': seq_ser.value_counts().index, \n",
    "        'counts' : seq_ser.value_counts().values}).reset_index().rename(columns =\n",
    "                                                                        {'index': 'allele'})\n",
    "    \n",
    "    #Turn the tuple of nucleotides into a vectorized array\n",
    "    df['seq'] = df['seq'].apply(nuc2vec_py)\n",
    "    \n",
    "    #Sort the values to make the bisection later\n",
    "    df.sort_values(by = 'seq', inplace = True )\n",
    "    \n",
    "    #Make a column to keep track of the day \n",
    "    df['day'] = [0]*df.shape[0]\n",
    "    \n",
    "    cols = ['seq', 'counts', 'day', 'allele']\n",
    "    \n",
    "    df = df[cols]\n",
    "    \n",
    "    t1 = time.time()\n",
    "    \n",
    "    print('Making the dataframe took ', t1-t0, ' seconds')\n",
    "    \n",
    "    return df"
   ]
  },
  {
   "cell_type": "code",
   "execution_count": null,
   "metadata": {},
   "outputs": [],
   "source": [
    "def get_allele_counts_post_day_zero(fname, day_number):\n",
    "    \n",
    "    \"\"\"\n",
    "    Get the allele counts for the days after day 0. \n",
    "    \n",
    "    inputs ~~\n",
    "\n",
    "    fname : path to where the file lives\n",
    "    \n",
    "    outputs : df with counts \n",
    "    \"\"\"\n",
    "    \n",
    "    t0 = time.time()\n",
    "    \n",
    "    #Load sequences using biopython \n",
    "    #seqs = []\n",
    "    \n",
    "    #for seq_record in SeqIO.parse(fname, \"fastq\"):\n",
    "    #    seqs.append(seq_record.seq)\n",
    "\n",
    "    seqs = get_seqs_py(fname)\n",
    "    \n",
    "    seq_ser = pd.Series(seqs)\n",
    "    \n",
    "    df = pd.DataFrame({'seq': seq_ser.value_counts().index, \n",
    "        'counts' : seq_ser.value_counts().values})\n",
    "    \n",
    "    df['seq'] = df['seq'].apply(nuc2vec_py)\n",
    "    \n",
    "    df.sort_values(by = 'seq', inplace= True)\n",
    "    \n",
    "    df['day'] = [day_number]*df.shape[0]\n",
    "    \n",
    "    t1 = time.time()\n",
    "    \n",
    "    print('The code ran in ', t1-t0, ' seconds')\n",
    "    \n",
    "    return df"
   ]
  },
  {
   "cell_type": "code",
   "execution_count": null,
   "metadata": {},
   "outputs": [],
   "source": [
    "def get_allele_barcodes_post_day_zero(day_zero_df, post_df):\n",
    "    \n",
    "    \"\"\"\n",
    "    In order to keep track of the alleles, this function maps the seqs from \n",
    "    experiments post-day zero and assigns them the same tag as the day zero \n",
    "    experiment. \n",
    "    \n",
    "    inputs~~\n",
    "    \n",
    "    day_zero_df : DataFrame containing the counts for each allele in day 0.\n",
    "    \n",
    "    outputs~~~\n",
    "    \n",
    "    post_df : DataFrame containing the counts for each allele post day 0, without allele tags.\n",
    "    \"\"\"\n",
    "    \n",
    "    t0 = time.time()\n",
    "    n_barcodes_day_zero = day_zero_df.shape[0]\n",
    "    \n",
    "    day_zero_seqs = day_zero_df.seq.values\n",
    "    \n",
    "    #barcodes for post day zero df sequences \n",
    "    post_day_zero_allele_bc =[]\n",
    "    \n",
    "    \n",
    "    for i,post_df_seq in enumerate(post_df.seq.values):\n",
    "        \n",
    "        if post_df_seq in day_zero_seqs:\n",
    "            \n",
    "            index = bisect.bisect(day_zero_seqs, post_df_seq) \n",
    "            \n",
    "            post_day_zero_allele_bc.append(index)\n",
    "            \n",
    "        else: \n",
    "            \n",
    "            post_day_zero_allele_bc.append(n_barcodes_day_zero + i )\n",
    "            \n",
    "    post_df['allele'] = post_day_zero_allele_bc\n",
    "    \n",
    "    t1 = time.time()\n",
    "    \n",
    "    print('The code took ', t1-t0, ' seconds to run.')\n",
    "    \n",
    "    return post_df\n"
   ]
  },
  {
   "cell_type": "markdown",
   "metadata": {},
   "source": [
    "## Making the master dataframe"
   ]
  },
  {
   "cell_type": "markdown",
   "metadata": {},
   "source": [
    "With this functions at play, we can now get the counts for each allele across time. Let's go ahead and make that for day 0. You'll notice that the seqs consist of a sequence of numbers 0-3. After all is said and done, we'll have to convert back to DNA sequences using the `vec_2_nuc` function."
   ]
  },
  {
   "cell_type": "code",
   "execution_count": null,
   "metadata": {},
   "outputs": [],
   "source": [
    "df_day_zero = get_allele_counts_day_zero(fname_day_0)"
   ]
  },
  {
   "cell_type": "code",
   "execution_count": null,
   "metadata": {},
   "outputs": [],
   "source": [
    "df_day_zero.head()"
   ]
  },
  {
   "cell_type": "code",
   "execution_count": null,
   "metadata": {},
   "outputs": [],
   "source": [
    "df_day_zero.shape"
   ]
  },
  {
   "cell_type": "markdown",
   "metadata": {},
   "source": [
    "Nice, now we can get the counts for each sequence for posterior days, and then match the allele annotations. "
   ]
  },
  {
   "cell_type": "code",
   "execution_count": null,
   "metadata": {},
   "outputs": [],
   "source": [
    "df_1 = get_allele_counts_post_day_zero(fname_day_1, 1)"
   ]
  },
  {
   "cell_type": "code",
   "execution_count": null,
   "metadata": {},
   "outputs": [],
   "source": [
    "df_1.tail()"
   ]
  },
  {
   "cell_type": "markdown",
   "metadata": {},
   "source": [
    "As you can see we now have the counts for each individual sequence, we just have to match each sequence to the allele annotations from day one. We're making use of the `bisect` module, but it might be a better idea to make some other type of pattern matching. An alternative idea is to take the log of each number, and convert the number back after matching. The numbers that are not 70 integers of length will be those that will have to be added 0s to the left. Last time I ran this code it took > 3 hrs to run..."
   ]
  },
  {
   "cell_type": "code",
   "execution_count": null,
   "metadata": {},
   "outputs": [],
   "source": [
    "#Get the \"barcodes\" a.k.a. allele annotations for the day zero dataframe\n",
    "df_day_one = get_allele_barcodes_post_day_zero(df_day_zero, df_1)\n"
   ]
  },
  {
   "cell_type": "code",
   "execution_count": null,
   "metadata": {},
   "outputs": [],
   "source": [
    "df_3 = get_allele_counts_post_day_zero(fname_day_3, 3)\n"
   ]
  },
  {
   "cell_type": "code",
   "execution_count": null,
   "metadata": {},
   "outputs": [],
   "source": [
    "\n",
    "df_day_three = get_allele_barcodes_post_day_zero(df_day_zero, df_3)"
   ]
  },
  {
   "cell_type": "code",
   "execution_count": null,
   "metadata": {},
   "outputs": [],
   "source": []
  }
 ],
 "metadata": {
  "kernelspec": {
   "display_name": "Python 3",
   "language": "python",
   "name": "python3"
  },
  "language_info": {
   "codemirror_mode": {
    "name": "ipython",
    "version": 3
   },
   "file_extension": ".py",
   "mimetype": "text/x-python",
   "name": "python",
   "nbconvert_exporter": "python",
   "pygments_lexer": "ipython3",
   "version": "3.7.3"
  }
 },
 "nbformat": 4,
 "nbformat_minor": 2
}
