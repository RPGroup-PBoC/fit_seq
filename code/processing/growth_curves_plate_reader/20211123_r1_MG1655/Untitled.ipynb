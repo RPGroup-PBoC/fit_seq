{
 "cells": [
  {
   "cell_type": "markdown",
   "id": "59d35b5f-06f6-44a2-9adc-2d90bc4114d3",
   "metadata": {},
   "source": [
    "# Analysis of BioTek plate reader growth curves"
   ]
  },
  {
   "cell_type": "markdown",
   "id": "2536a62c-086c-43be-ae92-2442833228c8",
   "metadata": {},
   "source": [
    "## Date:"
   ]
  },
  {
   "cell_type": "markdown",
   "id": "cda9db56-2366-4518-aff6-751a6d53d91c",
   "metadata": {},
   "source": [
    "(c) 2021 Phillips Lab. This work is licensed under a [Creative Commons Attribution License CC-BY 4.0](https://creativecommons.org/licenses/by/4.0/). All code contained herein is licensed under an [MIT license](https://opensource.org/licenses/MIT)\n",
    "\n",
    "---"
   ]
  },
  {
   "cell_type": "code",
   "execution_count": 17,
   "id": "84ed9bad-d81d-469a-90ff-eb35a656277f",
   "metadata": {},
   "outputs": [],
   "source": [
    "using Jedi, WGLMakie, CSV, DataFrames, CairoMakie, Statistics\n",
    "CairoMakie.activate!()\n",
    "\n",
    "Jedi.styles.default_makie!()"
   ]
  },
  {
   "cell_type": "code",
   "execution_count": 7,
   "id": "86e1e790-a007-4632-a6d0-a0975cc7987d",
   "metadata": {},
   "outputs": [
    {
     "data": {
      "text/plain": [
       "1"
      ]
     },
     "execution_count": 7,
     "metadata": {},
     "output_type": "execute_result"
    }
   ],
   "source": [
    "dir = @__DIR__\n",
    "home_dir = joinpath(split(dir, '/')[1:end-4]...)\n",
    "\n",
    "# Find date\n",
    "workdir = split(dir, '/')[end]\n",
    "DATE = parse(Int64, split(workdir, '_')[1])\n",
    "RUN_NO = parse(Int64, split(workdir, '_')[2][end])"
   ]
  },
  {
   "cell_type": "code",
   "execution_count": 24,
   "id": "65cdb5f5-4e49-4915-a5ea-e18e65833fbb",
   "metadata": {},
   "outputs": [
    {
     "data": {
      "text/html": [
       "<div class=\"data-frame\"><p>60 rows × 4 columns</p><table class=\"data-frame\"><thead><tr><th></th><th>strain</th><th>pos_selection</th><th>well</th><th>lambda_max</th></tr><tr><th></th><th title=\"String15\">String15</th><th title=\"String7\">String7</th><th title=\"String3\">String3</th><th title=\"Float64\">Float64</th></tr></thead><tbody><tr><th>1</th><td>MG1655_1</td><td>none</td><td>B02</td><td>0.00685099</td></tr><tr><th>2</th><td>MG1655_1</td><td>none</td><td>B03</td><td>0.00674222</td></tr><tr><th>3</th><td>MG1655_1</td><td>none</td><td>B04</td><td>0.00769982</td></tr><tr><th>4</th><td>MG1655_1</td><td>none</td><td>B05</td><td>0.00714102</td></tr><tr><th>5</th><td>MG1655_1</td><td>none</td><td>B06</td><td>0.00823511</td></tr><tr><th>6</th><td>MG1655_supp_1</td><td>none</td><td>B07</td><td>0.00746165</td></tr><tr><th>7</th><td>MG1655_supp_1</td><td>none</td><td>B08</td><td>0.00868747</td></tr><tr><th>8</th><td>MG1655_supp_1</td><td>none</td><td>B09</td><td>0.00810674</td></tr><tr><th>9</th><td>MG1655_supp_1</td><td>none</td><td>B10</td><td>0.00861113</td></tr><tr><th>10</th><td>MG1655_supp_1</td><td>none</td><td>B11</td><td>0.00867524</td></tr><tr><th>11</th><td>MG1655_1</td><td>none</td><td>C02</td><td>0.00697647</td></tr><tr><th>12</th><td>MG1655_1</td><td>none</td><td>C03</td><td>0.00789639</td></tr><tr><th>13</th><td>MG1655_1</td><td>none</td><td>C04</td><td>0.00731366</td></tr><tr><th>14</th><td>MG1655_1</td><td>none</td><td>C05</td><td>0.0070136</td></tr><tr><th>15</th><td>MG1655_1</td><td>none</td><td>C06</td><td>0.00740485</td></tr><tr><th>16</th><td>MG1655_supp_1</td><td>none</td><td>C07</td><td>0.00811538</td></tr><tr><th>17</th><td>MG1655_supp_1</td><td>none</td><td>C08</td><td>0.00839606</td></tr><tr><th>18</th><td>MG1655_supp_1</td><td>none</td><td>C09</td><td>0.00831861</td></tr><tr><th>19</th><td>MG1655_supp_1</td><td>none</td><td>C10</td><td>0.00786863</td></tr><tr><th>20</th><td>MG1655_supp_1</td><td>none</td><td>C11</td><td>0.00885298</td></tr><tr><th>21</th><td>MG1655_2</td><td>none</td><td>D02</td><td>0.00793412</td></tr><tr><th>22</th><td>MG1655_2</td><td>none</td><td>D03</td><td>0.00789884</td></tr><tr><th>23</th><td>MG1655_2</td><td>none</td><td>D04</td><td>0.00692039</td></tr><tr><th>24</th><td>MG1655_2</td><td>none</td><td>D05</td><td>0.00698428</td></tr><tr><th>25</th><td>MG1655_2</td><td>none</td><td>D06</td><td>0.00766591</td></tr><tr><th>26</th><td>MG1655_supp_2</td><td>none</td><td>D07</td><td>0.0080864</td></tr><tr><th>27</th><td>MG1655_supp_2</td><td>none</td><td>D08</td><td>0.00778305</td></tr><tr><th>28</th><td>MG1655_supp_2</td><td>none</td><td>D09</td><td>0.00826943</td></tr><tr><th>29</th><td>MG1655_supp_2</td><td>none</td><td>D10</td><td>0.00738147</td></tr><tr><th>30</th><td>MG1655_supp_2</td><td>none</td><td>D11</td><td>0.00865762</td></tr><tr><th>&vellip;</th><td>&vellip;</td><td>&vellip;</td><td>&vellip;</td><td>&vellip;</td></tr></tbody></table></div>"
      ],
      "text/latex": [
       "\\begin{tabular}{r|cccc}\n",
       "\t& strain & pos\\_selection & well & lambda\\_max\\\\\n",
       "\t\\hline\n",
       "\t& String15 & String7 & String3 & Float64\\\\\n",
       "\t\\hline\n",
       "\t1 & MG1655\\_1 & none & B02 & 0.00685099 \\\\\n",
       "\t2 & MG1655\\_1 & none & B03 & 0.00674222 \\\\\n",
       "\t3 & MG1655\\_1 & none & B04 & 0.00769982 \\\\\n",
       "\t4 & MG1655\\_1 & none & B05 & 0.00714102 \\\\\n",
       "\t5 & MG1655\\_1 & none & B06 & 0.00823511 \\\\\n",
       "\t6 & MG1655\\_supp\\_1 & none & B07 & 0.00746165 \\\\\n",
       "\t7 & MG1655\\_supp\\_1 & none & B08 & 0.00868747 \\\\\n",
       "\t8 & MG1655\\_supp\\_1 & none & B09 & 0.00810674 \\\\\n",
       "\t9 & MG1655\\_supp\\_1 & none & B10 & 0.00861113 \\\\\n",
       "\t10 & MG1655\\_supp\\_1 & none & B11 & 0.00867524 \\\\\n",
       "\t11 & MG1655\\_1 & none & C02 & 0.00697647 \\\\\n",
       "\t12 & MG1655\\_1 & none & C03 & 0.00789639 \\\\\n",
       "\t13 & MG1655\\_1 & none & C04 & 0.00731366 \\\\\n",
       "\t14 & MG1655\\_1 & none & C05 & 0.0070136 \\\\\n",
       "\t15 & MG1655\\_1 & none & C06 & 0.00740485 \\\\\n",
       "\t16 & MG1655\\_supp\\_1 & none & C07 & 0.00811538 \\\\\n",
       "\t17 & MG1655\\_supp\\_1 & none & C08 & 0.00839606 \\\\\n",
       "\t18 & MG1655\\_supp\\_1 & none & C09 & 0.00831861 \\\\\n",
       "\t19 & MG1655\\_supp\\_1 & none & C10 & 0.00786863 \\\\\n",
       "\t20 & MG1655\\_supp\\_1 & none & C11 & 0.00885298 \\\\\n",
       "\t21 & MG1655\\_2 & none & D02 & 0.00793412 \\\\\n",
       "\t22 & MG1655\\_2 & none & D03 & 0.00789884 \\\\\n",
       "\t23 & MG1655\\_2 & none & D04 & 0.00692039 \\\\\n",
       "\t24 & MG1655\\_2 & none & D05 & 0.00698428 \\\\\n",
       "\t25 & MG1655\\_2 & none & D06 & 0.00766591 \\\\\n",
       "\t26 & MG1655\\_supp\\_2 & none & D07 & 0.0080864 \\\\\n",
       "\t27 & MG1655\\_supp\\_2 & none & D08 & 0.00778305 \\\\\n",
       "\t28 & MG1655\\_supp\\_2 & none & D09 & 0.00826943 \\\\\n",
       "\t29 & MG1655\\_supp\\_2 & none & D10 & 0.00738147 \\\\\n",
       "\t30 & MG1655\\_supp\\_2 & none & D11 & 0.00865762 \\\\\n",
       "\t$\\dots$ & $\\dots$ & $\\dots$ & $\\dots$ & $\\dots$ \\\\\n",
       "\\end{tabular}\n"
      ],
      "text/plain": [
       "\u001b[1m60×4 DataFrame\u001b[0m\n",
       "\u001b[1m Row \u001b[0m│\u001b[1m strain        \u001b[0m\u001b[1m pos_selection \u001b[0m\u001b[1m well    \u001b[0m\u001b[1m lambda_max \u001b[0m\n",
       "\u001b[1m     \u001b[0m│\u001b[90m String15      \u001b[0m\u001b[90m String7       \u001b[0m\u001b[90m String3 \u001b[0m\u001b[90m Float64    \u001b[0m\n",
       "─────┼───────────────────────────────────────────────────\n",
       "   1 │ MG1655_1       none           B02      0.00685099\n",
       "   2 │ MG1655_1       none           B03      0.00674222\n",
       "   3 │ MG1655_1       none           B04      0.00769982\n",
       "   4 │ MG1655_1       none           B05      0.00714102\n",
       "   5 │ MG1655_1       none           B06      0.00823511\n",
       "   6 │ MG1655_supp_1  none           B07      0.00746165\n",
       "   7 │ MG1655_supp_1  none           B08      0.00868747\n",
       "   8 │ MG1655_supp_1  none           B09      0.00810674\n",
       "   9 │ MG1655_supp_1  none           B10      0.00861113\n",
       "  10 │ MG1655_supp_1  none           B11      0.00867524\n",
       "  11 │ MG1655_1       none           C02      0.00697647\n",
       "  ⋮  │       ⋮              ⋮           ⋮         ⋮\n",
       "  51 │ MG1655_3       none           G02      0.0080675\n",
       "  52 │ MG1655_3       none           G03      0.00780868\n",
       "  53 │ MG1655_3       none           G04      0.00793302\n",
       "  54 │ MG1655_3       none           G05      0.00797481\n",
       "  55 │ MG1655_3       none           G06      0.0081162\n",
       "  56 │ MG1655_supp_3  none           G07      0.0085854\n",
       "  57 │ MG1655_supp_3  none           G08      0.00829383\n",
       "  58 │ MG1655_supp_3  none           G09      0.0079892\n",
       "  59 │ MG1655_supp_3  none           G10      0.00829566\n",
       "  60 │ MG1655_supp_3  none           G11      0.00827183\n",
       "\u001b[36m                                          39 rows omitted\u001b[0m"
      ]
     },
     "execution_count": 24,
     "metadata": {},
     "output_type": "execute_result"
    }
   ],
   "source": [
    "df = CSV.read(\"$dir/output/gp_analysis_summary.csv\", DataFrame)\n",
    "df"
   ]
  },
  {
   "cell_type": "code",
   "execution_count": 18,
   "id": "21e70d01-f189-4701-af62-a4f11b0f02e1",
   "metadata": {},
   "outputs": [
    {
     "data": {
      "text/plain": [
       "0.007327413243501073"
      ]
     },
     "execution_count": 18,
     "metadata": {},
     "output_type": "execute_result"
    }
   ],
   "source": [
    "mean(df[df.strain .== \"MG1655_1\", :lambda_max])"
   ]
  },
  {
   "cell_type": "code",
   "execution_count": 19,
   "id": "9726fecc-e69d-4834-b026-24f435d065a1",
   "metadata": {},
   "outputs": [
    {
     "data": {
      "text/plain": [
       "0.007721742936313146"
      ]
     },
     "execution_count": 19,
     "metadata": {},
     "output_type": "execute_result"
    }
   ],
   "source": [
    "mean(df[df.strain .== \"MG1655_2\", :lambda_max])"
   ]
  },
  {
   "cell_type": "code",
   "execution_count": 20,
   "id": "8df87e1e-78d7-4272-a610-4880b5c89286",
   "metadata": {},
   "outputs": [
    {
     "data": {
      "text/plain": [
       "0.008026843361479265"
      ]
     },
     "execution_count": 20,
     "metadata": {},
     "output_type": "execute_result"
    }
   ],
   "source": [
    "mean(df[df.strain .== \"MG1655_3\", :lambda_max])"
   ]
  },
  {
   "cell_type": "code",
   "execution_count": 21,
   "id": "02d48471-0d13-4c04-ba35-b5cccb8be30e",
   "metadata": {},
   "outputs": [
    {
     "data": {
      "text/plain": [
       "0.008309389504288908"
      ]
     },
     "execution_count": 21,
     "metadata": {},
     "output_type": "execute_result"
    }
   ],
   "source": [
    "mean(df[df.strain .== \"MG1655_supp_1\", :lambda_max])"
   ]
  },
  {
   "cell_type": "code",
   "execution_count": 22,
   "id": "0a50b71c-adf4-4877-a01f-29169711f65e",
   "metadata": {},
   "outputs": [
    {
     "data": {
      "text/plain": [
       "0.008082240225936769"
      ]
     },
     "execution_count": 22,
     "metadata": {},
     "output_type": "execute_result"
    }
   ],
   "source": [
    "mean(df[df.strain .== \"MG1655_supp_2\", :lambda_max])"
   ]
  },
  {
   "cell_type": "code",
   "execution_count": 23,
   "id": "05e52e31-c656-4701-b551-1a6a9006b974",
   "metadata": {},
   "outputs": [
    {
     "data": {
      "text/plain": [
       "0.008300562793641922"
      ]
     },
     "execution_count": 23,
     "metadata": {},
     "output_type": "execute_result"
    }
   ],
   "source": [
    "mean(df[df.strain .== \"MG1655_supp_3\", :lambda_max])"
   ]
  },
  {
   "cell_type": "code",
   "execution_count": null,
   "id": "83e1aba4-6d39-4d1b-b938-42a0abcc4af7",
   "metadata": {},
   "outputs": [],
   "source": []
  }
 ],
 "metadata": {
  "kernelspec": {
   "display_name": "Julia 1.6.0",
   "language": "julia",
   "name": "julia-1.6"
  },
  "language_info": {
   "file_extension": ".jl",
   "mimetype": "application/julia",
   "name": "julia",
   "version": "1.6.0"
  }
 },
 "nbformat": 4,
 "nbformat_minor": 5
}
